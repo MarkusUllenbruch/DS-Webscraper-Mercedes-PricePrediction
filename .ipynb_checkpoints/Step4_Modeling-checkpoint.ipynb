{
 "cells": [
  {
   "cell_type": "markdown",
   "metadata": {},
   "source": [
    "# Model Building"
   ]
  },
  {
   "cell_type": "code",
   "execution_count": 1,
   "metadata": {},
   "outputs": [],
   "source": [
    "import numpy as np\n",
    "import pandas as pd\n",
    "import statsmodels.api as sm\n",
    "from sklearn.preprocessing import StandardScaler, MinMaxScaler, RobustScaler\n",
    "from sklearn.model_selection import train_test_split\n",
    "import matplotlib.pyplot as plt\n",
    "import seaborn as sns"
   ]
  },
  {
   "cell_type": "code",
   "execution_count": 2,
   "metadata": {},
   "outputs": [],
   "source": [
    "data = pd.read_csv('data_cleaned.csv')"
   ]
  },
  {
   "cell_type": "code",
   "execution_count": 3,
   "metadata": {},
   "outputs": [
    {
     "name": "stdout",
     "output_type": "stream",
     "text": [
      "<class 'pandas.core.frame.DataFrame'>\n",
      "RangeIndex: 11974 entries, 0 to 11973\n",
      "Data columns (total 33 columns):\n",
      " #   Column          Non-Null Count  Dtype  \n",
      "---  ------          --------------  -----  \n",
      " 0   Unnamed: 0      11974 non-null  int64  \n",
      " 1   carname         11974 non-null  object \n",
      " 2   price           11974 non-null  float64\n",
      " 3   milage          11974 non-null  float64\n",
      " 4   hubraum         11974 non-null  float64\n",
      " 5   transmission    11974 non-null  object \n",
      " 6   num_seats       11974 non-null  object \n",
      " 7   num_doors       11974 non-null  object \n",
      " 8   emission_class  11974 non-null  object \n",
      " 9   car_type        11974 non-null  object \n",
      " 10  num_owners      11974 non-null  object \n",
      " 11  age             11974 non-null  float64\n",
      " 12  power_ps        11974 non-null  float64\n",
      " 13  power_kw        11974 non-null  float64\n",
      " 14  Schaden         11974 non-null  object \n",
      " 15  Model           11974 non-null  object \n",
      " 16  amg             11974 non-null  int64  \n",
      " 17  mc_laren        11974 non-null  int64  \n",
      " 18  blk_series      11974 non-null  int64  \n",
      " 19  blue_eff        11974 non-null  int64  \n",
      " 20  g_pow           11974 non-null  int64  \n",
      " 21  brabus          11974 non-null  int64  \n",
      " 22  avantgarde      11974 non-null  int64  \n",
      " 23  elegance        11974 non-null  int64  \n",
      " 24  tag_63          11974 non-null  int64  \n",
      " 25  tag_65          11974 non-null  int64  \n",
      " 26  tag_55          11974 non-null  int64  \n",
      " 27  tüv             11974 non-null  int64  \n",
      " 28  E10             11974 non-null  int64  \n",
      " 29  biodiesel       11974 non-null  int64  \n",
      " 30  pflanzenöl      11974 non-null  int64  \n",
      " 31  electric        11974 non-null  int64  \n",
      " 32  fueltype        11974 non-null  object \n",
      "dtypes: float64(6), int64(17), object(10)\n",
      "memory usage: 3.0+ MB\n"
     ]
    }
   ],
   "source": [
    "data.info()"
   ]
  },
  {
   "cell_type": "code",
   "execution_count": 4,
   "metadata": {},
   "outputs": [
    {
     "data": {
      "text/plain": [
       "Index(['Unnamed: 0', 'carname', 'price', 'milage', 'hubraum', 'transmission',\n",
       "       'num_seats', 'num_doors', 'emission_class', 'car_type', 'num_owners',\n",
       "       'age', 'power_ps', 'power_kw', 'Schaden', 'Model', 'amg', 'mc_laren',\n",
       "       'blk_series', 'blue_eff', 'g_pow', 'brabus', 'avantgarde', 'elegance',\n",
       "       'tag_63', 'tag_65', 'tag_55', 'tüv', 'E10', 'biodiesel', 'pflanzenöl',\n",
       "       'electric', 'fueltype'],\n",
       "      dtype='object')"
      ]
     },
     "execution_count": 4,
     "metadata": {},
     "output_type": "execute_result"
    }
   ],
   "source": [
    "data.columns"
   ]
  },
  {
   "cell_type": "code",
   "execution_count": 5,
   "metadata": {},
   "outputs": [],
   "source": [
    "data_dummies = data.drop(['carname', 'Unnamed: 0', 'power_kw'], axis=1)"
   ]
  },
  {
   "cell_type": "code",
   "execution_count": 6,
   "metadata": {},
   "outputs": [
    {
     "name": "stdout",
     "output_type": "stream",
     "text": [
      "<class 'pandas.core.frame.DataFrame'>\n",
      "RangeIndex: 11974 entries, 0 to 11973\n",
      "Data columns (total 30 columns):\n",
      " #   Column          Non-Null Count  Dtype  \n",
      "---  ------          --------------  -----  \n",
      " 0   price           11974 non-null  float64\n",
      " 1   milage          11974 non-null  float64\n",
      " 2   hubraum         11974 non-null  float64\n",
      " 3   transmission    11974 non-null  object \n",
      " 4   num_seats       11974 non-null  object \n",
      " 5   num_doors       11974 non-null  object \n",
      " 6   emission_class  11974 non-null  object \n",
      " 7   car_type        11974 non-null  object \n",
      " 8   num_owners      11974 non-null  object \n",
      " 9   age             11974 non-null  float64\n",
      " 10  power_ps        11974 non-null  float64\n",
      " 11  Schaden         11974 non-null  object \n",
      " 12  Model           11974 non-null  object \n",
      " 13  amg             11974 non-null  int64  \n",
      " 14  mc_laren        11974 non-null  int64  \n",
      " 15  blk_series      11974 non-null  int64  \n",
      " 16  blue_eff        11974 non-null  int64  \n",
      " 17  g_pow           11974 non-null  int64  \n",
      " 18  brabus          11974 non-null  int64  \n",
      " 19  avantgarde      11974 non-null  int64  \n",
      " 20  elegance        11974 non-null  int64  \n",
      " 21  tag_63          11974 non-null  int64  \n",
      " 22  tag_65          11974 non-null  int64  \n",
      " 23  tag_55          11974 non-null  int64  \n",
      " 24  tüv             11974 non-null  int64  \n",
      " 25  E10             11974 non-null  int64  \n",
      " 26  biodiesel       11974 non-null  int64  \n",
      " 27  pflanzenöl      11974 non-null  int64  \n",
      " 28  electric        11974 non-null  int64  \n",
      " 29  fueltype        11974 non-null  object \n",
      "dtypes: float64(5), int64(16), object(9)\n",
      "memory usage: 2.7+ MB\n"
     ]
    }
   ],
   "source": [
    "data_dummies.info()"
   ]
  },
  {
   "cell_type": "code",
   "execution_count": 7,
   "metadata": {},
   "outputs": [],
   "source": [
    "data_dummies = pd.get_dummies(data_dummies, dtype=float)"
   ]
  },
  {
   "cell_type": "code",
   "execution_count": 8,
   "metadata": {},
   "outputs": [
    {
     "name": "stdout",
     "output_type": "stream",
     "text": [
      "<class 'pandas.core.frame.DataFrame'>\n",
      "RangeIndex: 11974 entries, 0 to 11973\n",
      "Columns: 108 entries, price to fueltype_na\n",
      "dtypes: float64(92), int64(16)\n",
      "memory usage: 9.9 MB\n"
     ]
    }
   ],
   "source": [
    "data_dummies.info()"
   ]
  },
  {
   "cell_type": "code",
   "execution_count": 9,
   "metadata": {},
   "outputs": [],
   "source": [
    "data_dummies = data_dummies.astype(float)"
   ]
  },
  {
   "cell_type": "code",
   "execution_count": 10,
   "metadata": {},
   "outputs": [
    {
     "name": "stdout",
     "output_type": "stream",
     "text": [
      "<class 'pandas.core.frame.DataFrame'>\n",
      "RangeIndex: 11974 entries, 0 to 11973\n",
      "Columns: 108 entries, price to fueltype_na\n",
      "dtypes: float64(108)\n",
      "memory usage: 9.9 MB\n"
     ]
    }
   ],
   "source": [
    "data_dummies.info()"
   ]
  },
  {
   "cell_type": "markdown",
   "metadata": {},
   "source": [
    "### Split Training & Test Data"
   ]
  },
  {
   "cell_type": "code",
   "execution_count": 11,
   "metadata": {},
   "outputs": [],
   "source": [
    "data_train, data_test = train_test_split(data_dummies, test_size = 0.15, shuffle=True)"
   ]
  },
  {
   "cell_type": "markdown",
   "metadata": {},
   "source": [
    "### Make Features and label data"
   ]
  },
  {
   "cell_type": "code",
   "execution_count": 12,
   "metadata": {},
   "outputs": [],
   "source": [
    "y_train = data_train[[\"price\"]]  #Labels\n",
    "X_train = data_train.drop(\"price\", axis=1)  #Features\n",
    "\n",
    "y_test = data_test[[\"price\"]]  #Labels\n",
    "X_test = data_test.drop(\"price\", axis=1)  #Features"
   ]
  },
  {
   "cell_type": "markdown",
   "metadata": {},
   "source": [
    "### Scale features and labels"
   ]
  },
  {
   "cell_type": "code",
   "execution_count": 13,
   "metadata": {},
   "outputs": [],
   "source": [
    "method = 'MinMax'\n",
    "\n",
    "if method == 'Standard':\n",
    "    scalerx = StandardScaler().fit(X_train)\n",
    "    scalery = StandardScaler().fit(y_train)\n",
    "    \n",
    "elif method == 'MinMax':\n",
    "    scalerx = MinMaxScaler().fit(X_train)\n",
    "    scalery = MinMaxScaler().fit(y_train)\n",
    "    \n",
    "elif method == 'Robust':\n",
    "    scalerx = RobustScaler().fit(X_train)\n",
    "    scalery = RobustScaler().fit(y_train)"
   ]
  },
  {
   "cell_type": "code",
   "execution_count": 14,
   "metadata": {},
   "outputs": [],
   "source": [
    "X_train = pd.DataFrame(scalerx.transform(X_train), columns=X_train.columns)\n",
    "y_train = pd.DataFrame(scalery.transform(y_train), columns=y_train.columns)\n",
    "y_train = y_train.T.squeeze()\n",
    "\n",
    "X_test = pd.DataFrame(scalerx.transform(X_test), columns=X_test.columns)\n",
    "y_test = pd.DataFrame(scalery.transform(y_test), columns=y_test.columns)\n",
    "y_test = y_test.T.squeeze()"
   ]
  },
  {
   "cell_type": "markdown",
   "metadata": {},
   "source": [
    "### Automating Feature Selection and Regression Model Building"
   ]
  },
  {
   "cell_type": "code",
   "execution_count": 15,
   "metadata": {},
   "outputs": [
    {
     "name": "stdout",
     "output_type": "stream",
     "text": [
      "Dropping features with p-value P(t) > 0.05: \n",
      "\n",
      "1. Dropped num_owners_4 with p-value 0.9772140307493434\n",
      "2. Dropped num_owners_5 with p-value 0.9310298530026121\n",
      "3. Dropped fueltype_Hybrid with p-value 0.8674739752399888\n",
      "4. Dropped Model_GL with p-value 0.7396580280943845\n",
      "5. Dropped Model_OTHER with p-value 0.7393411785345889\n",
      "6. Dropped emission_class_Euro6c with p-value 0.752487137831559\n",
      "7. Dropped fueltype_Erdgas with p-value 0.6956546095116038\n",
      "8. Dropped num_owners_na with p-value 0.6917252897234871\n",
      "9. Dropped num_seats_19 with p-value 0.6846582676051813\n",
      "10. Dropped num_seats_2 with p-value 0.9941244733307373\n",
      "11. Dropped car_type_kombi with p-value 0.9411018852255373\n",
      "12. Dropped num_seats_15 with p-value 0.6961406535870811\n",
      "13. Dropped num_owners_9 with p-value 0.6666427648794327\n",
      "14. Dropped num_seats_17 with p-value 0.9889104387406686\n",
      "15. Dropped car_type_suv with p-value 0.5903473527580252\n",
      "16. Dropped num_owners_6 with p-value 0.5636614719855519\n",
      "17. Dropped fueltype_na with p-value 0.546649447595407\n",
      "18. Dropped fueltype_Diesel with p-value 0.7096849687390816\n",
      "19. Dropped emission_class_Euro6d-TEMP with p-value 0.4109617262506233\n",
      "20. Dropped pflanzenöl with p-value 0.3748599692999842\n",
      "21. Dropped biodiesel with p-value 0.3407691539461828\n",
      "22. Dropped mc_laren with p-value 0.7592996507628239\n",
      "23. Dropped num_seats_21 with p-value 0.22173864701477805\n",
      "24. Dropped fueltype_Autogas with p-value 0.19550865091427005\n",
      "25. Dropped g_pow with p-value 0.23444053855434815\n",
      "26. Dropped num_owners_0 with p-value 0.1912644219363559\n",
      "27. Dropped emission_class_Euro3 with p-value 0.1836774321122344\n",
      "28. Dropped transmission_Halbautomatik with p-value 0.16553553263290618\n",
      "29. Dropped transmission_Schaltgetriebe with p-value 0.9047858448690697\n",
      "30. Dropped car_type_limousine with p-value 0.1569255948034049\n",
      "31. Dropped brabus with p-value 0.09929281205238889\n",
      "32. Dropped Model_V-Klasse with p-value 0.09745532936138865\n",
      "33. Dropped transmission_-1 with p-value 0.05610644794723534\n",
      "34. Dropped fueltype_Andere with p-value 0.055477121654751334\n",
      "35. Dropped avantgarde with p-value 0.05188709417846389\n",
      "\n",
      "\n",
      "Selected features: \n",
      "\n",
      " ['milage', 'hubraum', 'age', 'power_ps', 'amg', 'blk_series', 'blue_eff', 'elegance', 'tag_63', 'tag_65', 'tag_55', 'tüv', 'E10', 'electric', 'transmission_Automatik', 'num_seats_20', 'num_seats_3', 'num_seats_4', 'num_seats_5', 'num_seats_6', 'num_seats_7', 'num_seats_8', 'num_seats_9', 'num_seats_na', 'num_doors_2/3', 'num_doors_4/5', 'num_doors_6/7', 'num_doors_na', 'emission_class_Euro1', 'emission_class_Euro2', 'emission_class_Euro4', 'emission_class_Euro5', 'emission_class_Euro6', 'emission_class_Euro6d', 'emission_class_na', 'car_type_andere', 'car_type_cabrio', 'car_type_kleinwagen', 'car_type_sport', 'car_type_van', 'num_owners_1', 'num_owners_2', 'num_owners_3', 'Schaden_na', 'Schaden_repaired', 'Schaden_without', 'Model_A-Klasse', 'Model_B-Klasse', 'Model_C-Klasse', 'Model_CL', 'Model_CLA', 'Model_CLC', 'Model_CLK', 'Model_E-Klasse', 'Model_G-Klasse', 'Model_GLA', 'Model_GLB', 'Model_GLC', 'Model_GLE', 'Model_GLK', 'Model_GLS', 'Model_GT', 'Model_M-Klasse', 'Model_MarcoPolo', 'Model_R-Klasse', 'Model_S-Klasse', 'Model_SL', 'Model_Sprinter', 'Model_Vaneo', 'Model_Vito', 'fueltype_Benzin', 'fueltype_Elektro']\n"
     ]
    }
   ],
   "source": [
    "print('Dropping features with p-value P(t) > 0.05: \\n')\n",
    "cols = list(X_train.columns)\n",
    "pmax = 1\n",
    "i = 1\n",
    "while (len(cols) > 0):\n",
    "    p = []\n",
    "    X_1 = X_train\n",
    "    X_1 = sm.add_constant(X_1)\n",
    "    model = sm.OLS(y_train, X_1).fit()\n",
    "    p = pd.Series(model.pvalues.values[1:], index = cols)\n",
    "    pmax = max(p)\n",
    "    feature_with_p_max = p.idxmax()\n",
    "    if pmax > 0.05:\n",
    "        cols.remove(feature_with_p_max)\n",
    "        X_train = X_train.drop(feature_with_p_max, axis=1)\n",
    "        X_test = X_test.drop(feature_with_p_max, axis=1)\n",
    "        print(str(i) + '. Dropped', feature_with_p_max, 'with p-value', pmax)\n",
    "        i += 1\n",
    "    else:\n",
    "        break\n",
    "selected_features = cols\n",
    "print('\\n\\nSelected features: \\n\\n', selected_features)"
   ]
  },
  {
   "cell_type": "code",
   "execution_count": 16,
   "metadata": {},
   "outputs": [
    {
     "data": {
      "text/plain": [
       "(10177, 72)"
      ]
     },
     "execution_count": 16,
     "metadata": {},
     "output_type": "execute_result"
    }
   ],
   "source": [
    "X_train.shape"
   ]
  },
  {
   "cell_type": "code",
   "execution_count": 17,
   "metadata": {},
   "outputs": [
    {
     "data": {
      "text/plain": [
       "pandas.core.frame.DataFrame"
      ]
     },
     "execution_count": 17,
     "metadata": {},
     "output_type": "execute_result"
    }
   ],
   "source": [
    "type(X_train)"
   ]
  },
  {
   "cell_type": "code",
   "execution_count": 18,
   "metadata": {},
   "outputs": [
    {
     "data": {
      "text/plain": [
       "(1797, 72)"
      ]
     },
     "execution_count": 18,
     "metadata": {},
     "output_type": "execute_result"
    }
   ],
   "source": [
    "X_test.shape"
   ]
  },
  {
   "cell_type": "code",
   "execution_count": 19,
   "metadata": {},
   "outputs": [
    {
     "data": {
      "text/plain": [
       "pandas.core.frame.DataFrame"
      ]
     },
     "execution_count": 19,
     "metadata": {},
     "output_type": "execute_result"
    }
   ],
   "source": [
    "type(X_test)"
   ]
  },
  {
   "cell_type": "code",
   "execution_count": 20,
   "metadata": {},
   "outputs": [
    {
     "data": {
      "text/html": [
       "<table class=\"simpletable\">\n",
       "<caption>OLS Regression Results</caption>\n",
       "<tr>\n",
       "  <th>Dep. Variable:</th>          <td>price</td>      <th>  R-squared:         </th>  <td>   0.873</td> \n",
       "</tr>\n",
       "<tr>\n",
       "  <th>Model:</th>                   <td>OLS</td>       <th>  Adj. R-squared:    </th>  <td>   0.872</td> \n",
       "</tr>\n",
       "<tr>\n",
       "  <th>Method:</th>             <td>Least Squares</td>  <th>  F-statistic:       </th>  <td>   992.5</td> \n",
       "</tr>\n",
       "<tr>\n",
       "  <th>Date:</th>             <td>Sun, 10 Jan 2021</td> <th>  Prob (F-statistic):</th>   <td>  0.00</td>  \n",
       "</tr>\n",
       "<tr>\n",
       "  <th>Time:</th>                 <td>20:36:22</td>     <th>  Log-Likelihood:    </th>  <td>  10700.</td> \n",
       "</tr>\n",
       "<tr>\n",
       "  <th>No. Observations:</th>      <td> 10177</td>      <th>  AIC:               </th> <td>-2.126e+04</td>\n",
       "</tr>\n",
       "<tr>\n",
       "  <th>Df Residuals:</th>          <td> 10106</td>      <th>  BIC:               </th> <td>-2.075e+04</td>\n",
       "</tr>\n",
       "<tr>\n",
       "  <th>Df Model:</th>              <td>    70</td>      <th>                     </th>      <td> </td>    \n",
       "</tr>\n",
       "<tr>\n",
       "  <th>Covariance Type:</th>      <td>nonrobust</td>    <th>                     </th>      <td> </td>    \n",
       "</tr>\n",
       "</table>\n",
       "<table class=\"simpletable\">\n",
       "<tr>\n",
       "             <td></td>               <th>coef</th>     <th>std err</th>      <th>t</th>      <th>P>|t|</th>  <th>[0.025</th>    <th>0.975]</th>  \n",
       "</tr>\n",
       "<tr>\n",
       "  <th>const</th>                  <td>    0.1739</td> <td>    0.010</td> <td>   16.709</td> <td> 0.000</td> <td>    0.154</td> <td>    0.194</td>\n",
       "</tr>\n",
       "<tr>\n",
       "  <th>milage</th>                 <td>   -0.3446</td> <td>    0.013</td> <td>  -26.462</td> <td> 0.000</td> <td>   -0.370</td> <td>   -0.319</td>\n",
       "</tr>\n",
       "<tr>\n",
       "  <th>hubraum</th>                <td>   -0.1210</td> <td>    0.015</td> <td>   -7.813</td> <td> 0.000</td> <td>   -0.151</td> <td>   -0.091</td>\n",
       "</tr>\n",
       "<tr>\n",
       "  <th>age</th>                    <td>   -0.2339</td> <td>    0.010</td> <td>  -22.781</td> <td> 0.000</td> <td>   -0.254</td> <td>   -0.214</td>\n",
       "</tr>\n",
       "<tr>\n",
       "  <th>power_ps</th>               <td>    0.7368</td> <td>    0.015</td> <td>   47.807</td> <td> 0.000</td> <td>    0.707</td> <td>    0.767</td>\n",
       "</tr>\n",
       "<tr>\n",
       "  <th>amg</th>                    <td>    0.0166</td> <td>    0.002</td> <td>    6.762</td> <td> 0.000</td> <td>    0.012</td> <td>    0.021</td>\n",
       "</tr>\n",
       "<tr>\n",
       "  <th>blk_series</th>             <td>    0.1979</td> <td>    0.038</td> <td>    5.151</td> <td> 0.000</td> <td>    0.123</td> <td>    0.273</td>\n",
       "</tr>\n",
       "<tr>\n",
       "  <th>blue_eff</th>               <td>   -0.0155</td> <td>    0.004</td> <td>   -3.853</td> <td> 0.000</td> <td>   -0.023</td> <td>   -0.008</td>\n",
       "</tr>\n",
       "<tr>\n",
       "  <th>elegance</th>               <td>    0.0176</td> <td>    0.007</td> <td>    2.464</td> <td> 0.014</td> <td>    0.004</td> <td>    0.032</td>\n",
       "</tr>\n",
       "<tr>\n",
       "  <th>tag_63</th>                 <td>   -0.0252</td> <td>    0.005</td> <td>   -5.310</td> <td> 0.000</td> <td>   -0.035</td> <td>   -0.016</td>\n",
       "</tr>\n",
       "<tr>\n",
       "  <th>tag_65</th>                 <td>    0.0305</td> <td>    0.015</td> <td>    2.098</td> <td> 0.036</td> <td>    0.002</td> <td>    0.059</td>\n",
       "</tr>\n",
       "<tr>\n",
       "  <th>tag_55</th>                 <td>   -0.0875</td> <td>    0.018</td> <td>   -4.845</td> <td> 0.000</td> <td>   -0.123</td> <td>   -0.052</td>\n",
       "</tr>\n",
       "<tr>\n",
       "  <th>tüv</th>                    <td>    0.0157</td> <td>    0.005</td> <td>    3.068</td> <td> 0.002</td> <td>    0.006</td> <td>    0.026</td>\n",
       "</tr>\n",
       "<tr>\n",
       "  <th>E10</th>                    <td>   -0.0148</td> <td>    0.003</td> <td>   -4.283</td> <td> 0.000</td> <td>   -0.022</td> <td>   -0.008</td>\n",
       "</tr>\n",
       "<tr>\n",
       "  <th>electric</th>               <td>    0.0625</td> <td>    0.004</td> <td>   14.334</td> <td> 0.000</td> <td>    0.054</td> <td>    0.071</td>\n",
       "</tr>\n",
       "<tr>\n",
       "  <th>transmission_Automatik</th> <td>   -0.0156</td> <td>    0.003</td> <td>   -5.601</td> <td> 0.000</td> <td>   -0.021</td> <td>   -0.010</td>\n",
       "</tr>\n",
       "<tr>\n",
       "  <th>num_seats_20</th>           <td>    0.2226</td> <td>    0.085</td> <td>    2.607</td> <td> 0.009</td> <td>    0.055</td> <td>    0.390</td>\n",
       "</tr>\n",
       "<tr>\n",
       "  <th>num_seats_3</th>            <td>   -0.0946</td> <td>    0.011</td> <td>   -8.425</td> <td> 0.000</td> <td>   -0.117</td> <td>   -0.073</td>\n",
       "</tr>\n",
       "<tr>\n",
       "  <th>num_seats_4</th>            <td>   -0.0641</td> <td>    0.007</td> <td>   -9.756</td> <td> 0.000</td> <td>   -0.077</td> <td>   -0.051</td>\n",
       "</tr>\n",
       "<tr>\n",
       "  <th>num_seats_5</th>            <td>   -0.0751</td> <td>    0.007</td> <td>  -10.138</td> <td> 0.000</td> <td>   -0.090</td> <td>   -0.061</td>\n",
       "</tr>\n",
       "<tr>\n",
       "  <th>num_seats_6</th>            <td>   -0.0411</td> <td>    0.010</td> <td>   -4.158</td> <td> 0.000</td> <td>   -0.060</td> <td>   -0.022</td>\n",
       "</tr>\n",
       "<tr>\n",
       "  <th>num_seats_7</th>            <td>   -0.0374</td> <td>    0.009</td> <td>   -4.110</td> <td> 0.000</td> <td>   -0.055</td> <td>   -0.020</td>\n",
       "</tr>\n",
       "<tr>\n",
       "  <th>num_seats_8</th>            <td>   -0.0584</td> <td>    0.011</td> <td>   -5.437</td> <td> 0.000</td> <td>   -0.079</td> <td>   -0.037</td>\n",
       "</tr>\n",
       "<tr>\n",
       "  <th>num_seats_9</th>            <td>   -0.0505</td> <td>    0.014</td> <td>   -3.609</td> <td> 0.000</td> <td>   -0.078</td> <td>   -0.023</td>\n",
       "</tr>\n",
       "<tr>\n",
       "  <th>num_seats_na</th>           <td>   -0.0217</td> <td>    0.008</td> <td>   -2.609</td> <td> 0.009</td> <td>   -0.038</td> <td>   -0.005</td>\n",
       "</tr>\n",
       "<tr>\n",
       "  <th>num_doors_2/3</th>          <td>    0.0579</td> <td>    0.011</td> <td>    5.079</td> <td> 0.000</td> <td>    0.036</td> <td>    0.080</td>\n",
       "</tr>\n",
       "<tr>\n",
       "  <th>num_doors_4/5</th>          <td>    0.0636</td> <td>    0.011</td> <td>    5.888</td> <td> 0.000</td> <td>    0.042</td> <td>    0.085</td>\n",
       "</tr>\n",
       "<tr>\n",
       "  <th>num_doors_6/7</th>          <td>    0.0894</td> <td>    0.039</td> <td>    2.278</td> <td> 0.023</td> <td>    0.012</td> <td>    0.166</td>\n",
       "</tr>\n",
       "<tr>\n",
       "  <th>num_doors_na</th>           <td>   -0.0370</td> <td>    0.012</td> <td>   -3.149</td> <td> 0.002</td> <td>   -0.060</td> <td>   -0.014</td>\n",
       "</tr>\n",
       "<tr>\n",
       "  <th>emission_class_Euro1</th>   <td>    0.0946</td> <td>    0.033</td> <td>    2.902</td> <td> 0.004</td> <td>    0.031</td> <td>    0.158</td>\n",
       "</tr>\n",
       "<tr>\n",
       "  <th>emission_class_Euro2</th>   <td>    0.0530</td> <td>    0.019</td> <td>    2.851</td> <td> 0.004</td> <td>    0.017</td> <td>    0.089</td>\n",
       "</tr>\n",
       "<tr>\n",
       "  <th>emission_class_Euro4</th>   <td>   -0.0382</td> <td>    0.005</td> <td>   -7.973</td> <td> 0.000</td> <td>   -0.048</td> <td>   -0.029</td>\n",
       "</tr>\n",
       "<tr>\n",
       "  <th>emission_class_Euro5</th>   <td>   -0.0545</td> <td>    0.004</td> <td>  -12.719</td> <td> 0.000</td> <td>   -0.063</td> <td>   -0.046</td>\n",
       "</tr>\n",
       "<tr>\n",
       "  <th>emission_class_Euro6</th>   <td>   -0.0371</td> <td>    0.003</td> <td>  -14.254</td> <td> 0.000</td> <td>   -0.042</td> <td>   -0.032</td>\n",
       "</tr>\n",
       "<tr>\n",
       "  <th>emission_class_Euro6d</th>  <td>    0.0343</td> <td>    0.004</td> <td>    7.647</td> <td> 0.000</td> <td>    0.025</td> <td>    0.043</td>\n",
       "</tr>\n",
       "<tr>\n",
       "  <th>emission_class_na</th>      <td>    0.0218</td> <td>    0.004</td> <td>    5.696</td> <td> 0.000</td> <td>    0.014</td> <td>    0.029</td>\n",
       "</tr>\n",
       "<tr>\n",
       "  <th>car_type_andere</th>        <td>    0.0230</td> <td>    0.005</td> <td>    4.486</td> <td> 0.000</td> <td>    0.013</td> <td>    0.033</td>\n",
       "</tr>\n",
       "<tr>\n",
       "  <th>car_type_cabrio</th>        <td>    0.0835</td> <td>    0.007</td> <td>   12.711</td> <td> 0.000</td> <td>    0.071</td> <td>    0.096</td>\n",
       "</tr>\n",
       "<tr>\n",
       "  <th>car_type_kleinwagen</th>    <td>    0.0278</td> <td>    0.007</td> <td>    4.265</td> <td> 0.000</td> <td>    0.015</td> <td>    0.041</td>\n",
       "</tr>\n",
       "<tr>\n",
       "  <th>car_type_sport</th>         <td>    0.0246</td> <td>    0.003</td> <td>    7.171</td> <td> 0.000</td> <td>    0.018</td> <td>    0.031</td>\n",
       "</tr>\n",
       "<tr>\n",
       "  <th>car_type_van</th>           <td>    0.0215</td> <td>    0.004</td> <td>    4.913</td> <td> 0.000</td> <td>    0.013</td> <td>    0.030</td>\n",
       "</tr>\n",
       "<tr>\n",
       "  <th>num_owners_1</th>           <td>    0.0101</td> <td>    0.003</td> <td>    3.125</td> <td> 0.002</td> <td>    0.004</td> <td>    0.017</td>\n",
       "</tr>\n",
       "<tr>\n",
       "  <th>num_owners_2</th>           <td>   -0.0152</td> <td>    0.003</td> <td>   -4.517</td> <td> 0.000</td> <td>   -0.022</td> <td>   -0.009</td>\n",
       "</tr>\n",
       "<tr>\n",
       "  <th>num_owners_3</th>           <td>   -0.0207</td> <td>    0.006</td> <td>   -3.500</td> <td> 0.000</td> <td>   -0.032</td> <td>   -0.009</td>\n",
       "</tr>\n",
       "<tr>\n",
       "  <th>Schaden_na</th>             <td>    0.0495</td> <td>    0.005</td> <td>   10.578</td> <td> 0.000</td> <td>    0.040</td> <td>    0.059</td>\n",
       "</tr>\n",
       "<tr>\n",
       "  <th>Schaden_repaired</th>       <td>    0.0515</td> <td>    0.009</td> <td>    5.745</td> <td> 0.000</td> <td>    0.034</td> <td>    0.069</td>\n",
       "</tr>\n",
       "<tr>\n",
       "  <th>Schaden_without</th>        <td>    0.0729</td> <td>    0.005</td> <td>   15.815</td> <td> 0.000</td> <td>    0.064</td> <td>    0.082</td>\n",
       "</tr>\n",
       "<tr>\n",
       "  <th>Model_A-Klasse</th>         <td>   -0.0580</td> <td>    0.005</td> <td>  -10.609</td> <td> 0.000</td> <td>   -0.069</td> <td>   -0.047</td>\n",
       "</tr>\n",
       "<tr>\n",
       "  <th>Model_B-Klasse</th>         <td>   -0.0781</td> <td>    0.006</td> <td>  -13.527</td> <td> 0.000</td> <td>   -0.089</td> <td>   -0.067</td>\n",
       "</tr>\n",
       "<tr>\n",
       "  <th>Model_C-Klasse</th>         <td>   -0.0515</td> <td>    0.004</td> <td>  -11.565</td> <td> 0.000</td> <td>   -0.060</td> <td>   -0.043</td>\n",
       "</tr>\n",
       "<tr>\n",
       "  <th>Model_CL</th>               <td>   -0.0419</td> <td>    0.006</td> <td>   -6.605</td> <td> 0.000</td> <td>   -0.054</td> <td>   -0.029</td>\n",
       "</tr>\n",
       "<tr>\n",
       "  <th>Model_CLA</th>              <td>   -0.0780</td> <td>    0.007</td> <td>  -10.784</td> <td> 0.000</td> <td>   -0.092</td> <td>   -0.064</td>\n",
       "</tr>\n",
       "<tr>\n",
       "  <th>Model_CLC</th>              <td>   -0.0941</td> <td>    0.021</td> <td>   -4.436</td> <td> 0.000</td> <td>   -0.136</td> <td>   -0.053</td>\n",
       "</tr>\n",
       "<tr>\n",
       "  <th>Model_CLK</th>              <td>   -0.0494</td> <td>    0.010</td> <td>   -5.059</td> <td> 0.000</td> <td>   -0.069</td> <td>   -0.030</td>\n",
       "</tr>\n",
       "<tr>\n",
       "  <th>Model_E-Klasse</th>         <td>   -0.0447</td> <td>    0.004</td> <td>  -10.195</td> <td> 0.000</td> <td>   -0.053</td> <td>   -0.036</td>\n",
       "</tr>\n",
       "<tr>\n",
       "  <th>Model_G-Klasse</th>         <td>    0.2664</td> <td>    0.007</td> <td>   38.641</td> <td> 0.000</td> <td>    0.253</td> <td>    0.280</td>\n",
       "</tr>\n",
       "<tr>\n",
       "  <th>Model_GLA</th>              <td>   -0.0754</td> <td>    0.008</td> <td>   -9.328</td> <td> 0.000</td> <td>   -0.091</td> <td>   -0.060</td>\n",
       "</tr>\n",
       "<tr>\n",
       "  <th>Model_GLB</th>              <td>   -0.0349</td> <td>    0.013</td> <td>   -2.609</td> <td> 0.009</td> <td>   -0.061</td> <td>   -0.009</td>\n",
       "</tr>\n",
       "<tr>\n",
       "  <th>Model_GLC</th>              <td>   -0.0293</td> <td>    0.006</td> <td>   -5.109</td> <td> 0.000</td> <td>   -0.040</td> <td>   -0.018</td>\n",
       "</tr>\n",
       "<tr>\n",
       "  <th>Model_GLE</th>              <td>    0.0810</td> <td>    0.005</td> <td>   15.285</td> <td> 0.000</td> <td>    0.071</td> <td>    0.091</td>\n",
       "</tr>\n",
       "<tr>\n",
       "  <th>Model_GLK</th>              <td>   -0.0497</td> <td>    0.012</td> <td>   -4.313</td> <td> 0.000</td> <td>   -0.072</td> <td>   -0.027</td>\n",
       "</tr>\n",
       "<tr>\n",
       "  <th>Model_GLS</th>              <td>    0.1168</td> <td>    0.010</td> <td>   11.576</td> <td> 0.000</td> <td>    0.097</td> <td>    0.137</td>\n",
       "</tr>\n",
       "<tr>\n",
       "  <th>Model_GT</th>               <td>    0.1368</td> <td>    0.009</td> <td>   14.759</td> <td> 0.000</td> <td>    0.119</td> <td>    0.155</td>\n",
       "</tr>\n",
       "<tr>\n",
       "  <th>Model_M-Klasse</th>         <td>   -0.0476</td> <td>    0.008</td> <td>   -6.331</td> <td> 0.000</td> <td>   -0.062</td> <td>   -0.033</td>\n",
       "</tr>\n",
       "<tr>\n",
       "  <th>Model_MarcoPolo</th>        <td>    0.0891</td> <td>    0.014</td> <td>    6.330</td> <td> 0.000</td> <td>    0.062</td> <td>    0.117</td>\n",
       "</tr>\n",
       "<tr>\n",
       "  <th>Model_R-Klasse</th>         <td>    0.0524</td> <td>    0.013</td> <td>    3.988</td> <td> 0.000</td> <td>    0.027</td> <td>    0.078</td>\n",
       "</tr>\n",
       "<tr>\n",
       "  <th>Model_S-Klasse</th>         <td>    0.0899</td> <td>    0.005</td> <td>   17.413</td> <td> 0.000</td> <td>    0.080</td> <td>    0.100</td>\n",
       "</tr>\n",
       "<tr>\n",
       "  <th>Model_SL</th>               <td>   -0.0879</td> <td>    0.010</td> <td>   -8.729</td> <td> 0.000</td> <td>   -0.108</td> <td>   -0.068</td>\n",
       "</tr>\n",
       "<tr>\n",
       "  <th>Model_Sprinter</th>         <td>   -0.0475</td> <td>    0.007</td> <td>   -6.330</td> <td> 0.000</td> <td>   -0.062</td> <td>   -0.033</td>\n",
       "</tr>\n",
       "<tr>\n",
       "  <th>Model_Vaneo</th>            <td>   -0.1095</td> <td>    0.010</td> <td>  -10.494</td> <td> 0.000</td> <td>   -0.130</td> <td>   -0.089</td>\n",
       "</tr>\n",
       "<tr>\n",
       "  <th>Model_Vito</th>             <td>   -0.0738</td> <td>    0.007</td> <td>  -10.701</td> <td> 0.000</td> <td>   -0.087</td> <td>   -0.060</td>\n",
       "</tr>\n",
       "<tr>\n",
       "  <th>fueltype_Benzin</th>        <td>   -0.0280</td> <td>    0.003</td> <td>  -11.178</td> <td> 0.000</td> <td>   -0.033</td> <td>   -0.023</td>\n",
       "</tr>\n",
       "<tr>\n",
       "  <th>fueltype_Elektro</th>       <td>    0.0390</td> <td>    0.011</td> <td>    3.696</td> <td> 0.000</td> <td>    0.018</td> <td>    0.060</td>\n",
       "</tr>\n",
       "</table>\n",
       "<table class=\"simpletable\">\n",
       "<tr>\n",
       "  <th>Omnibus:</th>       <td>3697.026</td> <th>  Durbin-Watson:     </th> <td>   1.983</td> \n",
       "</tr>\n",
       "<tr>\n",
       "  <th>Prob(Omnibus):</th>  <td> 0.000</td>  <th>  Jarque-Bera (JB):  </th> <td>33727.203</td>\n",
       "</tr>\n",
       "<tr>\n",
       "  <th>Skew:</th>           <td> 1.483</td>  <th>  Prob(JB):          </th> <td>    0.00</td> \n",
       "</tr>\n",
       "<tr>\n",
       "  <th>Kurtosis:</th>       <td>11.411</td>  <th>  Cond. No.          </th> <td>7.13e+15</td> \n",
       "</tr>\n",
       "</table><br/><br/>Notes:<br/>[1] Standard Errors assume that the covariance matrix of the errors is correctly specified.<br/>[2] The smallest eigenvalue is 8.94e-28. This might indicate that there are<br/>strong multicollinearity problems or that the design matrix is singular."
      ],
      "text/plain": [
       "<class 'statsmodels.iolib.summary.Summary'>\n",
       "\"\"\"\n",
       "                            OLS Regression Results                            \n",
       "==============================================================================\n",
       "Dep. Variable:                  price   R-squared:                       0.873\n",
       "Model:                            OLS   Adj. R-squared:                  0.872\n",
       "Method:                 Least Squares   F-statistic:                     992.5\n",
       "Date:                Sun, 10 Jan 2021   Prob (F-statistic):               0.00\n",
       "Time:                        20:36:22   Log-Likelihood:                 10700.\n",
       "No. Observations:               10177   AIC:                        -2.126e+04\n",
       "Df Residuals:                   10106   BIC:                        -2.075e+04\n",
       "Df Model:                          70                                         \n",
       "Covariance Type:            nonrobust                                         \n",
       "==========================================================================================\n",
       "                             coef    std err          t      P>|t|      [0.025      0.975]\n",
       "------------------------------------------------------------------------------------------\n",
       "const                      0.1739      0.010     16.709      0.000       0.154       0.194\n",
       "milage                    -0.3446      0.013    -26.462      0.000      -0.370      -0.319\n",
       "hubraum                   -0.1210      0.015     -7.813      0.000      -0.151      -0.091\n",
       "age                       -0.2339      0.010    -22.781      0.000      -0.254      -0.214\n",
       "power_ps                   0.7368      0.015     47.807      0.000       0.707       0.767\n",
       "amg                        0.0166      0.002      6.762      0.000       0.012       0.021\n",
       "blk_series                 0.1979      0.038      5.151      0.000       0.123       0.273\n",
       "blue_eff                  -0.0155      0.004     -3.853      0.000      -0.023      -0.008\n",
       "elegance                   0.0176      0.007      2.464      0.014       0.004       0.032\n",
       "tag_63                    -0.0252      0.005     -5.310      0.000      -0.035      -0.016\n",
       "tag_65                     0.0305      0.015      2.098      0.036       0.002       0.059\n",
       "tag_55                    -0.0875      0.018     -4.845      0.000      -0.123      -0.052\n",
       "tüv                        0.0157      0.005      3.068      0.002       0.006       0.026\n",
       "E10                       -0.0148      0.003     -4.283      0.000      -0.022      -0.008\n",
       "electric                   0.0625      0.004     14.334      0.000       0.054       0.071\n",
       "transmission_Automatik    -0.0156      0.003     -5.601      0.000      -0.021      -0.010\n",
       "num_seats_20               0.2226      0.085      2.607      0.009       0.055       0.390\n",
       "num_seats_3               -0.0946      0.011     -8.425      0.000      -0.117      -0.073\n",
       "num_seats_4               -0.0641      0.007     -9.756      0.000      -0.077      -0.051\n",
       "num_seats_5               -0.0751      0.007    -10.138      0.000      -0.090      -0.061\n",
       "num_seats_6               -0.0411      0.010     -4.158      0.000      -0.060      -0.022\n",
       "num_seats_7               -0.0374      0.009     -4.110      0.000      -0.055      -0.020\n",
       "num_seats_8               -0.0584      0.011     -5.437      0.000      -0.079      -0.037\n",
       "num_seats_9               -0.0505      0.014     -3.609      0.000      -0.078      -0.023\n",
       "num_seats_na              -0.0217      0.008     -2.609      0.009      -0.038      -0.005\n",
       "num_doors_2/3              0.0579      0.011      5.079      0.000       0.036       0.080\n",
       "num_doors_4/5              0.0636      0.011      5.888      0.000       0.042       0.085\n",
       "num_doors_6/7              0.0894      0.039      2.278      0.023       0.012       0.166\n",
       "num_doors_na              -0.0370      0.012     -3.149      0.002      -0.060      -0.014\n",
       "emission_class_Euro1       0.0946      0.033      2.902      0.004       0.031       0.158\n",
       "emission_class_Euro2       0.0530      0.019      2.851      0.004       0.017       0.089\n",
       "emission_class_Euro4      -0.0382      0.005     -7.973      0.000      -0.048      -0.029\n",
       "emission_class_Euro5      -0.0545      0.004    -12.719      0.000      -0.063      -0.046\n",
       "emission_class_Euro6      -0.0371      0.003    -14.254      0.000      -0.042      -0.032\n",
       "emission_class_Euro6d      0.0343      0.004      7.647      0.000       0.025       0.043\n",
       "emission_class_na          0.0218      0.004      5.696      0.000       0.014       0.029\n",
       "car_type_andere            0.0230      0.005      4.486      0.000       0.013       0.033\n",
       "car_type_cabrio            0.0835      0.007     12.711      0.000       0.071       0.096\n",
       "car_type_kleinwagen        0.0278      0.007      4.265      0.000       0.015       0.041\n",
       "car_type_sport             0.0246      0.003      7.171      0.000       0.018       0.031\n",
       "car_type_van               0.0215      0.004      4.913      0.000       0.013       0.030\n",
       "num_owners_1               0.0101      0.003      3.125      0.002       0.004       0.017\n",
       "num_owners_2              -0.0152      0.003     -4.517      0.000      -0.022      -0.009\n",
       "num_owners_3              -0.0207      0.006     -3.500      0.000      -0.032      -0.009\n",
       "Schaden_na                 0.0495      0.005     10.578      0.000       0.040       0.059\n",
       "Schaden_repaired           0.0515      0.009      5.745      0.000       0.034       0.069\n",
       "Schaden_without            0.0729      0.005     15.815      0.000       0.064       0.082\n",
       "Model_A-Klasse            -0.0580      0.005    -10.609      0.000      -0.069      -0.047\n",
       "Model_B-Klasse            -0.0781      0.006    -13.527      0.000      -0.089      -0.067\n",
       "Model_C-Klasse            -0.0515      0.004    -11.565      0.000      -0.060      -0.043\n",
       "Model_CL                  -0.0419      0.006     -6.605      0.000      -0.054      -0.029\n",
       "Model_CLA                 -0.0780      0.007    -10.784      0.000      -0.092      -0.064\n",
       "Model_CLC                 -0.0941      0.021     -4.436      0.000      -0.136      -0.053\n",
       "Model_CLK                 -0.0494      0.010     -5.059      0.000      -0.069      -0.030\n",
       "Model_E-Klasse            -0.0447      0.004    -10.195      0.000      -0.053      -0.036\n",
       "Model_G-Klasse             0.2664      0.007     38.641      0.000       0.253       0.280\n",
       "Model_GLA                 -0.0754      0.008     -9.328      0.000      -0.091      -0.060\n",
       "Model_GLB                 -0.0349      0.013     -2.609      0.009      -0.061      -0.009\n",
       "Model_GLC                 -0.0293      0.006     -5.109      0.000      -0.040      -0.018\n",
       "Model_GLE                  0.0810      0.005     15.285      0.000       0.071       0.091\n",
       "Model_GLK                 -0.0497      0.012     -4.313      0.000      -0.072      -0.027\n",
       "Model_GLS                  0.1168      0.010     11.576      0.000       0.097       0.137\n",
       "Model_GT                   0.1368      0.009     14.759      0.000       0.119       0.155\n",
       "Model_M-Klasse            -0.0476      0.008     -6.331      0.000      -0.062      -0.033\n",
       "Model_MarcoPolo            0.0891      0.014      6.330      0.000       0.062       0.117\n",
       "Model_R-Klasse             0.0524      0.013      3.988      0.000       0.027       0.078\n",
       "Model_S-Klasse             0.0899      0.005     17.413      0.000       0.080       0.100\n",
       "Model_SL                  -0.0879      0.010     -8.729      0.000      -0.108      -0.068\n",
       "Model_Sprinter            -0.0475      0.007     -6.330      0.000      -0.062      -0.033\n",
       "Model_Vaneo               -0.1095      0.010    -10.494      0.000      -0.130      -0.089\n",
       "Model_Vito                -0.0738      0.007    -10.701      0.000      -0.087      -0.060\n",
       "fueltype_Benzin           -0.0280      0.003    -11.178      0.000      -0.033      -0.023\n",
       "fueltype_Elektro           0.0390      0.011      3.696      0.000       0.018       0.060\n",
       "==============================================================================\n",
       "Omnibus:                     3697.026   Durbin-Watson:                   1.983\n",
       "Prob(Omnibus):                  0.000   Jarque-Bera (JB):            33727.203\n",
       "Skew:                           1.483   Prob(JB):                         0.00\n",
       "Kurtosis:                      11.411   Cond. No.                     7.13e+15\n",
       "==============================================================================\n",
       "\n",
       "Notes:\n",
       "[1] Standard Errors assume that the covariance matrix of the errors is correctly specified.\n",
       "[2] The smallest eigenvalue is 8.94e-28. This might indicate that there are\n",
       "strong multicollinearity problems or that the design matrix is singular.\n",
       "\"\"\""
      ]
     },
     "execution_count": 20,
     "metadata": {},
     "output_type": "execute_result"
    }
   ],
   "source": [
    "model.summary()"
   ]
  },
  {
   "cell_type": "code",
   "execution_count": 21,
   "metadata": {},
   "outputs": [],
   "source": [
    "def plot(y_pred, y_true, savename, color):\n",
    "    fig, ax = plt.subplots(figsize=(6, 5)) \n",
    "    sns.scatterplot(y=y_true, x=y_pred, color=color, s=5)\n",
    "    xx = np.linspace(min(y_pred), max(y_pred), num=50)\n",
    "    plt.plot(xx, xx, color='k', linewidth=2)\n",
    "    plt.title('Prediction on ' + savename + ' Dataset')\n",
    "    plt.xlabel('Predicted Price')\n",
    "    plt.ylabel('True Price')\n",
    "    plt.tight_layout()\n",
    "    #ax.xaxis.set_major_formatter(ticker.EngFormatter())\n",
    "    #ax.yaxis.set_major_formatter(ticker.EngFormatter())\n",
    "    plt.grid(True)\n",
    "    plt.show()\n",
    "    fig.savefig('Plots/'+savename+'.png', dpi=300)"
   ]
  },
  {
   "cell_type": "code",
   "execution_count": 22,
   "metadata": {},
   "outputs": [],
   "source": [
    "try:\n",
    "    test_pred = model.predict(sm.add_constant(X_test))\n",
    "except:\n",
    "    test_pred = model.predict(sm.add_constant(X_test, has_constant='add'))\n",
    "\n",
    "try:\n",
    "    train_pred = model.predict(sm.add_constant(X_train))\n",
    "except:\n",
    "    train_pred = model.predict(sm.add_constant(X_train, has_constant='add'))"
   ]
  },
  {
   "cell_type": "code",
   "execution_count": 23,
   "metadata": {},
   "outputs": [],
   "source": [
    "def rescale_label(label):\n",
    "    Y = np.array([label])  # make 2D-Array\n",
    "    return list(scalery.inverse_transform(Y)[0])"
   ]
  },
  {
   "cell_type": "markdown",
   "metadata": {},
   "source": [
    "### Performance on unseen Test Dataset"
   ]
  },
  {
   "cell_type": "code",
   "execution_count": 24,
   "metadata": {},
   "outputs": [
    {
     "data": {
      "text/plain": [
       "0.057519992354621956"
      ]
     },
     "execution_count": 24,
     "metadata": {},
     "output_type": "execute_result"
    }
   ],
   "source": [
    "sm.tools.eval_measures.meanabs(y_test, test_pred)"
   ]
  },
  {
   "cell_type": "code",
   "execution_count": 25,
   "metadata": {},
   "outputs": [
    {
     "data": {
      "text/plain": [
       "8320.266894096065"
      ]
     },
     "execution_count": 25,
     "metadata": {},
     "output_type": "execute_result"
    }
   ],
   "source": [
    "sm.tools.eval_measures.meanabs(rescale_label(y_test), rescale_label(test_pred))"
   ]
  },
  {
   "cell_type": "code",
   "execution_count": 26,
   "metadata": {},
   "outputs": [
    {
     "data": {
      "image/png": "[encoded data removed]",
      "text/plain": [
       "<Figure size 432x360 with 1 Axes>"
      ]
     },
     "metadata": {
      "needs_background": "light"
     },
     "output_type": "display_data"
    }
   ],
   "source": [
    "plot(rescale_label(test_pred), rescale_label(y_test), 'Test', 'g')"
   ]
  },
  {
   "cell_type": "code",
   "execution_count": 27,
   "metadata": {},
   "outputs": [],
   "source": [
    "#plot(test_pred[0], y_test[0], 'Test')"
   ]
  },
  {
   "cell_type": "code",
   "execution_count": 28,
   "metadata": {},
   "outputs": [],
   "source": [
    "# ROBUST 0.16 8643\n",
    "# STANDARD 0.23  8478\n",
    "# MINMAX 0.05  8426"
   ]
  },
  {
   "cell_type": "markdown",
   "metadata": {},
   "source": [
    "### Performance on seen Training Dataset"
   ]
  },
  {
   "cell_type": "code",
   "execution_count": 29,
   "metadata": {},
   "outputs": [
    {
     "data": {
      "text/plain": [
       "8395.54666863115"
      ]
     },
     "execution_count": 29,
     "metadata": {},
     "output_type": "execute_result"
    }
   ],
   "source": [
    "sm.tools.eval_measures.meanabs(rescale_label(y_train), rescale_label(train_pred))"
   ]
  },
  {
   "cell_type": "code",
   "execution_count": 30,
   "metadata": {},
   "outputs": [
    {
     "data": {
      "image/png": "[encoded data removed]",
      "text/plain": [
       "<Figure size 432x360 with 1 Axes>"
      ]
     },
     "metadata": {
      "needs_background": "light"
     },
     "output_type": "display_data"
    }
   ],
   "source": [
    "plot(rescale_label(train_pred), rescale_label(y_train), 'Train', 'b')"
   ]
  },
  {
   "cell_type": "markdown",
   "metadata": {},
   "source": [
    "### Problem of negative Prices\n",
    "\n",
    "- modelling log-price; this is a common strategy with price-like variables in economics\n",
    "- using generalized linear models (GLMs). A gamma-model with a log-link would be quite similar to modelling log-price, but the model would be for the expected price rather than expected log-price. This may have some advantages. If you need the relationship with the predictors to be linear in actual price, this can be done (identity link), but a log link for this sort of data would be more common."
   ]
  },
  {
   "cell_type": "code",
   "execution_count": null,
   "metadata": {},
   "outputs": [],
   "source": []
  },
  {
   "cell_type": "code",
   "execution_count": null,
   "metadata": {},
   "outputs": [],
   "source": []
  }
 ],
 "metadata": {
  "kernelspec": {
   "display_name": "Python 3",
   "language": "python",
   "name": "python3"
  },
  "language_info": {
   "codemirror_mode": {
    "name": "ipython",
    "version": 3
   },
   "file_extension": ".py",
   "mimetype": "text/x-python",
   "name": "python",
   "nbconvert_exporter": "python",
   "pygments_lexer": "ipython3",
   "version": "3.7.9"
  }
 },
 "nbformat": 4,
 "nbformat_minor": 4
}
