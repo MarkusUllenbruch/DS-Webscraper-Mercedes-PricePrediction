{
 "cells": [
  {
   "cell_type": "markdown",
   "metadata": {},
   "source": [
    "# Model Building"
   ]
  },
  {
   "cell_type": "code",
   "execution_count": 1,
   "metadata": {},
   "outputs": [],
   "source": [
    "import numpy as np\n",
    "import pandas as pd\n",
    "import statsmodels.api as sm\n",
    "from sklearn.preprocessing import StandardScaler, MinMaxScaler, RobustScaler\n",
    "from sklearn.model_selection import train_test_split\n",
    "import matplotlib.pyplot as plt\n",
    "import seaborn as sns"
   ]
  },
  {
   "cell_type": "code",
   "execution_count": 2,
   "metadata": {},
   "outputs": [],
   "source": [
    "data = pd.read_csv('data_cleaned.csv')"
   ]
  },
  {
   "cell_type": "code",
   "execution_count": 3,
   "metadata": {},
   "outputs": [
    {
     "name": "stdout",
     "output_type": "stream",
     "text": [
      "<class 'pandas.core.frame.DataFrame'>\n",
      "RangeIndex: 11974 entries, 0 to 11973\n",
      "Data columns (total 33 columns):\n",
      " #   Column          Non-Null Count  Dtype  \n",
      "---  ------          --------------  -----  \n",
      " 0   Unnamed: 0      11974 non-null  int64  \n",
      " 1   carname         11974 non-null  object \n",
      " 2   price           11974 non-null  float64\n",
      " 3   milage          11974 non-null  float64\n",
      " 4   hubraum         11974 non-null  float64\n",
      " 5   transmission    11974 non-null  object \n",
      " 6   num_seats       11974 non-null  object \n",
      " 7   num_doors       11974 non-null  object \n",
      " 8   emission_class  11974 non-null  object \n",
      " 9   car_type        11974 non-null  object \n",
      " 10  num_owners      11974 non-null  object \n",
      " 11  age             11974 non-null  float64\n",
      " 12  power_ps        11974 non-null  float64\n",
      " 13  power_kw        11974 non-null  float64\n",
      " 14  Schaden         11974 non-null  object \n",
      " 15  Model           11974 non-null  object \n",
      " 16  amg             11974 non-null  int64  \n",
      " 17  mc_laren        11974 non-null  int64  \n",
      " 18  blk_series      11974 non-null  int64  \n",
      " 19  blue_eff        11974 non-null  int64  \n",
      " 20  g_pow           11974 non-null  int64  \n",
      " 21  brabus          11974 non-null  int64  \n",
      " 22  avantgarde      11974 non-null  int64  \n",
      " 23  elegance        11974 non-null  int64  \n",
      " 24  tag_63          11974 non-null  int64  \n",
      " 25  tag_65          11974 non-null  int64  \n",
      " 26  tag_55          11974 non-null  int64  \n",
      " 27  tüv             11974 non-null  int64  \n",
      " 28  E10             11974 non-null  int64  \n",
      " 29  biodiesel       11974 non-null  int64  \n",
      " 30  pflanzenöl      11974 non-null  int64  \n",
      " 31  electric        11974 non-null  int64  \n",
      " 32  fueltype        11974 non-null  object \n",
      "dtypes: float64(6), int64(17), object(10)\n",
      "memory usage: 3.0+ MB\n"
     ]
    }
   ],
   "source": [
    "data.info()"
   ]
  },
  {
   "cell_type": "code",
   "execution_count": 4,
   "metadata": {},
   "outputs": [
    {
     "data": {
      "text/plain": [
       "Index(['Unnamed: 0', 'carname', 'price', 'milage', 'hubraum', 'transmission',\n",
       "       'num_seats', 'num_doors', 'emission_class', 'car_type', 'num_owners',\n",
       "       'age', 'power_ps', 'power_kw', 'Schaden', 'Model', 'amg', 'mc_laren',\n",
       "       'blk_series', 'blue_eff', 'g_pow', 'brabus', 'avantgarde', 'elegance',\n",
       "       'tag_63', 'tag_65', 'tag_55', 'tüv', 'E10', 'biodiesel', 'pflanzenöl',\n",
       "       'electric', 'fueltype'],\n",
       "      dtype='object')"
      ]
     },
     "execution_count": 4,
     "metadata": {},
     "output_type": "execute_result"
    }
   ],
   "source": [
    "data.columns"
   ]
  },
  {
   "cell_type": "code",
   "execution_count": 5,
   "metadata": {},
   "outputs": [],
   "source": [
    "data_dummies = data.drop(['carname', 'Unnamed: 0', 'power_kw'], axis=1)"
   ]
  },
  {
   "cell_type": "code",
   "execution_count": 6,
   "metadata": {},
   "outputs": [
    {
     "name": "stdout",
     "output_type": "stream",
     "text": [
      "<class 'pandas.core.frame.DataFrame'>\n",
      "RangeIndex: 11974 entries, 0 to 11973\n",
      "Data columns (total 30 columns):\n",
      " #   Column          Non-Null Count  Dtype  \n",
      "---  ------          --------------  -----  \n",
      " 0   price           11974 non-null  float64\n",
      " 1   milage          11974 non-null  float64\n",
      " 2   hubraum         11974 non-null  float64\n",
      " 3   transmission    11974 non-null  object \n",
      " 4   num_seats       11974 non-null  object \n",
      " 5   num_doors       11974 non-null  object \n",
      " 6   emission_class  11974 non-null  object \n",
      " 7   car_type        11974 non-null  object \n",
      " 8   num_owners      11974 non-null  object \n",
      " 9   age             11974 non-null  float64\n",
      " 10  power_ps        11974 non-null  float64\n",
      " 11  Schaden         11974 non-null  object \n",
      " 12  Model           11974 non-null  object \n",
      " 13  amg             11974 non-null  int64  \n",
      " 14  mc_laren        11974 non-null  int64  \n",
      " 15  blk_series      11974 non-null  int64  \n",
      " 16  blue_eff        11974 non-null  int64  \n",
      " 17  g_pow           11974 non-null  int64  \n",
      " 18  brabus          11974 non-null  int64  \n",
      " 19  avantgarde      11974 non-null  int64  \n",
      " 20  elegance        11974 non-null  int64  \n",
      " 21  tag_63          11974 non-null  int64  \n",
      " 22  tag_65          11974 non-null  int64  \n",
      " 23  tag_55          11974 non-null  int64  \n",
      " 24  tüv             11974 non-null  int64  \n",
      " 25  E10             11974 non-null  int64  \n",
      " 26  biodiesel       11974 non-null  int64  \n",
      " 27  pflanzenöl      11974 non-null  int64  \n",
      " 28  electric        11974 non-null  int64  \n",
      " 29  fueltype        11974 non-null  object \n",
      "dtypes: float64(5), int64(16), object(9)\n",
      "memory usage: 2.7+ MB\n"
     ]
    }
   ],
   "source": [
    "data_dummies.info()"
   ]
  },
  {
   "cell_type": "code",
   "execution_count": 7,
   "metadata": {},
   "outputs": [],
   "source": [
    "data_dummies = pd.get_dummies(data_dummies, dtype=float)"
   ]
  },
  {
   "cell_type": "code",
   "execution_count": 8,
   "metadata": {},
   "outputs": [
    {
     "name": "stdout",
     "output_type": "stream",
     "text": [
      "<class 'pandas.core.frame.DataFrame'>\n",
      "RangeIndex: 11974 entries, 0 to 11973\n",
      "Columns: 108 entries, price to fueltype_na\n",
      "dtypes: float64(92), int64(16)\n",
      "memory usage: 9.9 MB\n"
     ]
    }
   ],
   "source": [
    "data_dummies.info()"
   ]
  },
  {
   "cell_type": "code",
   "execution_count": 9,
   "metadata": {},
   "outputs": [],
   "source": [
    "data_dummies = data_dummies.astype(float)"
   ]
  },
  {
   "cell_type": "code",
   "execution_count": 10,
   "metadata": {},
   "outputs": [
    {
     "name": "stdout",
     "output_type": "stream",
     "text": [
      "<class 'pandas.core.frame.DataFrame'>\n",
      "RangeIndex: 11974 entries, 0 to 11973\n",
      "Columns: 108 entries, price to fueltype_na\n",
      "dtypes: float64(108)\n",
      "memory usage: 9.9 MB\n"
     ]
    }
   ],
   "source": [
    "data_dummies.info()"
   ]
  },
  {
   "cell_type": "markdown",
   "metadata": {},
   "source": [
    "### Split Training & Test Data"
   ]
  },
  {
   "cell_type": "code",
   "execution_count": 11,
   "metadata": {},
   "outputs": [],
   "source": [
    "data_train, data_test = train_test_split(data_dummies, test_size = 0.1, shuffle=True)"
   ]
  },
  {
   "cell_type": "markdown",
   "metadata": {},
   "source": [
    "### Make Features and label data"
   ]
  },
  {
   "cell_type": "code",
   "execution_count": 12,
   "metadata": {},
   "outputs": [],
   "source": [
    "y_train = data_train[[\"price\"]]  #Labels\n",
    "X_train = data_train.drop(\"price\", axis=1)  #Features\n",
    "\n",
    "y_test = data_test[[\"price\"]]  #Labels\n",
    "X_test = data_test.drop(\"price\", axis=1)  #Features"
   ]
  },
  {
   "cell_type": "markdown",
   "metadata": {},
   "source": [
    "### Scale features and labels"
   ]
  },
  {
   "cell_type": "code",
   "execution_count": 13,
   "metadata": {},
   "outputs": [],
   "source": [
    "method = 'MinMax'\n",
    "\n",
    "if method == 'Standard':\n",
    "    scalerx = StandardScaler().fit(X_train)\n",
    "    scalery = StandardScaler().fit(y_train)\n",
    "    \n",
    "elif method == 'MinMax':\n",
    "    scalerx = MinMaxScaler().fit(X_train)\n",
    "    scalery = MinMaxScaler().fit(y_train)\n",
    "    \n",
    "elif method == 'Robust':\n",
    "    scalerx = RobustScaler().fit(X_train)\n",
    "    scalery = RobustScaler().fit(y_train)"
   ]
  },
  {
   "cell_type": "code",
   "execution_count": 14,
   "metadata": {},
   "outputs": [],
   "source": [
    "X_train = pd.DataFrame(scalerx.transform(X_train), columns=X_train.columns)\n",
    "y_train = pd.DataFrame(scalery.transform(y_train), columns=y_train.columns)\n",
    "y_train = y_train.T.squeeze()\n",
    "\n",
    "X_test = pd.DataFrame(scalerx.transform(X_test), columns=X_test.columns)\n",
    "y_test = pd.DataFrame(scalery.transform(y_test), columns=y_test.columns)\n",
    "y_test = y_test.T.squeeze()"
   ]
  },
  {
   "cell_type": "markdown",
   "metadata": {},
   "source": [
    "### Automating Feature Selection and Regression Model Building"
   ]
  },
  {
   "cell_type": "code",
   "execution_count": 15,
   "metadata": {},
   "outputs": [
    {
     "name": "stdout",
     "output_type": "stream",
     "text": [
      "Dropping features with p-value P(t) > 0.05: \n",
      "\n",
      "1. Dropped num_seats_7 with p-value 0.9506842907508083\n",
      "2. Dropped num_owners_9 with p-value 0.8745272842106808\n",
      "3. Dropped num_owners_5 with p-value 0.9980176000275874\n",
      "4. Dropped num_owners_na with p-value 0.8855064396150605\n",
      "5. Dropped num_seats_20 with p-value 0.9686245686771846\n",
      "6. Dropped fueltype_na with p-value 0.8187343161684313\n",
      "7. Dropped num_seats_6 with p-value 0.7690096967972383\n",
      "8. Dropped Model_GL with p-value 0.750548082413299\n",
      "9. Dropped fueltype_Erdgas with p-value 0.708409623218045\n",
      "10. Dropped num_seats_15 with p-value 0.9202811705869439\n",
      "11. Dropped fueltype_Hybrid with p-value 0.6737706237255146\n",
      "12. Dropped num_seats_19 with p-value 0.6368818239235778\n",
      "13. Dropped num_owners_4 with p-value 0.6291554254197385\n",
      "14. Dropped mc_laren with p-value 0.8096272750991877\n",
      "15. Dropped num_owners_6 with p-value 0.5995024005302317\n",
      "16. Dropped emission_class_Euro6d-TEMP with p-value 0.5180340477832646\n",
      "17. Dropped emission_class_Euro6c with p-value 0.5448805595153767\n",
      "18. Dropped num_seats_9 with p-value 0.5030729354541607\n",
      "19. Dropped g_pow with p-value 0.9041221690528817\n",
      "20. Dropped fueltype_Diesel with p-value 0.4076879521573503\n",
      "21. Dropped pflanzenöl with p-value 0.35506758527252436\n",
      "22. Dropped biodiesel with p-value 0.3725475685845149\n",
      "23. Dropped fueltype_Autogas with p-value 0.33209048715291134\n",
      "24. Dropped Model_GLB with p-value 0.27557547295026635\n",
      "25. Dropped Model_CL with p-value 0.6119391703930487\n",
      "26. Dropped Model_GLC with p-value 0.6952394076625915\n",
      "27. Dropped transmission_-1 with p-value 0.2722697309984891\n",
      "28. Dropped transmission_Halbautomatik with p-value 0.46091631874665395\n",
      "29. Dropped transmission_Automatik with p-value 0.3415429553672784\n",
      "30. Dropped car_type_kombi with p-value 0.3953534111790816\n",
      "31. Dropped car_type_suv with p-value 0.7101733078797039\n",
      "32. Dropped num_seats_21 with p-value 0.2572133596977694\n",
      "33. Dropped num_owners_0 with p-value 0.19444800759647682\n",
      "34. Dropped Model_CLK with p-value 0.1724111550241412\n",
      "35. Dropped Model_M-Klasse with p-value 0.13782445063749907\n",
      "36. Dropped Model_E-Klasse with p-value 0.23413295654372537\n",
      "37. Dropped Model_Sprinter with p-value 0.2228912270137263\n",
      "38. Dropped Model_GLK with p-value 0.21901985823170014\n",
      "39. Dropped emission_class_Euro3 with p-value 0.1404648194319793\n",
      "40. Dropped brabus with p-value 0.06322421682560589\n",
      "41. Dropped fueltype_Andere with p-value 0.05160704322550918\n",
      "\n",
      "\n",
      "Selected features: \n",
      "\n",
      " ['milage', 'hubraum', 'age', 'power_ps', 'amg', 'blk_series', 'blue_eff', 'avantgarde', 'elegance', 'tag_63', 'tag_65', 'tag_55', 'tüv', 'E10', 'electric', 'transmission_Schaltgetriebe', 'num_seats_17', 'num_seats_2', 'num_seats_3', 'num_seats_4', 'num_seats_5', 'num_seats_8', 'num_seats_na', 'num_doors_2/3', 'num_doors_4/5', 'num_doors_6/7', 'num_doors_na', 'emission_class_Euro1', 'emission_class_Euro2', 'emission_class_Euro4', 'emission_class_Euro5', 'emission_class_Euro6', 'emission_class_Euro6d', 'emission_class_na', 'car_type_andere', 'car_type_cabrio', 'car_type_kleinwagen', 'car_type_limousine', 'car_type_sport', 'car_type_van', 'num_owners_1', 'num_owners_2', 'num_owners_3', 'Schaden_na', 'Schaden_repaired', 'Schaden_without', 'Model_A-Klasse', 'Model_B-Klasse', 'Model_C-Klasse', 'Model_CLA', 'Model_CLC', 'Model_G-Klasse', 'Model_GLA', 'Model_GLE', 'Model_GLS', 'Model_GT', 'Model_MarcoPolo', 'Model_OTHER', 'Model_R-Klasse', 'Model_S-Klasse', 'Model_SL', 'Model_V-Klasse', 'Model_Vaneo', 'Model_Vito', 'fueltype_Benzin', 'fueltype_Elektro']\n"
     ]
    }
   ],
   "source": [
    "print('Dropping features with p-value P(t) > 0.05: \\n')\n",
    "cols = list(X_train.columns)\n",
    "pmax = 1\n",
    "i = 1\n",
    "while (len(cols) > 0):\n",
    "    p = []\n",
    "    X_1 = X_train\n",
    "    X_1 = sm.add_constant(X_1)\n",
    "    model = sm.OLS(y_train, X_1).fit()\n",
    "    p = pd.Series(model.pvalues.values[1:], index = cols)\n",
    "    pmax = max(p)\n",
    "    feature_with_p_max = p.idxmax()\n",
    "    if pmax > 0.05:\n",
    "        cols.remove(feature_with_p_max)\n",
    "        X_train = X_train.drop(feature_with_p_max, axis=1)\n",
    "        X_test = X_test.drop(feature_with_p_max, axis=1)\n",
    "        print(str(i) + '. Dropped', feature_with_p_max, 'with p-value', pmax)\n",
    "        i += 1\n",
    "    else:\n",
    "        break\n",
    "selected_features = cols\n",
    "print('\\n\\nSelected features: \\n\\n', selected_features)"
   ]
  },
  {
   "cell_type": "code",
   "execution_count": 16,
   "metadata": {},
   "outputs": [
    {
     "data": {
      "text/plain": [
       "(10776, 66)"
      ]
     },
     "execution_count": 16,
     "metadata": {},
     "output_type": "execute_result"
    }
   ],
   "source": [
    "X_train.shape"
   ]
  },
  {
   "cell_type": "code",
   "execution_count": 17,
   "metadata": {},
   "outputs": [
    {
     "data": {
      "text/plain": [
       "pandas.core.frame.DataFrame"
      ]
     },
     "execution_count": 17,
     "metadata": {},
     "output_type": "execute_result"
    }
   ],
   "source": [
    "type(X_train)"
   ]
  },
  {
   "cell_type": "code",
   "execution_count": 18,
   "metadata": {},
   "outputs": [
    {
     "data": {
      "text/plain": [
       "(1198, 66)"
      ]
     },
     "execution_count": 18,
     "metadata": {},
     "output_type": "execute_result"
    }
   ],
   "source": [
    "X_test.shape"
   ]
  },
  {
   "cell_type": "code",
   "execution_count": 19,
   "metadata": {},
   "outputs": [
    {
     "data": {
      "text/plain": [
       "pandas.core.frame.DataFrame"
      ]
     },
     "execution_count": 19,
     "metadata": {},
     "output_type": "execute_result"
    }
   ],
   "source": [
    "type(X_test)"
   ]
  },
  {
   "cell_type": "code",
   "execution_count": 20,
   "metadata": {},
   "outputs": [
    {
     "data": {
      "text/html": [
       "<table class=\"simpletable\">\n",
       "<caption>OLS Regression Results</caption>\n",
       "<tr>\n",
       "  <th>Dep. Variable:</th>          <td>price</td>      <th>  R-squared:         </th>  <td>   0.874</td> \n",
       "</tr>\n",
       "<tr>\n",
       "  <th>Model:</th>                   <td>OLS</td>       <th>  Adj. R-squared:    </th>  <td>   0.873</td> \n",
       "</tr>\n",
       "<tr>\n",
       "  <th>Method:</th>             <td>Least Squares</td>  <th>  F-statistic:       </th>  <td>   1162.</td> \n",
       "</tr>\n",
       "<tr>\n",
       "  <th>Date:</th>             <td>Sun, 10 Jan 2021</td> <th>  Prob (F-statistic):</th>   <td>  0.00</td>  \n",
       "</tr>\n",
       "<tr>\n",
       "  <th>Time:</th>                 <td>00:26:41</td>     <th>  Log-Likelihood:    </th>  <td>  11439.</td> \n",
       "</tr>\n",
       "<tr>\n",
       "  <th>No. Observations:</th>      <td> 10776</td>      <th>  AIC:               </th> <td>-2.275e+04</td>\n",
       "</tr>\n",
       "<tr>\n",
       "  <th>Df Residuals:</th>          <td> 10711</td>      <th>  BIC:               </th> <td>-2.227e+04</td>\n",
       "</tr>\n",
       "<tr>\n",
       "  <th>Df Model:</th>              <td>    64</td>      <th>                     </th>      <td> </td>    \n",
       "</tr>\n",
       "<tr>\n",
       "  <th>Covariance Type:</th>      <td>nonrobust</td>    <th>                     </th>      <td> </td>    \n",
       "</tr>\n",
       "</table>\n",
       "<table class=\"simpletable\">\n",
       "<tr>\n",
       "               <td></td>                  <th>coef</th>     <th>std err</th>      <th>t</th>      <th>P>|t|</th>  <th>[0.025</th>    <th>0.975]</th>  \n",
       "</tr>\n",
       "<tr>\n",
       "  <th>const</th>                       <td>    0.1255</td> <td>    0.009</td> <td>   14.733</td> <td> 0.000</td> <td>    0.109</td> <td>    0.142</td>\n",
       "</tr>\n",
       "<tr>\n",
       "  <th>milage</th>                      <td>   -0.3487</td> <td>    0.013</td> <td>  -27.805</td> <td> 0.000</td> <td>   -0.373</td> <td>   -0.324</td>\n",
       "</tr>\n",
       "<tr>\n",
       "  <th>hubraum</th>                     <td>   -0.1454</td> <td>    0.015</td> <td>   -9.835</td> <td> 0.000</td> <td>   -0.174</td> <td>   -0.116</td>\n",
       "</tr>\n",
       "<tr>\n",
       "  <th>age</th>                         <td>   -0.2333</td> <td>    0.010</td> <td>  -24.169</td> <td> 0.000</td> <td>   -0.252</td> <td>   -0.214</td>\n",
       "</tr>\n",
       "<tr>\n",
       "  <th>power_ps</th>                    <td>    0.7429</td> <td>    0.015</td> <td>   50.450</td> <td> 0.000</td> <td>    0.714</td> <td>    0.772</td>\n",
       "</tr>\n",
       "<tr>\n",
       "  <th>amg</th>                         <td>    0.0167</td> <td>    0.002</td> <td>    6.978</td> <td> 0.000</td> <td>    0.012</td> <td>    0.021</td>\n",
       "</tr>\n",
       "<tr>\n",
       "  <th>blk_series</th>                  <td>    0.1371</td> <td>    0.035</td> <td>    3.967</td> <td> 0.000</td> <td>    0.069</td> <td>    0.205</td>\n",
       "</tr>\n",
       "<tr>\n",
       "  <th>blue_eff</th>                    <td>   -0.0179</td> <td>    0.004</td> <td>   -4.654</td> <td> 0.000</td> <td>   -0.025</td> <td>   -0.010</td>\n",
       "</tr>\n",
       "<tr>\n",
       "  <th>avantgarde</th>                  <td>   -0.0068</td> <td>    0.003</td> <td>   -2.320</td> <td> 0.020</td> <td>   -0.013</td> <td>   -0.001</td>\n",
       "</tr>\n",
       "<tr>\n",
       "  <th>elegance</th>                    <td>    0.0150</td> <td>    0.007</td> <td>    2.181</td> <td> 0.029</td> <td>    0.002</td> <td>    0.029</td>\n",
       "</tr>\n",
       "<tr>\n",
       "  <th>tag_63</th>                      <td>   -0.0238</td> <td>    0.004</td> <td>   -5.289</td> <td> 0.000</td> <td>   -0.033</td> <td>   -0.015</td>\n",
       "</tr>\n",
       "<tr>\n",
       "  <th>tag_65</th>                      <td>    0.0458</td> <td>    0.014</td> <td>    3.249</td> <td> 0.001</td> <td>    0.018</td> <td>    0.073</td>\n",
       "</tr>\n",
       "<tr>\n",
       "  <th>tag_55</th>                      <td>   -0.0814</td> <td>    0.019</td> <td>   -4.379</td> <td> 0.000</td> <td>   -0.118</td> <td>   -0.045</td>\n",
       "</tr>\n",
       "<tr>\n",
       "  <th>tüv</th>                         <td>    0.0166</td> <td>    0.005</td> <td>    3.364</td> <td> 0.001</td> <td>    0.007</td> <td>    0.026</td>\n",
       "</tr>\n",
       "<tr>\n",
       "  <th>E10</th>                         <td>   -0.0152</td> <td>    0.003</td> <td>   -4.510</td> <td> 0.000</td> <td>   -0.022</td> <td>   -0.009</td>\n",
       "</tr>\n",
       "<tr>\n",
       "  <th>electric</th>                    <td>    0.0640</td> <td>    0.004</td> <td>   15.372</td> <td> 0.000</td> <td>    0.056</td> <td>    0.072</td>\n",
       "</tr>\n",
       "<tr>\n",
       "  <th>transmission_Schaltgetriebe</th> <td>    0.0167</td> <td>    0.003</td> <td>    6.250</td> <td> 0.000</td> <td>    0.011</td> <td>    0.022</td>\n",
       "</tr>\n",
       "<tr>\n",
       "  <th>num_seats_17</th>                <td>    0.2641</td> <td>    0.084</td> <td>    3.137</td> <td> 0.002</td> <td>    0.099</td> <td>    0.429</td>\n",
       "</tr>\n",
       "<tr>\n",
       "  <th>num_seats_2</th>                 <td>    0.0439</td> <td>    0.008</td> <td>    5.491</td> <td> 0.000</td> <td>    0.028</td> <td>    0.060</td>\n",
       "</tr>\n",
       "<tr>\n",
       "  <th>num_seats_3</th>                 <td>   -0.0590</td> <td>    0.009</td> <td>   -6.277</td> <td> 0.000</td> <td>   -0.077</td> <td>   -0.041</td>\n",
       "</tr>\n",
       "<tr>\n",
       "  <th>num_seats_4</th>                 <td>   -0.0259</td> <td>    0.007</td> <td>   -3.878</td> <td> 0.000</td> <td>   -0.039</td> <td>   -0.013</td>\n",
       "</tr>\n",
       "<tr>\n",
       "  <th>num_seats_5</th>                 <td>   -0.0385</td> <td>    0.005</td> <td>   -7.500</td> <td> 0.000</td> <td>   -0.049</td> <td>   -0.028</td>\n",
       "</tr>\n",
       "<tr>\n",
       "  <th>num_seats_8</th>                 <td>   -0.0170</td> <td>    0.008</td> <td>   -2.072</td> <td> 0.038</td> <td>   -0.033</td> <td>   -0.001</td>\n",
       "</tr>\n",
       "<tr>\n",
       "  <th>num_seats_na</th>                <td>    0.0169</td> <td>    0.006</td> <td>    2.670</td> <td> 0.008</td> <td>    0.004</td> <td>    0.029</td>\n",
       "</tr>\n",
       "<tr>\n",
       "  <th>num_doors_2/3</th>               <td>    0.0366</td> <td>    0.010</td> <td>    3.630</td> <td> 0.000</td> <td>    0.017</td> <td>    0.056</td>\n",
       "</tr>\n",
       "<tr>\n",
       "  <th>num_doors_4/5</th>               <td>    0.0454</td> <td>    0.009</td> <td>    4.925</td> <td> 0.000</td> <td>    0.027</td> <td>    0.063</td>\n",
       "</tr>\n",
       "<tr>\n",
       "  <th>num_doors_6/7</th>               <td>    0.1021</td> <td>    0.034</td> <td>    3.048</td> <td> 0.002</td> <td>    0.036</td> <td>    0.168</td>\n",
       "</tr>\n",
       "<tr>\n",
       "  <th>num_doors_na</th>                <td>   -0.0586</td> <td>    0.010</td> <td>   -5.737</td> <td> 0.000</td> <td>   -0.079</td> <td>   -0.039</td>\n",
       "</tr>\n",
       "<tr>\n",
       "  <th>emission_class_Euro1</th>        <td>    0.1835</td> <td>    0.027</td> <td>    6.746</td> <td> 0.000</td> <td>    0.130</td> <td>    0.237</td>\n",
       "</tr>\n",
       "<tr>\n",
       "  <th>emission_class_Euro2</th>        <td>    0.0345</td> <td>    0.017</td> <td>    2.031</td> <td> 0.042</td> <td>    0.001</td> <td>    0.068</td>\n",
       "</tr>\n",
       "<tr>\n",
       "  <th>emission_class_Euro4</th>        <td>   -0.0400</td> <td>    0.005</td> <td>   -8.727</td> <td> 0.000</td> <td>   -0.049</td> <td>   -0.031</td>\n",
       "</tr>\n",
       "<tr>\n",
       "  <th>emission_class_Euro5</th>        <td>   -0.0555</td> <td>    0.004</td> <td>  -13.580</td> <td> 0.000</td> <td>   -0.063</td> <td>   -0.047</td>\n",
       "</tr>\n",
       "<tr>\n",
       "  <th>emission_class_Euro6</th>        <td>   -0.0360</td> <td>    0.002</td> <td>  -14.474</td> <td> 0.000</td> <td>   -0.041</td> <td>   -0.031</td>\n",
       "</tr>\n",
       "<tr>\n",
       "  <th>emission_class_Euro6d</th>       <td>    0.0325</td> <td>    0.004</td> <td>    7.632</td> <td> 0.000</td> <td>    0.024</td> <td>    0.041</td>\n",
       "</tr>\n",
       "<tr>\n",
       "  <th>emission_class_na</th>           <td>    0.0224</td> <td>    0.004</td> <td>    6.151</td> <td> 0.000</td> <td>    0.015</td> <td>    0.030</td>\n",
       "</tr>\n",
       "<tr>\n",
       "  <th>car_type_andere</th>             <td>    0.0194</td> <td>    0.005</td> <td>    3.862</td> <td> 0.000</td> <td>    0.010</td> <td>    0.029</td>\n",
       "</tr>\n",
       "<tr>\n",
       "  <th>car_type_cabrio</th>             <td>    0.0765</td> <td>    0.006</td> <td>   12.128</td> <td> 0.000</td> <td>    0.064</td> <td>    0.089</td>\n",
       "</tr>\n",
       "<tr>\n",
       "  <th>car_type_kleinwagen</th>         <td>    0.0257</td> <td>    0.007</td> <td>    3.881</td> <td> 0.000</td> <td>    0.013</td> <td>    0.039</td>\n",
       "</tr>\n",
       "<tr>\n",
       "  <th>car_type_limousine</th>          <td>   -0.0048</td> <td>    0.002</td> <td>   -2.029</td> <td> 0.042</td> <td>   -0.010</td> <td>   -0.000</td>\n",
       "</tr>\n",
       "<tr>\n",
       "  <th>car_type_sport</th>              <td>    0.0232</td> <td>    0.003</td> <td>    7.169</td> <td> 0.000</td> <td>    0.017</td> <td>    0.030</td>\n",
       "</tr>\n",
       "<tr>\n",
       "  <th>car_type_van</th>                <td>    0.0156</td> <td>    0.004</td> <td>    3.516</td> <td> 0.000</td> <td>    0.007</td> <td>    0.024</td>\n",
       "</tr>\n",
       "<tr>\n",
       "  <th>num_owners_1</th>                <td>    0.0082</td> <td>    0.003</td> <td>    2.647</td> <td> 0.008</td> <td>    0.002</td> <td>    0.014</td>\n",
       "</tr>\n",
       "<tr>\n",
       "  <th>num_owners_2</th>                <td>   -0.0171</td> <td>    0.003</td> <td>   -5.310</td> <td> 0.000</td> <td>   -0.023</td> <td>   -0.011</td>\n",
       "</tr>\n",
       "<tr>\n",
       "  <th>num_owners_3</th>                <td>   -0.0219</td> <td>    0.006</td> <td>   -3.809</td> <td> 0.000</td> <td>   -0.033</td> <td>   -0.011</td>\n",
       "</tr>\n",
       "<tr>\n",
       "  <th>Schaden_na</th>                  <td>    0.0346</td> <td>    0.004</td> <td>    8.523</td> <td> 0.000</td> <td>    0.027</td> <td>    0.043</td>\n",
       "</tr>\n",
       "<tr>\n",
       "  <th>Schaden_repaired</th>            <td>    0.0346</td> <td>    0.008</td> <td>    4.274</td> <td> 0.000</td> <td>    0.019</td> <td>    0.051</td>\n",
       "</tr>\n",
       "<tr>\n",
       "  <th>Schaden_without</th>             <td>    0.0563</td> <td>    0.004</td> <td>   14.004</td> <td> 0.000</td> <td>    0.048</td> <td>    0.064</td>\n",
       "</tr>\n",
       "<tr>\n",
       "  <th>Model_A-Klasse</th>              <td>   -0.0160</td> <td>    0.004</td> <td>   -3.867</td> <td> 0.000</td> <td>   -0.024</td> <td>   -0.008</td>\n",
       "</tr>\n",
       "<tr>\n",
       "  <th>Model_B-Klasse</th>              <td>   -0.0340</td> <td>    0.005</td> <td>   -6.979</td> <td> 0.000</td> <td>   -0.044</td> <td>   -0.024</td>\n",
       "</tr>\n",
       "<tr>\n",
       "  <th>Model_C-Klasse</th>              <td>   -0.0090</td> <td>    0.003</td> <td>   -3.438</td> <td> 0.001</td> <td>   -0.014</td> <td>   -0.004</td>\n",
       "</tr>\n",
       "<tr>\n",
       "  <th>Model_CLA</th>                   <td>   -0.0427</td> <td>    0.006</td> <td>   -7.094</td> <td> 0.000</td> <td>   -0.055</td> <td>   -0.031</td>\n",
       "</tr>\n",
       "<tr>\n",
       "  <th>Model_CLC</th>                   <td>   -0.0482</td> <td>    0.020</td> <td>   -2.467</td> <td> 0.014</td> <td>   -0.087</td> <td>   -0.010</td>\n",
       "</tr>\n",
       "<tr>\n",
       "  <th>Model_G-Klasse</th>              <td>    0.3087</td> <td>    0.006</td> <td>   52.682</td> <td> 0.000</td> <td>    0.297</td> <td>    0.320</td>\n",
       "</tr>\n",
       "<tr>\n",
       "  <th>Model_GLA</th>                   <td>   -0.0398</td> <td>    0.007</td> <td>   -5.727</td> <td> 0.000</td> <td>   -0.053</td> <td>   -0.026</td>\n",
       "</tr>\n",
       "<tr>\n",
       "  <th>Model_GLE</th>                   <td>    0.1219</td> <td>    0.004</td> <td>   32.021</td> <td> 0.000</td> <td>    0.114</td> <td>    0.129</td>\n",
       "</tr>\n",
       "<tr>\n",
       "  <th>Model_GLS</th>                   <td>    0.1582</td> <td>    0.009</td> <td>   16.724</td> <td> 0.000</td> <td>    0.140</td> <td>    0.177</td>\n",
       "</tr>\n",
       "<tr>\n",
       "  <th>Model_GT</th>                    <td>    0.1739</td> <td>    0.009</td> <td>   20.237</td> <td> 0.000</td> <td>    0.157</td> <td>    0.191</td>\n",
       "</tr>\n",
       "<tr>\n",
       "  <th>Model_MarcoPolo</th>             <td>    0.1298</td> <td>    0.014</td> <td>    9.302</td> <td> 0.000</td> <td>    0.102</td> <td>    0.157</td>\n",
       "</tr>\n",
       "<tr>\n",
       "  <th>Model_OTHER</th>                 <td>    0.0394</td> <td>    0.004</td> <td>    8.816</td> <td> 0.000</td> <td>    0.031</td> <td>    0.048</td>\n",
       "</tr>\n",
       "<tr>\n",
       "  <th>Model_R-Klasse</th>              <td>    0.0896</td> <td>    0.013</td> <td>    7.021</td> <td> 0.000</td> <td>    0.065</td> <td>    0.115</td>\n",
       "</tr>\n",
       "<tr>\n",
       "  <th>Model_S-Klasse</th>              <td>    0.1351</td> <td>    0.004</td> <td>   33.901</td> <td> 0.000</td> <td>    0.127</td> <td>    0.143</td>\n",
       "</tr>\n",
       "<tr>\n",
       "  <th>Model_SL</th>                    <td>   -0.0410</td> <td>    0.009</td> <td>   -4.510</td> <td> 0.000</td> <td>   -0.059</td> <td>   -0.023</td>\n",
       "</tr>\n",
       "<tr>\n",
       "  <th>Model_V-Klasse</th>              <td>    0.0450</td> <td>    0.006</td> <td>    7.551</td> <td> 0.000</td> <td>    0.033</td> <td>    0.057</td>\n",
       "</tr>\n",
       "<tr>\n",
       "  <th>Model_Vaneo</th>                 <td>   -0.0814</td> <td>    0.010</td> <td>   -8.221</td> <td> 0.000</td> <td>   -0.101</td> <td>   -0.062</td>\n",
       "</tr>\n",
       "<tr>\n",
       "  <th>Model_Vito</th>                  <td>   -0.0363</td> <td>    0.006</td> <td>   -5.797</td> <td> 0.000</td> <td>   -0.049</td> <td>   -0.024</td>\n",
       "</tr>\n",
       "<tr>\n",
       "  <th>fueltype_Benzin</th>             <td>   -0.0282</td> <td>    0.002</td> <td>  -11.780</td> <td> 0.000</td> <td>   -0.033</td> <td>   -0.024</td>\n",
       "</tr>\n",
       "<tr>\n",
       "  <th>fueltype_Elektro</th>            <td>    0.0460</td> <td>    0.011</td> <td>    4.328</td> <td> 0.000</td> <td>    0.025</td> <td>    0.067</td>\n",
       "</tr>\n",
       "</table>\n",
       "<table class=\"simpletable\">\n",
       "<tr>\n",
       "  <th>Omnibus:</th>       <td>3943.266</td> <th>  Durbin-Watson:     </th> <td>   2.007</td> \n",
       "</tr>\n",
       "<tr>\n",
       "  <th>Prob(Omnibus):</th>  <td> 0.000</td>  <th>  Jarque-Bera (JB):  </th> <td>35396.220</td>\n",
       "</tr>\n",
       "<tr>\n",
       "  <th>Skew:</th>           <td> 1.502</td>  <th>  Prob(JB):          </th> <td>    0.00</td> \n",
       "</tr>\n",
       "<tr>\n",
       "  <th>Kurtosis:</th>       <td>11.355</td>  <th>  Cond. No.          </th> <td>1.19e+16</td> \n",
       "</tr>\n",
       "</table><br/><br/>Notes:<br/>[1] Standard Errors assume that the covariance matrix of the errors is correctly specified.<br/>[2] The smallest eigenvalue is 2.92e-28. This might indicate that there are<br/>strong multicollinearity problems or that the design matrix is singular."
      ],
      "text/plain": [
       "<class 'statsmodels.iolib.summary.Summary'>\n",
       "\"\"\"\n",
       "                            OLS Regression Results                            \n",
       "==============================================================================\n",
       "Dep. Variable:                  price   R-squared:                       0.874\n",
       "Model:                            OLS   Adj. R-squared:                  0.873\n",
       "Method:                 Least Squares   F-statistic:                     1162.\n",
       "Date:                Sun, 10 Jan 2021   Prob (F-statistic):               0.00\n",
       "Time:                        00:26:41   Log-Likelihood:                 11439.\n",
       "No. Observations:               10776   AIC:                        -2.275e+04\n",
       "Df Residuals:                   10711   BIC:                        -2.227e+04\n",
       "Df Model:                          64                                         \n",
       "Covariance Type:            nonrobust                                         \n",
       "===============================================================================================\n",
       "                                  coef    std err          t      P>|t|      [0.025      0.975]\n",
       "-----------------------------------------------------------------------------------------------\n",
       "const                           0.1255      0.009     14.733      0.000       0.109       0.142\n",
       "milage                         -0.3487      0.013    -27.805      0.000      -0.373      -0.324\n",
       "hubraum                        -0.1454      0.015     -9.835      0.000      -0.174      -0.116\n",
       "age                            -0.2333      0.010    -24.169      0.000      -0.252      -0.214\n",
       "power_ps                        0.7429      0.015     50.450      0.000       0.714       0.772\n",
       "amg                             0.0167      0.002      6.978      0.000       0.012       0.021\n",
       "blk_series                      0.1371      0.035      3.967      0.000       0.069       0.205\n",
       "blue_eff                       -0.0179      0.004     -4.654      0.000      -0.025      -0.010\n",
       "avantgarde                     -0.0068      0.003     -2.320      0.020      -0.013      -0.001\n",
       "elegance                        0.0150      0.007      2.181      0.029       0.002       0.029\n",
       "tag_63                         -0.0238      0.004     -5.289      0.000      -0.033      -0.015\n",
       "tag_65                          0.0458      0.014      3.249      0.001       0.018       0.073\n",
       "tag_55                         -0.0814      0.019     -4.379      0.000      -0.118      -0.045\n",
       "tüv                             0.0166      0.005      3.364      0.001       0.007       0.026\n",
       "E10                            -0.0152      0.003     -4.510      0.000      -0.022      -0.009\n",
       "electric                        0.0640      0.004     15.372      0.000       0.056       0.072\n",
       "transmission_Schaltgetriebe     0.0167      0.003      6.250      0.000       0.011       0.022\n",
       "num_seats_17                    0.2641      0.084      3.137      0.002       0.099       0.429\n",
       "num_seats_2                     0.0439      0.008      5.491      0.000       0.028       0.060\n",
       "num_seats_3                    -0.0590      0.009     -6.277      0.000      -0.077      -0.041\n",
       "num_seats_4                    -0.0259      0.007     -3.878      0.000      -0.039      -0.013\n",
       "num_seats_5                    -0.0385      0.005     -7.500      0.000      -0.049      -0.028\n",
       "num_seats_8                    -0.0170      0.008     -2.072      0.038      -0.033      -0.001\n",
       "num_seats_na                    0.0169      0.006      2.670      0.008       0.004       0.029\n",
       "num_doors_2/3                   0.0366      0.010      3.630      0.000       0.017       0.056\n",
       "num_doors_4/5                   0.0454      0.009      4.925      0.000       0.027       0.063\n",
       "num_doors_6/7                   0.1021      0.034      3.048      0.002       0.036       0.168\n",
       "num_doors_na                   -0.0586      0.010     -5.737      0.000      -0.079      -0.039\n",
       "emission_class_Euro1            0.1835      0.027      6.746      0.000       0.130       0.237\n",
       "emission_class_Euro2            0.0345      0.017      2.031      0.042       0.001       0.068\n",
       "emission_class_Euro4           -0.0400      0.005     -8.727      0.000      -0.049      -0.031\n",
       "emission_class_Euro5           -0.0555      0.004    -13.580      0.000      -0.063      -0.047\n",
       "emission_class_Euro6           -0.0360      0.002    -14.474      0.000      -0.041      -0.031\n",
       "emission_class_Euro6d           0.0325      0.004      7.632      0.000       0.024       0.041\n",
       "emission_class_na               0.0224      0.004      6.151      0.000       0.015       0.030\n",
       "car_type_andere                 0.0194      0.005      3.862      0.000       0.010       0.029\n",
       "car_type_cabrio                 0.0765      0.006     12.128      0.000       0.064       0.089\n",
       "car_type_kleinwagen             0.0257      0.007      3.881      0.000       0.013       0.039\n",
       "car_type_limousine             -0.0048      0.002     -2.029      0.042      -0.010      -0.000\n",
       "car_type_sport                  0.0232      0.003      7.169      0.000       0.017       0.030\n",
       "car_type_van                    0.0156      0.004      3.516      0.000       0.007       0.024\n",
       "num_owners_1                    0.0082      0.003      2.647      0.008       0.002       0.014\n",
       "num_owners_2                   -0.0171      0.003     -5.310      0.000      -0.023      -0.011\n",
       "num_owners_3                   -0.0219      0.006     -3.809      0.000      -0.033      -0.011\n",
       "Schaden_na                      0.0346      0.004      8.523      0.000       0.027       0.043\n",
       "Schaden_repaired                0.0346      0.008      4.274      0.000       0.019       0.051\n",
       "Schaden_without                 0.0563      0.004     14.004      0.000       0.048       0.064\n",
       "Model_A-Klasse                 -0.0160      0.004     -3.867      0.000      -0.024      -0.008\n",
       "Model_B-Klasse                 -0.0340      0.005     -6.979      0.000      -0.044      -0.024\n",
       "Model_C-Klasse                 -0.0090      0.003     -3.438      0.001      -0.014      -0.004\n",
       "Model_CLA                      -0.0427      0.006     -7.094      0.000      -0.055      -0.031\n",
       "Model_CLC                      -0.0482      0.020     -2.467      0.014      -0.087      -0.010\n",
       "Model_G-Klasse                  0.3087      0.006     52.682      0.000       0.297       0.320\n",
       "Model_GLA                      -0.0398      0.007     -5.727      0.000      -0.053      -0.026\n",
       "Model_GLE                       0.1219      0.004     32.021      0.000       0.114       0.129\n",
       "Model_GLS                       0.1582      0.009     16.724      0.000       0.140       0.177\n",
       "Model_GT                        0.1739      0.009     20.237      0.000       0.157       0.191\n",
       "Model_MarcoPolo                 0.1298      0.014      9.302      0.000       0.102       0.157\n",
       "Model_OTHER                     0.0394      0.004      8.816      0.000       0.031       0.048\n",
       "Model_R-Klasse                  0.0896      0.013      7.021      0.000       0.065       0.115\n",
       "Model_S-Klasse                  0.1351      0.004     33.901      0.000       0.127       0.143\n",
       "Model_SL                       -0.0410      0.009     -4.510      0.000      -0.059      -0.023\n",
       "Model_V-Klasse                  0.0450      0.006      7.551      0.000       0.033       0.057\n",
       "Model_Vaneo                    -0.0814      0.010     -8.221      0.000      -0.101      -0.062\n",
       "Model_Vito                     -0.0363      0.006     -5.797      0.000      -0.049      -0.024\n",
       "fueltype_Benzin                -0.0282      0.002    -11.780      0.000      -0.033      -0.024\n",
       "fueltype_Elektro                0.0460      0.011      4.328      0.000       0.025       0.067\n",
       "==============================================================================\n",
       "Omnibus:                     3943.266   Durbin-Watson:                   2.007\n",
       "Prob(Omnibus):                  0.000   Jarque-Bera (JB):            35396.220\n",
       "Skew:                           1.502   Prob(JB):                         0.00\n",
       "Kurtosis:                      11.355   Cond. No.                     1.19e+16\n",
       "==============================================================================\n",
       "\n",
       "Notes:\n",
       "[1] Standard Errors assume that the covariance matrix of the errors is correctly specified.\n",
       "[2] The smallest eigenvalue is 2.92e-28. This might indicate that there are\n",
       "strong multicollinearity problems or that the design matrix is singular.\n",
       "\"\"\""
      ]
     },
     "execution_count": 20,
     "metadata": {},
     "output_type": "execute_result"
    }
   ],
   "source": [
    "model.summary()"
   ]
  },
  {
   "cell_type": "code",
   "execution_count": 21,
   "metadata": {},
   "outputs": [],
   "source": [
    "def plot(y_pred, y_true, savename):\n",
    "    fig, ax = plt.subplots(figsize=(6, 5)) \n",
    "    sns.scatterplot(y=y_true, x=y_pred, s=4)\n",
    "    xx = np.linspace(min(y_pred), max(y_pred), num=50)\n",
    "    plt.plot(xx, xx, color='g', linewidth=2)\n",
    "    plt.title('Prediction on ' + savename + ' Dataset')\n",
    "    plt.xlabel('Predicted Price')\n",
    "    plt.ylabel('True Price')\n",
    "    plt.tight_layout()\n",
    "    #ax.xaxis.set_major_formatter(ticker.EngFormatter())\n",
    "    #ax.yaxis.set_major_formatter(ticker.EngFormatter())\n",
    "    plt.show()\n",
    "    fig.savefig('Plots/'+savename+'.png', dpi=300)"
   ]
  },
  {
   "cell_type": "code",
   "execution_count": 22,
   "metadata": {},
   "outputs": [],
   "source": [
    "try:\n",
    "    test_pred = model.predict(sm.add_constant(X_test))\n",
    "except:\n",
    "    test_pred = model.predict(sm.add_constant(X_test, has_constant='add'))\n",
    "\n",
    "try:\n",
    "    train_pred = model.predict(sm.add_constant(X_train))\n",
    "except:\n",
    "    train_pred = model.predict(sm.add_constant(X_train, has_constant='add'))"
   ]
  },
  {
   "cell_type": "markdown",
   "metadata": {},
   "source": [
    "### Performance on unseen Test Dataset"
   ]
  },
  {
   "cell_type": "code",
   "execution_count": 23,
   "metadata": {},
   "outputs": [
    {
     "data": {
      "text/plain": [
       "0.06060329118946911"
      ]
     },
     "execution_count": 23,
     "metadata": {},
     "output_type": "execute_result"
    }
   ],
   "source": [
    "sm.tools.eval_measures.meanabs(y_test, test_pred)"
   ]
  },
  {
   "cell_type": "code",
   "execution_count": 24,
   "metadata": {},
   "outputs": [],
   "source": [
    "y_test = np.array([y_test])"
   ]
  },
  {
   "cell_type": "code",
   "execution_count": 25,
   "metadata": {},
   "outputs": [],
   "source": [
    "test_pred = np.array([test_pred])"
   ]
  },
  {
   "cell_type": "code",
   "execution_count": 26,
   "metadata": {},
   "outputs": [
    {
     "data": {
      "text/plain": [
       "8766.266070556707"
      ]
     },
     "execution_count": 26,
     "metadata": {},
     "output_type": "execute_result"
    }
   ],
   "source": [
    "sm.tools.eval_measures.meanabs(scalery.inverse_transform(y_test), scalery.inverse_transform(test_pred), axis=1)[0]"
   ]
  },
  {
   "cell_type": "code",
   "execution_count": 27,
   "metadata": {},
   "outputs": [
    {
     "data": {
      "image/png": "[encoded data removed]",
      "text/plain": [
       "<Figure size 432x360 with 1 Axes>"
      ]
     },
     "metadata": {
      "needs_background": "light"
     },
     "output_type": "display_data"
    }
   ],
   "source": [
    "plot(scalery.inverse_transform(test_pred)[0], scalery.inverse_transform(y_test)[0], 'Test')"
   ]
  },
  {
   "cell_type": "code",
   "execution_count": 28,
   "metadata": {},
   "outputs": [
    {
     "data": {
      "image/png": "[encoded data removed]",
      "text/plain": [
       "<Figure size 432x360 with 1 Axes>"
      ]
     },
     "metadata": {
      "needs_background": "light"
     },
     "output_type": "display_data"
    }
   ],
   "source": [
    "plot(test_pred[0], y_test[0], 'Test')"
   ]
  },
  {
   "cell_type": "code",
   "execution_count": 29,
   "metadata": {},
   "outputs": [],
   "source": [
    "# ROBUST 0.16 8643\n",
    "# STANDARD 0.23  8478\n",
    "# MINMAX 0.05  8426"
   ]
  },
  {
   "cell_type": "markdown",
   "metadata": {},
   "source": [
    "### Performance on seen Training Dataset"
   ]
  },
  {
   "cell_type": "code",
   "execution_count": 30,
   "metadata": {},
   "outputs": [
    {
     "data": {
      "text/plain": [
       "0.057684691776975515"
      ]
     },
     "execution_count": 30,
     "metadata": {},
     "output_type": "execute_result"
    }
   ],
   "source": [
    "sm.tools.eval_measures.meanabs(y_train, train_pred)"
   ]
  },
  {
   "cell_type": "code",
   "execution_count": 31,
   "metadata": {},
   "outputs": [
    {
     "data": {
      "image/png": "[encoded data removed]",
      "text/plain": [
       "<Figure size 432x360 with 1 Axes>"
      ]
     },
     "metadata": {
      "needs_background": "light"
     },
     "output_type": "display_data"
    }
   ],
   "source": [
    "plot(train_pred, y_train, 'Train')"
   ]
  },
  {
   "cell_type": "markdown",
   "metadata": {},
   "source": [
    "### Problem of negative Prices\n",
    "\n",
    "- modelling log-price; this is a common strategy with price-like variables in economics\n",
    "- using generalized linear models (GLMs). A gamma-model with a log-link would be quite similar to modelling log-price, but the model would be for the expected price rather than expected log-price. This may have some advantages. If you need the relationship with the predictors to be linear in actual price, this can be done (identity link), but a log link for this sort of data would be more common."
   ]
  },
  {
   "cell_type": "code",
   "execution_count": null,
   "metadata": {},
   "outputs": [],
   "source": []
  },
  {
   "cell_type": "code",
   "execution_count": null,
   "metadata": {},
   "outputs": [],
   "source": []
  }
 ],
 "metadata": {
  "kernelspec": {
   "display_name": "Python 3",
   "language": "python",
   "name": "python3"
  },
  "language_info": {
   "codemirror_mode": {
    "name": "ipython",
    "version": 3
   },
   "file_extension": ".py",
   "mimetype": "text/x-python",
   "name": "python",
   "nbconvert_exporter": "python",
   "pygments_lexer": "ipython3",
   "version": "3.7.9"
  }
 },
 "nbformat": 4,
 "nbformat_minor": 4
}
