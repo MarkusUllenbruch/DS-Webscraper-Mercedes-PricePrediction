{
 "cells": [
  {
   "cell_type": "markdown",
   "metadata": {},
   "source": [
    "# Model Building"
   ]
  },
  {
   "cell_type": "code",
   "execution_count": 1,
   "metadata": {},
   "outputs": [],
   "source": [
    "import numpy as np\n",
    "import pandas as pd\n",
    "import statsmodels.api as sm\n",
    "from sklearn.preprocessing import StandardScaler, MinMaxScaler, RobustScaler\n",
    "from sklearn.model_selection import train_test_split\n",
    "import matplotlib.pyplot as plt\n",
    "import seaborn as sns"
   ]
  },
  {
   "cell_type": "code",
   "execution_count": 2,
   "metadata": {},
   "outputs": [],
   "source": [
    "data = pd.read_csv('data_cleaned.csv')"
   ]
  },
  {
   "cell_type": "code",
   "execution_count": 3,
   "metadata": {},
   "outputs": [
    {
     "name": "stdout",
     "output_type": "stream",
     "text": [
      "<class 'pandas.core.frame.DataFrame'>\n",
      "RangeIndex: 11974 entries, 0 to 11973\n",
      "Data columns (total 33 columns):\n",
      " #   Column          Non-Null Count  Dtype  \n",
      "---  ------          --------------  -----  \n",
      " 0   Unnamed: 0      11974 non-null  int64  \n",
      " 1   carname         11974 non-null  object \n",
      " 2   price           11974 non-null  float64\n",
      " 3   milage          11974 non-null  float64\n",
      " 4   hubraum         11974 non-null  float64\n",
      " 5   transmission    11974 non-null  object \n",
      " 6   num_seats       11974 non-null  object \n",
      " 7   num_doors       11974 non-null  object \n",
      " 8   emission_class  11974 non-null  object \n",
      " 9   car_type        11974 non-null  object \n",
      " 10  num_owners      11974 non-null  object \n",
      " 11  age             11974 non-null  float64\n",
      " 12  power_ps        11974 non-null  float64\n",
      " 13  power_kw        11974 non-null  float64\n",
      " 14  Schaden         11974 non-null  object \n",
      " 15  Model           11974 non-null  object \n",
      " 16  amg             11974 non-null  int64  \n",
      " 17  mc_laren        11974 non-null  int64  \n",
      " 18  blk_series      11974 non-null  int64  \n",
      " 19  blue_eff        11974 non-null  int64  \n",
      " 20  g_pow           11974 non-null  int64  \n",
      " 21  brabus          11974 non-null  int64  \n",
      " 22  avantgarde      11974 non-null  int64  \n",
      " 23  elegance        11974 non-null  int64  \n",
      " 24  tag_63          11974 non-null  int64  \n",
      " 25  tag_65          11974 non-null  int64  \n",
      " 26  tag_55          11974 non-null  int64  \n",
      " 27  tüv             11974 non-null  int64  \n",
      " 28  E10             11974 non-null  int64  \n",
      " 29  biodiesel       11974 non-null  int64  \n",
      " 30  pflanzenöl      11974 non-null  int64  \n",
      " 31  electric        11974 non-null  int64  \n",
      " 32  fueltype        11974 non-null  object \n",
      "dtypes: float64(6), int64(17), object(10)\n",
      "memory usage: 3.0+ MB\n"
     ]
    }
   ],
   "source": [
    "data.info()"
   ]
  },
  {
   "cell_type": "code",
   "execution_count": 4,
   "metadata": {},
   "outputs": [
    {
     "data": {
      "text/plain": [
       "Index(['Unnamed: 0', 'carname', 'price', 'milage', 'hubraum', 'transmission',\n",
       "       'num_seats', 'num_doors', 'emission_class', 'car_type', 'num_owners',\n",
       "       'age', 'power_ps', 'power_kw', 'Schaden', 'Model', 'amg', 'mc_laren',\n",
       "       'blk_series', 'blue_eff', 'g_pow', 'brabus', 'avantgarde', 'elegance',\n",
       "       'tag_63', 'tag_65', 'tag_55', 'tüv', 'E10', 'biodiesel', 'pflanzenöl',\n",
       "       'electric', 'fueltype'],\n",
       "      dtype='object')"
      ]
     },
     "execution_count": 4,
     "metadata": {},
     "output_type": "execute_result"
    }
   ],
   "source": [
    "data.columns"
   ]
  },
  {
   "cell_type": "code",
   "execution_count": 5,
   "metadata": {},
   "outputs": [],
   "source": [
    "data_dummies = data.drop(['carname', 'Unnamed: 0', 'power_kw'], axis=1)"
   ]
  },
  {
   "cell_type": "code",
   "execution_count": 6,
   "metadata": {},
   "outputs": [
    {
     "name": "stdout",
     "output_type": "stream",
     "text": [
      "<class 'pandas.core.frame.DataFrame'>\n",
      "RangeIndex: 11974 entries, 0 to 11973\n",
      "Data columns (total 30 columns):\n",
      " #   Column          Non-Null Count  Dtype  \n",
      "---  ------          --------------  -----  \n",
      " 0   price           11974 non-null  float64\n",
      " 1   milage          11974 non-null  float64\n",
      " 2   hubraum         11974 non-null  float64\n",
      " 3   transmission    11974 non-null  object \n",
      " 4   num_seats       11974 non-null  object \n",
      " 5   num_doors       11974 non-null  object \n",
      " 6   emission_class  11974 non-null  object \n",
      " 7   car_type        11974 non-null  object \n",
      " 8   num_owners      11974 non-null  object \n",
      " 9   age             11974 non-null  float64\n",
      " 10  power_ps        11974 non-null  float64\n",
      " 11  Schaden         11974 non-null  object \n",
      " 12  Model           11974 non-null  object \n",
      " 13  amg             11974 non-null  int64  \n",
      " 14  mc_laren        11974 non-null  int64  \n",
      " 15  blk_series      11974 non-null  int64  \n",
      " 16  blue_eff        11974 non-null  int64  \n",
      " 17  g_pow           11974 non-null  int64  \n",
      " 18  brabus          11974 non-null  int64  \n",
      " 19  avantgarde      11974 non-null  int64  \n",
      " 20  elegance        11974 non-null  int64  \n",
      " 21  tag_63          11974 non-null  int64  \n",
      " 22  tag_65          11974 non-null  int64  \n",
      " 23  tag_55          11974 non-null  int64  \n",
      " 24  tüv             11974 non-null  int64  \n",
      " 25  E10             11974 non-null  int64  \n",
      " 26  biodiesel       11974 non-null  int64  \n",
      " 27  pflanzenöl      11974 non-null  int64  \n",
      " 28  electric        11974 non-null  int64  \n",
      " 29  fueltype        11974 non-null  object \n",
      "dtypes: float64(5), int64(16), object(9)\n",
      "memory usage: 2.7+ MB\n"
     ]
    }
   ],
   "source": [
    "data_dummies.info()"
   ]
  },
  {
   "cell_type": "code",
   "execution_count": 7,
   "metadata": {},
   "outputs": [],
   "source": [
    "data_dummies = pd.get_dummies(data_dummies, dtype=float)"
   ]
  },
  {
   "cell_type": "code",
   "execution_count": 8,
   "metadata": {},
   "outputs": [
    {
     "name": "stdout",
     "output_type": "stream",
     "text": [
      "<class 'pandas.core.frame.DataFrame'>\n",
      "RangeIndex: 11974 entries, 0 to 11973\n",
      "Columns: 108 entries, price to fueltype_na\n",
      "dtypes: float64(92), int64(16)\n",
      "memory usage: 9.9 MB\n"
     ]
    }
   ],
   "source": [
    "data_dummies.info()"
   ]
  },
  {
   "cell_type": "code",
   "execution_count": 9,
   "metadata": {},
   "outputs": [],
   "source": [
    "data_dummies = data_dummies.astype(float)"
   ]
  },
  {
   "cell_type": "code",
   "execution_count": 10,
   "metadata": {},
   "outputs": [
    {
     "name": "stdout",
     "output_type": "stream",
     "text": [
      "<class 'pandas.core.frame.DataFrame'>\n",
      "RangeIndex: 11974 entries, 0 to 11973\n",
      "Columns: 108 entries, price to fueltype_na\n",
      "dtypes: float64(108)\n",
      "memory usage: 9.9 MB\n"
     ]
    }
   ],
   "source": [
    "data_dummies.info()"
   ]
  },
  {
   "cell_type": "markdown",
   "metadata": {},
   "source": [
    "### Split Training & Test Data"
   ]
  },
  {
   "cell_type": "code",
   "execution_count": 11,
   "metadata": {},
   "outputs": [],
   "source": [
    "data_train, data_test = train_test_split(data_dummies, test_size = 0.15, shuffle=True)"
   ]
  },
  {
   "cell_type": "markdown",
   "metadata": {},
   "source": [
    "### Make Features and label data"
   ]
  },
  {
   "cell_type": "code",
   "execution_count": 12,
   "metadata": {},
   "outputs": [],
   "source": [
    "y_train = data_train[[\"price\"]]  #Labels\n",
    "X_train = data_train.drop(\"price\", axis=1)  #Features\n",
    "\n",
    "y_test = data_test[[\"price\"]]  #Labels\n",
    "X_test = data_test.drop(\"price\", axis=1)  #Features"
   ]
  },
  {
   "cell_type": "markdown",
   "metadata": {},
   "source": [
    "### Scale features and labels"
   ]
  },
  {
   "cell_type": "code",
   "execution_count": 13,
   "metadata": {},
   "outputs": [],
   "source": [
    "method = 'MinMax'\n",
    "\n",
    "if method == 'Standard':\n",
    "    scalerx = StandardScaler().fit(X_train)\n",
    "    scalery = StandardScaler().fit(y_train)\n",
    "    \n",
    "elif method == 'MinMax':\n",
    "    scalerx = MinMaxScaler().fit(X_train)\n",
    "    scalery = MinMaxScaler().fit(y_train)\n",
    "    \n",
    "elif method == 'Robust':\n",
    "    scalerx = RobustScaler().fit(X_train)\n",
    "    scalery = RobustScaler().fit(y_train)"
   ]
  },
  {
   "cell_type": "code",
   "execution_count": 14,
   "metadata": {},
   "outputs": [],
   "source": [
    "X_train = pd.DataFrame(scalerx.transform(X_train), columns=X_train.columns)\n",
    "y_train = pd.DataFrame(scalery.transform(y_train), columns=y_train.columns)\n",
    "y_train = y_train.T.squeeze()\n",
    "\n",
    "X_test = pd.DataFrame(scalerx.transform(X_test), columns=X_test.columns)\n",
    "y_test = pd.DataFrame(scalery.transform(y_test), columns=y_test.columns)\n",
    "y_test = y_test.T.squeeze()"
   ]
  },
  {
   "cell_type": "markdown",
   "metadata": {},
   "source": [
    "### Automating Feature Selection and Regression Model Building"
   ]
  },
  {
   "cell_type": "code",
   "execution_count": 15,
   "metadata": {},
   "outputs": [
    {
     "name": "stdout",
     "output_type": "stream",
     "text": [
      "Dropping features with p-value P(t) > 0.05: \n",
      "\n",
      "1. Dropped num_owners_4 with p-value 0.9748464095684543\n",
      "2. Dropped Model_GL with p-value 0.9714931972277727\n",
      "3. Dropped num_owners_na with p-value 0.9332771750317459\n",
      "4. Dropped fueltype_Erdgas with p-value 0.9310668058946339\n",
      "5. Dropped num_seats_19 with p-value 0.8601235168177459\n",
      "6. Dropped num_seats_2 with p-value 0.9991909378177712\n",
      "7. Dropped g_pow with p-value 0.9895067272448249\n",
      "8. Dropped mc_laren with p-value 0.894750625656881\n",
      "9. Dropped fueltype_Hybrid with p-value 0.8269901411112284\n",
      "10. Dropped fueltype_na with p-value 0.7959517122317875\n",
      "11. Dropped num_owners_5 with p-value 0.7920029757749463\n",
      "12. Dropped num_owners_9 with p-value 0.7160320465664414\n",
      "13. Dropped num_seats_15 with p-value 0.6709531338860477\n",
      "14. Dropped fueltype_Diesel with p-value 0.6694241072431768\n",
      "15. Dropped emission_class_Euro6c with p-value 0.6324688952015269\n",
      "16. Dropped transmission_Halbautomatik with p-value 0.5803081582963321\n",
      "17. Dropped transmission_-1 with p-value 0.9899234784139724\n",
      "18. Dropped car_type_kombi with p-value 0.8294573975084127\n",
      "19. Dropped car_type_suv with p-value 0.8838983268862611\n",
      "20. Dropped Model_OTHER with p-value 0.4295201113616487\n",
      "21. Dropped fueltype_Autogas with p-value 0.41284993430989314\n",
      "22. Dropped num_owners_6 with p-value 0.3928222112442219\n",
      "23. Dropped pflanzenöl with p-value 0.2937461306683689\n",
      "24. Dropped emission_class_Euro6d-TEMP with p-value 0.2975874800407064\n",
      "25. Dropped emission_class_Euro3 with p-value 0.3117274228867748\n",
      "26. Dropped biodiesel with p-value 0.2715756351502082\n",
      "27. Dropped num_seats_21 with p-value 0.21090034243127875\n",
      "28. Dropped num_owners_0 with p-value 0.19912043676217786\n",
      "29. Dropped transmission_Automatik with p-value 0.1390433661819606\n",
      "30. Dropped car_type_limousine with p-value 0.1314242581447122\n",
      "31. Dropped Model_V-Klasse with p-value 0.09550370784554982\n",
      "32. Dropped brabus with p-value 0.08886347552913648\n",
      "33. Dropped avantgarde with p-value 0.05613781182260798\n",
      "\n",
      "\n",
      "Selected features: \n",
      "\n",
      " ['milage', 'hubraum', 'age', 'power_ps', 'amg', 'blk_series', 'blue_eff', 'elegance', 'tag_63', 'tag_65', 'tag_55', 'tüv', 'E10', 'electric', 'transmission_Schaltgetriebe', 'num_seats_17', 'num_seats_20', 'num_seats_3', 'num_seats_4', 'num_seats_5', 'num_seats_6', 'num_seats_7', 'num_seats_8', 'num_seats_9', 'num_seats_na', 'num_doors_2/3', 'num_doors_4/5', 'num_doors_6/7', 'num_doors_na', 'emission_class_Euro1', 'emission_class_Euro2', 'emission_class_Euro4', 'emission_class_Euro5', 'emission_class_Euro6', 'emission_class_Euro6d', 'emission_class_na', 'car_type_andere', 'car_type_cabrio', 'car_type_kleinwagen', 'car_type_sport', 'car_type_van', 'num_owners_1', 'num_owners_2', 'num_owners_3', 'Schaden_na', 'Schaden_repaired', 'Schaden_without', 'Model_A-Klasse', 'Model_B-Klasse', 'Model_C-Klasse', 'Model_CL', 'Model_CLA', 'Model_CLC', 'Model_CLK', 'Model_E-Klasse', 'Model_G-Klasse', 'Model_GLA', 'Model_GLB', 'Model_GLC', 'Model_GLE', 'Model_GLK', 'Model_GLS', 'Model_GT', 'Model_M-Klasse', 'Model_MarcoPolo', 'Model_R-Klasse', 'Model_S-Klasse', 'Model_SL', 'Model_Sprinter', 'Model_Vaneo', 'Model_Vito', 'fueltype_Andere', 'fueltype_Benzin', 'fueltype_Elektro']\n"
     ]
    }
   ],
   "source": [
    "print('Dropping features with p-value P(t) > 0.05: \\n')\n",
    "cols = list(X_train.columns)\n",
    "pmax = 1\n",
    "i = 1\n",
    "while (len(cols) > 0):\n",
    "    p = []\n",
    "    X_1 = X_train\n",
    "    X_1 = sm.add_constant(X_1)\n",
    "    model = sm.OLS(y_train, X_1).fit()\n",
    "    p = pd.Series(model.pvalues.values[1:], index = cols)\n",
    "    pmax = max(p)\n",
    "    feature_with_p_max = p.idxmax()\n",
    "    if pmax > 0.05:\n",
    "        cols.remove(feature_with_p_max)\n",
    "        X_train = X_train.drop(feature_with_p_max, axis=1)\n",
    "        X_test = X_test.drop(feature_with_p_max, axis=1)\n",
    "        print(str(i) + '. Dropped', feature_with_p_max, 'with p-value', pmax)\n",
    "        i += 1\n",
    "    else:\n",
    "        break\n",
    "selected_features = cols\n",
    "print('\\n\\nSelected features: \\n\\n', selected_features)"
   ]
  },
  {
   "cell_type": "code",
   "execution_count": 16,
   "metadata": {},
   "outputs": [
    {
     "data": {
      "text/plain": [
       "(10177, 74)"
      ]
     },
     "execution_count": 16,
     "metadata": {},
     "output_type": "execute_result"
    }
   ],
   "source": [
    "X_train.shape"
   ]
  },
  {
   "cell_type": "code",
   "execution_count": 17,
   "metadata": {},
   "outputs": [
    {
     "data": {
      "text/plain": [
       "pandas.core.frame.DataFrame"
      ]
     },
     "execution_count": 17,
     "metadata": {},
     "output_type": "execute_result"
    }
   ],
   "source": [
    "type(X_train)"
   ]
  },
  {
   "cell_type": "code",
   "execution_count": 18,
   "metadata": {},
   "outputs": [
    {
     "data": {
      "text/plain": [
       "(1797, 74)"
      ]
     },
     "execution_count": 18,
     "metadata": {},
     "output_type": "execute_result"
    }
   ],
   "source": [
    "X_test.shape"
   ]
  },
  {
   "cell_type": "code",
   "execution_count": 19,
   "metadata": {},
   "outputs": [
    {
     "data": {
      "text/plain": [
       "pandas.core.frame.DataFrame"
      ]
     },
     "execution_count": 19,
     "metadata": {},
     "output_type": "execute_result"
    }
   ],
   "source": [
    "type(X_test)"
   ]
  },
  {
   "cell_type": "code",
   "execution_count": 20,
   "metadata": {},
   "outputs": [
    {
     "data": {
      "text/html": [
       "<table class=\"simpletable\">\n",
       "<caption>OLS Regression Results</caption>\n",
       "<tr>\n",
       "  <th>Dep. Variable:</th>          <td>price</td>      <th>  R-squared:         </th>  <td>   0.872</td> \n",
       "</tr>\n",
       "<tr>\n",
       "  <th>Model:</th>                   <td>OLS</td>       <th>  Adj. R-squared:    </th>  <td>   0.871</td> \n",
       "</tr>\n",
       "<tr>\n",
       "  <th>Method:</th>             <td>Least Squares</td>  <th>  F-statistic:       </th>  <td>   958.2</td> \n",
       "</tr>\n",
       "<tr>\n",
       "  <th>Date:</th>             <td>Sun, 10 Jan 2021</td> <th>  Prob (F-statistic):</th>   <td>  0.00</td>  \n",
       "</tr>\n",
       "<tr>\n",
       "  <th>Time:</th>                 <td>19:38:01</td>     <th>  Log-Likelihood:    </th>  <td>  10705.</td> \n",
       "</tr>\n",
       "<tr>\n",
       "  <th>No. Observations:</th>      <td> 10177</td>      <th>  AIC:               </th> <td>-2.126e+04</td>\n",
       "</tr>\n",
       "<tr>\n",
       "  <th>Df Residuals:</th>          <td> 10104</td>      <th>  BIC:               </th> <td>-2.074e+04</td>\n",
       "</tr>\n",
       "<tr>\n",
       "  <th>Df Model:</th>              <td>    72</td>      <th>                     </th>      <td> </td>    \n",
       "</tr>\n",
       "<tr>\n",
       "  <th>Covariance Type:</th>      <td>nonrobust</td>    <th>                     </th>      <td> </td>    \n",
       "</tr>\n",
       "</table>\n",
       "<table class=\"simpletable\">\n",
       "<tr>\n",
       "               <td></td>                  <th>coef</th>     <th>std err</th>      <th>t</th>      <th>P>|t|</th>  <th>[0.025</th>    <th>0.975]</th>  \n",
       "</tr>\n",
       "<tr>\n",
       "  <th>const</th>                       <td>    0.1712</td> <td>    0.010</td> <td>   16.599</td> <td> 0.000</td> <td>    0.151</td> <td>    0.191</td>\n",
       "</tr>\n",
       "<tr>\n",
       "  <th>milage</th>                      <td>   -0.3493</td> <td>    0.013</td> <td>  -26.959</td> <td> 0.000</td> <td>   -0.375</td> <td>   -0.324</td>\n",
       "</tr>\n",
       "<tr>\n",
       "  <th>hubraum</th>                     <td>   -0.1268</td> <td>    0.016</td> <td>   -8.151</td> <td> 0.000</td> <td>   -0.157</td> <td>   -0.096</td>\n",
       "</tr>\n",
       "<tr>\n",
       "  <th>age</th>                         <td>   -0.2244</td> <td>    0.010</td> <td>  -21.923</td> <td> 0.000</td> <td>   -0.244</td> <td>   -0.204</td>\n",
       "</tr>\n",
       "<tr>\n",
       "  <th>power_ps</th>                    <td>    0.7367</td> <td>    0.016</td> <td>   47.357</td> <td> 0.000</td> <td>    0.706</td> <td>    0.767</td>\n",
       "</tr>\n",
       "<tr>\n",
       "  <th>amg</th>                         <td>    0.0174</td> <td>    0.002</td> <td>    7.110</td> <td> 0.000</td> <td>    0.013</td> <td>    0.022</td>\n",
       "</tr>\n",
       "<tr>\n",
       "  <th>blk_series</th>                  <td>    0.1374</td> <td>    0.035</td> <td>    3.922</td> <td> 0.000</td> <td>    0.069</td> <td>    0.206</td>\n",
       "</tr>\n",
       "<tr>\n",
       "  <th>blue_eff</th>                    <td>   -0.0163</td> <td>    0.004</td> <td>   -4.063</td> <td> 0.000</td> <td>   -0.024</td> <td>   -0.008</td>\n",
       "</tr>\n",
       "<tr>\n",
       "  <th>elegance</th>                    <td>    0.0166</td> <td>    0.007</td> <td>    2.342</td> <td> 0.019</td> <td>    0.003</td> <td>    0.030</td>\n",
       "</tr>\n",
       "<tr>\n",
       "  <th>tag_63</th>                      <td>   -0.0216</td> <td>    0.005</td> <td>   -4.557</td> <td> 0.000</td> <td>   -0.031</td> <td>   -0.012</td>\n",
       "</tr>\n",
       "<tr>\n",
       "  <th>tag_65</th>                      <td>    0.0368</td> <td>    0.015</td> <td>    2.499</td> <td> 0.012</td> <td>    0.008</td> <td>    0.066</td>\n",
       "</tr>\n",
       "<tr>\n",
       "  <th>tag_55</th>                      <td>   -0.0739</td> <td>    0.019</td> <td>   -3.915</td> <td> 0.000</td> <td>   -0.111</td> <td>   -0.037</td>\n",
       "</tr>\n",
       "<tr>\n",
       "  <th>tüv</th>                         <td>    0.0164</td> <td>    0.005</td> <td>    3.191</td> <td> 0.001</td> <td>    0.006</td> <td>    0.027</td>\n",
       "</tr>\n",
       "<tr>\n",
       "  <th>E10</th>                         <td>   -0.0113</td> <td>    0.004</td> <td>   -3.220</td> <td> 0.001</td> <td>   -0.018</td> <td>   -0.004</td>\n",
       "</tr>\n",
       "<tr>\n",
       "  <th>electric</th>                    <td>    0.0657</td> <td>    0.004</td> <td>   15.042</td> <td> 0.000</td> <td>    0.057</td> <td>    0.074</td>\n",
       "</tr>\n",
       "<tr>\n",
       "  <th>transmission_Schaltgetriebe</th> <td>    0.0169</td> <td>    0.003</td> <td>    5.996</td> <td> 0.000</td> <td>    0.011</td> <td>    0.022</td>\n",
       "</tr>\n",
       "<tr>\n",
       "  <th>num_seats_17</th>                <td>    0.2285</td> <td>    0.085</td> <td>    2.678</td> <td> 0.007</td> <td>    0.061</td> <td>    0.396</td>\n",
       "</tr>\n",
       "<tr>\n",
       "  <th>num_seats_20</th>                <td>    0.2264</td> <td>    0.085</td> <td>    2.654</td> <td> 0.008</td> <td>    0.059</td> <td>    0.394</td>\n",
       "</tr>\n",
       "<tr>\n",
       "  <th>num_seats_3</th>                 <td>   -0.0962</td> <td>    0.011</td> <td>   -8.732</td> <td> 0.000</td> <td>   -0.118</td> <td>   -0.075</td>\n",
       "</tr>\n",
       "<tr>\n",
       "  <th>num_seats_4</th>                 <td>   -0.0617</td> <td>    0.007</td> <td>   -9.473</td> <td> 0.000</td> <td>   -0.074</td> <td>   -0.049</td>\n",
       "</tr>\n",
       "<tr>\n",
       "  <th>num_seats_5</th>                 <td>   -0.0755</td> <td>    0.007</td> <td>  -10.322</td> <td> 0.000</td> <td>   -0.090</td> <td>   -0.061</td>\n",
       "</tr>\n",
       "<tr>\n",
       "  <th>num_seats_6</th>                 <td>   -0.0457</td> <td>    0.010</td> <td>   -4.662</td> <td> 0.000</td> <td>   -0.065</td> <td>   -0.026</td>\n",
       "</tr>\n",
       "<tr>\n",
       "  <th>num_seats_7</th>                 <td>   -0.0370</td> <td>    0.009</td> <td>   -4.097</td> <td> 0.000</td> <td>   -0.055</td> <td>   -0.019</td>\n",
       "</tr>\n",
       "<tr>\n",
       "  <th>num_seats_8</th>                 <td>   -0.0568</td> <td>    0.011</td> <td>   -5.270</td> <td> 0.000</td> <td>   -0.078</td> <td>   -0.036</td>\n",
       "</tr>\n",
       "<tr>\n",
       "  <th>num_seats_9</th>                 <td>   -0.0459</td> <td>    0.014</td> <td>   -3.316</td> <td> 0.001</td> <td>   -0.073</td> <td>   -0.019</td>\n",
       "</tr>\n",
       "<tr>\n",
       "  <th>num_seats_na</th>                <td>   -0.0189</td> <td>    0.008</td> <td>   -2.302</td> <td> 0.021</td> <td>   -0.035</td> <td>   -0.003</td>\n",
       "</tr>\n",
       "<tr>\n",
       "  <th>num_doors_2/3</th>               <td>    0.0472</td> <td>    0.011</td> <td>    4.174</td> <td> 0.000</td> <td>    0.025</td> <td>    0.069</td>\n",
       "</tr>\n",
       "<tr>\n",
       "  <th>num_doors_4/5</th>               <td>    0.0574</td> <td>    0.011</td> <td>    5.363</td> <td> 0.000</td> <td>    0.036</td> <td>    0.078</td>\n",
       "</tr>\n",
       "<tr>\n",
       "  <th>num_doors_6/7</th>               <td>    0.1145</td> <td>    0.039</td> <td>    2.933</td> <td> 0.003</td> <td>    0.038</td> <td>    0.191</td>\n",
       "</tr>\n",
       "<tr>\n",
       "  <th>num_doors_na</th>                <td>   -0.0479</td> <td>    0.012</td> <td>   -4.123</td> <td> 0.000</td> <td>   -0.071</td> <td>   -0.025</td>\n",
       "</tr>\n",
       "<tr>\n",
       "  <th>emission_class_Euro1</th>        <td>    0.1334</td> <td>    0.027</td> <td>    4.861</td> <td> 0.000</td> <td>    0.080</td> <td>    0.187</td>\n",
       "</tr>\n",
       "<tr>\n",
       "  <th>emission_class_Euro2</th>        <td>    0.0346</td> <td>    0.017</td> <td>    1.975</td> <td> 0.048</td> <td>    0.000</td> <td>    0.069</td>\n",
       "</tr>\n",
       "<tr>\n",
       "  <th>emission_class_Euro4</th>        <td>   -0.0411</td> <td>    0.005</td> <td>   -8.644</td> <td> 0.000</td> <td>   -0.050</td> <td>   -0.032</td>\n",
       "</tr>\n",
       "<tr>\n",
       "  <th>emission_class_Euro5</th>        <td>   -0.0571</td> <td>    0.004</td> <td>  -13.439</td> <td> 0.000</td> <td>   -0.065</td> <td>   -0.049</td>\n",
       "</tr>\n",
       "<tr>\n",
       "  <th>emission_class_Euro6</th>        <td>   -0.0361</td> <td>    0.003</td> <td>  -13.851</td> <td> 0.000</td> <td>   -0.041</td> <td>   -0.031</td>\n",
       "</tr>\n",
       "<tr>\n",
       "  <th>emission_class_Euro6d</th>       <td>    0.0309</td> <td>    0.004</td> <td>    6.888</td> <td> 0.000</td> <td>    0.022</td> <td>    0.040</td>\n",
       "</tr>\n",
       "<tr>\n",
       "  <th>emission_class_na</th>           <td>    0.0211</td> <td>    0.004</td> <td>    5.552</td> <td> 0.000</td> <td>    0.014</td> <td>    0.029</td>\n",
       "</tr>\n",
       "<tr>\n",
       "  <th>car_type_andere</th>             <td>    0.0207</td> <td>    0.005</td> <td>    4.025</td> <td> 0.000</td> <td>    0.011</td> <td>    0.031</td>\n",
       "</tr>\n",
       "<tr>\n",
       "  <th>car_type_cabrio</th>             <td>    0.0798</td> <td>    0.007</td> <td>   12.092</td> <td> 0.000</td> <td>    0.067</td> <td>    0.093</td>\n",
       "</tr>\n",
       "<tr>\n",
       "  <th>car_type_kleinwagen</th>         <td>    0.0316</td> <td>    0.007</td> <td>    4.687</td> <td> 0.000</td> <td>    0.018</td> <td>    0.045</td>\n",
       "</tr>\n",
       "<tr>\n",
       "  <th>car_type_sport</th>              <td>    0.0259</td> <td>    0.003</td> <td>    7.508</td> <td> 0.000</td> <td>    0.019</td> <td>    0.033</td>\n",
       "</tr>\n",
       "<tr>\n",
       "  <th>car_type_van</th>                <td>    0.0179</td> <td>    0.004</td> <td>    4.057</td> <td> 0.000</td> <td>    0.009</td> <td>    0.027</td>\n",
       "</tr>\n",
       "<tr>\n",
       "  <th>num_owners_1</th>                <td>    0.0091</td> <td>    0.003</td> <td>    2.829</td> <td> 0.005</td> <td>    0.003</td> <td>    0.015</td>\n",
       "</tr>\n",
       "<tr>\n",
       "  <th>num_owners_2</th>                <td>   -0.0167</td> <td>    0.003</td> <td>   -4.989</td> <td> 0.000</td> <td>   -0.023</td> <td>   -0.010</td>\n",
       "</tr>\n",
       "<tr>\n",
       "  <th>num_owners_3</th>                <td>   -0.0188</td> <td>    0.006</td> <td>   -3.174</td> <td> 0.002</td> <td>   -0.030</td> <td>   -0.007</td>\n",
       "</tr>\n",
       "<tr>\n",
       "  <th>Schaden_na</th>                  <td>    0.0474</td> <td>    0.005</td> <td>   10.458</td> <td> 0.000</td> <td>    0.039</td> <td>    0.056</td>\n",
       "</tr>\n",
       "<tr>\n",
       "  <th>Schaden_repaired</th>            <td>    0.0540</td> <td>    0.008</td> <td>    6.417</td> <td> 0.000</td> <td>    0.037</td> <td>    0.070</td>\n",
       "</tr>\n",
       "<tr>\n",
       "  <th>Schaden_without</th>             <td>    0.0698</td> <td>    0.004</td> <td>   15.521</td> <td> 0.000</td> <td>    0.061</td> <td>    0.079</td>\n",
       "</tr>\n",
       "<tr>\n",
       "  <th>Model_A-Klasse</th>              <td>   -0.0609</td> <td>    0.006</td> <td>  -11.047</td> <td> 0.000</td> <td>   -0.072</td> <td>   -0.050</td>\n",
       "</tr>\n",
       "<tr>\n",
       "  <th>Model_B-Klasse</th>              <td>   -0.0773</td> <td>    0.006</td> <td>  -13.398</td> <td> 0.000</td> <td>   -0.089</td> <td>   -0.066</td>\n",
       "</tr>\n",
       "<tr>\n",
       "  <th>Model_C-Klasse</th>              <td>   -0.0535</td> <td>    0.004</td> <td>  -11.906</td> <td> 0.000</td> <td>   -0.062</td> <td>   -0.045</td>\n",
       "</tr>\n",
       "<tr>\n",
       "  <th>Model_CL</th>                    <td>   -0.0399</td> <td>    0.006</td> <td>   -6.238</td> <td> 0.000</td> <td>   -0.052</td> <td>   -0.027</td>\n",
       "</tr>\n",
       "<tr>\n",
       "  <th>Model_CLA</th>                   <td>   -0.0828</td> <td>    0.007</td> <td>  -11.528</td> <td> 0.000</td> <td>   -0.097</td> <td>   -0.069</td>\n",
       "</tr>\n",
       "<tr>\n",
       "  <th>Model_CLC</th>                   <td>   -0.0835</td> <td>    0.021</td> <td>   -3.939</td> <td> 0.000</td> <td>   -0.125</td> <td>   -0.042</td>\n",
       "</tr>\n",
       "<tr>\n",
       "  <th>Model_CLK</th>                   <td>   -0.0537</td> <td>    0.010</td> <td>   -5.635</td> <td> 0.000</td> <td>   -0.072</td> <td>   -0.035</td>\n",
       "</tr>\n",
       "<tr>\n",
       "  <th>Model_E-Klasse</th>              <td>   -0.0462</td> <td>    0.004</td> <td>  -10.412</td> <td> 0.000</td> <td>   -0.055</td> <td>   -0.037</td>\n",
       "</tr>\n",
       "<tr>\n",
       "  <th>Model_G-Klasse</th>              <td>    0.2653</td> <td>    0.007</td> <td>   39.116</td> <td> 0.000</td> <td>    0.252</td> <td>    0.279</td>\n",
       "</tr>\n",
       "<tr>\n",
       "  <th>Model_GLA</th>                   <td>   -0.0779</td> <td>    0.008</td> <td>   -9.716</td> <td> 0.000</td> <td>   -0.094</td> <td>   -0.062</td>\n",
       "</tr>\n",
       "<tr>\n",
       "  <th>Model_GLB</th>                   <td>   -0.0326</td> <td>    0.013</td> <td>   -2.458</td> <td> 0.014</td> <td>   -0.059</td> <td>   -0.007</td>\n",
       "</tr>\n",
       "<tr>\n",
       "  <th>Model_GLC</th>                   <td>   -0.0364</td> <td>    0.006</td> <td>   -6.357</td> <td> 0.000</td> <td>   -0.048</td> <td>   -0.025</td>\n",
       "</tr>\n",
       "<tr>\n",
       "  <th>Model_GLE</th>                   <td>    0.0791</td> <td>    0.005</td> <td>   14.770</td> <td> 0.000</td> <td>    0.069</td> <td>    0.090</td>\n",
       "</tr>\n",
       "<tr>\n",
       "  <th>Model_GLK</th>                   <td>   -0.0486</td> <td>    0.011</td> <td>   -4.361</td> <td> 0.000</td> <td>   -0.071</td> <td>   -0.027</td>\n",
       "</tr>\n",
       "<tr>\n",
       "  <th>Model_GLS</th>                   <td>    0.1213</td> <td>    0.010</td> <td>   11.720</td> <td> 0.000</td> <td>    0.101</td> <td>    0.142</td>\n",
       "</tr>\n",
       "<tr>\n",
       "  <th>Model_GT</th>                    <td>    0.1320</td> <td>    0.009</td> <td>   13.964</td> <td> 0.000</td> <td>    0.114</td> <td>    0.151</td>\n",
       "</tr>\n",
       "<tr>\n",
       "  <th>Model_M-Klasse</th>              <td>   -0.0498</td> <td>    0.008</td> <td>   -6.633</td> <td> 0.000</td> <td>   -0.065</td> <td>   -0.035</td>\n",
       "</tr>\n",
       "<tr>\n",
       "  <th>Model_MarcoPolo</th>             <td>    0.0912</td> <td>    0.014</td> <td>    6.479</td> <td> 0.000</td> <td>    0.064</td> <td>    0.119</td>\n",
       "</tr>\n",
       "<tr>\n",
       "  <th>Model_R-Klasse</th>              <td>    0.0579</td> <td>    0.013</td> <td>    4.473</td> <td> 0.000</td> <td>    0.033</td> <td>    0.083</td>\n",
       "</tr>\n",
       "<tr>\n",
       "  <th>Model_S-Klasse</th>              <td>    0.0863</td> <td>    0.005</td> <td>   16.555</td> <td> 0.000</td> <td>    0.076</td> <td>    0.097</td>\n",
       "</tr>\n",
       "<tr>\n",
       "  <th>Model_SL</th>                    <td>   -0.0842</td> <td>    0.010</td> <td>   -8.316</td> <td> 0.000</td> <td>   -0.104</td> <td>   -0.064</td>\n",
       "</tr>\n",
       "<tr>\n",
       "  <th>Model_Sprinter</th>              <td>   -0.0451</td> <td>    0.007</td> <td>   -6.092</td> <td> 0.000</td> <td>   -0.060</td> <td>   -0.031</td>\n",
       "</tr>\n",
       "<tr>\n",
       "  <th>Model_Vaneo</th>                 <td>   -0.1237</td> <td>    0.010</td> <td>  -12.145</td> <td> 0.000</td> <td>   -0.144</td> <td>   -0.104</td>\n",
       "</tr>\n",
       "<tr>\n",
       "  <th>Model_Vito</th>                  <td>   -0.0748</td> <td>    0.007</td> <td>  -10.821</td> <td> 0.000</td> <td>   -0.088</td> <td>   -0.061</td>\n",
       "</tr>\n",
       "<tr>\n",
       "  <th>fueltype_Andere</th>             <td>    0.1702</td> <td>    0.085</td> <td>    1.995</td> <td> 0.046</td> <td>    0.003</td> <td>    0.337</td>\n",
       "</tr>\n",
       "<tr>\n",
       "  <th>fueltype_Benzin</th>             <td>   -0.0289</td> <td>    0.003</td> <td>  -11.499</td> <td> 0.000</td> <td>   -0.034</td> <td>   -0.024</td>\n",
       "</tr>\n",
       "<tr>\n",
       "  <th>fueltype_Elektro</th>            <td>    0.0368</td> <td>    0.011</td> <td>    3.503</td> <td> 0.000</td> <td>    0.016</td> <td>    0.057</td>\n",
       "</tr>\n",
       "</table>\n",
       "<table class=\"simpletable\">\n",
       "<tr>\n",
       "  <th>Omnibus:</th>       <td>3639.240</td> <th>  Durbin-Watson:     </th> <td>   2.002</td> \n",
       "</tr>\n",
       "<tr>\n",
       "  <th>Prob(Omnibus):</th>  <td> 0.000</td>  <th>  Jarque-Bera (JB):  </th> <td>32013.074</td>\n",
       "</tr>\n",
       "<tr>\n",
       "  <th>Skew:</th>           <td> 1.467</td>  <th>  Prob(JB):          </th> <td>    0.00</td> \n",
       "</tr>\n",
       "<tr>\n",
       "  <th>Kurtosis:</th>       <td>11.179</td>  <th>  Cond. No.          </th> <td>6.09e+15</td> \n",
       "</tr>\n",
       "</table><br/><br/>Notes:<br/>[1] Standard Errors assume that the covariance matrix of the errors is correctly specified.<br/>[2] The smallest eigenvalue is 1.04e-27. This might indicate that there are<br/>strong multicollinearity problems or that the design matrix is singular."
      ],
      "text/plain": [
       "<class 'statsmodels.iolib.summary.Summary'>\n",
       "\"\"\"\n",
       "                            OLS Regression Results                            \n",
       "==============================================================================\n",
       "Dep. Variable:                  price   R-squared:                       0.872\n",
       "Model:                            OLS   Adj. R-squared:                  0.871\n",
       "Method:                 Least Squares   F-statistic:                     958.2\n",
       "Date:                Sun, 10 Jan 2021   Prob (F-statistic):               0.00\n",
       "Time:                        19:38:01   Log-Likelihood:                 10705.\n",
       "No. Observations:               10177   AIC:                        -2.126e+04\n",
       "Df Residuals:                   10104   BIC:                        -2.074e+04\n",
       "Df Model:                          72                                         \n",
       "Covariance Type:            nonrobust                                         \n",
       "===============================================================================================\n",
       "                                  coef    std err          t      P>|t|      [0.025      0.975]\n",
       "-----------------------------------------------------------------------------------------------\n",
       "const                           0.1712      0.010     16.599      0.000       0.151       0.191\n",
       "milage                         -0.3493      0.013    -26.959      0.000      -0.375      -0.324\n",
       "hubraum                        -0.1268      0.016     -8.151      0.000      -0.157      -0.096\n",
       "age                            -0.2244      0.010    -21.923      0.000      -0.244      -0.204\n",
       "power_ps                        0.7367      0.016     47.357      0.000       0.706       0.767\n",
       "amg                             0.0174      0.002      7.110      0.000       0.013       0.022\n",
       "blk_series                      0.1374      0.035      3.922      0.000       0.069       0.206\n",
       "blue_eff                       -0.0163      0.004     -4.063      0.000      -0.024      -0.008\n",
       "elegance                        0.0166      0.007      2.342      0.019       0.003       0.030\n",
       "tag_63                         -0.0216      0.005     -4.557      0.000      -0.031      -0.012\n",
       "tag_65                          0.0368      0.015      2.499      0.012       0.008       0.066\n",
       "tag_55                         -0.0739      0.019     -3.915      0.000      -0.111      -0.037\n",
       "tüv                             0.0164      0.005      3.191      0.001       0.006       0.027\n",
       "E10                            -0.0113      0.004     -3.220      0.001      -0.018      -0.004\n",
       "electric                        0.0657      0.004     15.042      0.000       0.057       0.074\n",
       "transmission_Schaltgetriebe     0.0169      0.003      5.996      0.000       0.011       0.022\n",
       "num_seats_17                    0.2285      0.085      2.678      0.007       0.061       0.396\n",
       "num_seats_20                    0.2264      0.085      2.654      0.008       0.059       0.394\n",
       "num_seats_3                    -0.0962      0.011     -8.732      0.000      -0.118      -0.075\n",
       "num_seats_4                    -0.0617      0.007     -9.473      0.000      -0.074      -0.049\n",
       "num_seats_5                    -0.0755      0.007    -10.322      0.000      -0.090      -0.061\n",
       "num_seats_6                    -0.0457      0.010     -4.662      0.000      -0.065      -0.026\n",
       "num_seats_7                    -0.0370      0.009     -4.097      0.000      -0.055      -0.019\n",
       "num_seats_8                    -0.0568      0.011     -5.270      0.000      -0.078      -0.036\n",
       "num_seats_9                    -0.0459      0.014     -3.316      0.001      -0.073      -0.019\n",
       "num_seats_na                   -0.0189      0.008     -2.302      0.021      -0.035      -0.003\n",
       "num_doors_2/3                   0.0472      0.011      4.174      0.000       0.025       0.069\n",
       "num_doors_4/5                   0.0574      0.011      5.363      0.000       0.036       0.078\n",
       "num_doors_6/7                   0.1145      0.039      2.933      0.003       0.038       0.191\n",
       "num_doors_na                   -0.0479      0.012     -4.123      0.000      -0.071      -0.025\n",
       "emission_class_Euro1            0.1334      0.027      4.861      0.000       0.080       0.187\n",
       "emission_class_Euro2            0.0346      0.017      1.975      0.048       0.000       0.069\n",
       "emission_class_Euro4           -0.0411      0.005     -8.644      0.000      -0.050      -0.032\n",
       "emission_class_Euro5           -0.0571      0.004    -13.439      0.000      -0.065      -0.049\n",
       "emission_class_Euro6           -0.0361      0.003    -13.851      0.000      -0.041      -0.031\n",
       "emission_class_Euro6d           0.0309      0.004      6.888      0.000       0.022       0.040\n",
       "emission_class_na               0.0211      0.004      5.552      0.000       0.014       0.029\n",
       "car_type_andere                 0.0207      0.005      4.025      0.000       0.011       0.031\n",
       "car_type_cabrio                 0.0798      0.007     12.092      0.000       0.067       0.093\n",
       "car_type_kleinwagen             0.0316      0.007      4.687      0.000       0.018       0.045\n",
       "car_type_sport                  0.0259      0.003      7.508      0.000       0.019       0.033\n",
       "car_type_van                    0.0179      0.004      4.057      0.000       0.009       0.027\n",
       "num_owners_1                    0.0091      0.003      2.829      0.005       0.003       0.015\n",
       "num_owners_2                   -0.0167      0.003     -4.989      0.000      -0.023      -0.010\n",
       "num_owners_3                   -0.0188      0.006     -3.174      0.002      -0.030      -0.007\n",
       "Schaden_na                      0.0474      0.005     10.458      0.000       0.039       0.056\n",
       "Schaden_repaired                0.0540      0.008      6.417      0.000       0.037       0.070\n",
       "Schaden_without                 0.0698      0.004     15.521      0.000       0.061       0.079\n",
       "Model_A-Klasse                 -0.0609      0.006    -11.047      0.000      -0.072      -0.050\n",
       "Model_B-Klasse                 -0.0773      0.006    -13.398      0.000      -0.089      -0.066\n",
       "Model_C-Klasse                 -0.0535      0.004    -11.906      0.000      -0.062      -0.045\n",
       "Model_CL                       -0.0399      0.006     -6.238      0.000      -0.052      -0.027\n",
       "Model_CLA                      -0.0828      0.007    -11.528      0.000      -0.097      -0.069\n",
       "Model_CLC                      -0.0835      0.021     -3.939      0.000      -0.125      -0.042\n",
       "Model_CLK                      -0.0537      0.010     -5.635      0.000      -0.072      -0.035\n",
       "Model_E-Klasse                 -0.0462      0.004    -10.412      0.000      -0.055      -0.037\n",
       "Model_G-Klasse                  0.2653      0.007     39.116      0.000       0.252       0.279\n",
       "Model_GLA                      -0.0779      0.008     -9.716      0.000      -0.094      -0.062\n",
       "Model_GLB                      -0.0326      0.013     -2.458      0.014      -0.059      -0.007\n",
       "Model_GLC                      -0.0364      0.006     -6.357      0.000      -0.048      -0.025\n",
       "Model_GLE                       0.0791      0.005     14.770      0.000       0.069       0.090\n",
       "Model_GLK                      -0.0486      0.011     -4.361      0.000      -0.071      -0.027\n",
       "Model_GLS                       0.1213      0.010     11.720      0.000       0.101       0.142\n",
       "Model_GT                        0.1320      0.009     13.964      0.000       0.114       0.151\n",
       "Model_M-Klasse                 -0.0498      0.008     -6.633      0.000      -0.065      -0.035\n",
       "Model_MarcoPolo                 0.0912      0.014      6.479      0.000       0.064       0.119\n",
       "Model_R-Klasse                  0.0579      0.013      4.473      0.000       0.033       0.083\n",
       "Model_S-Klasse                  0.0863      0.005     16.555      0.000       0.076       0.097\n",
       "Model_SL                       -0.0842      0.010     -8.316      0.000      -0.104      -0.064\n",
       "Model_Sprinter                 -0.0451      0.007     -6.092      0.000      -0.060      -0.031\n",
       "Model_Vaneo                    -0.1237      0.010    -12.145      0.000      -0.144      -0.104\n",
       "Model_Vito                     -0.0748      0.007    -10.821      0.000      -0.088      -0.061\n",
       "fueltype_Andere                 0.1702      0.085      1.995      0.046       0.003       0.337\n",
       "fueltype_Benzin                -0.0289      0.003    -11.499      0.000      -0.034      -0.024\n",
       "fueltype_Elektro                0.0368      0.011      3.503      0.000       0.016       0.057\n",
       "==============================================================================\n",
       "Omnibus:                     3639.240   Durbin-Watson:                   2.002\n",
       "Prob(Omnibus):                  0.000   Jarque-Bera (JB):            32013.074\n",
       "Skew:                           1.467   Prob(JB):                         0.00\n",
       "Kurtosis:                      11.179   Cond. No.                     6.09e+15\n",
       "==============================================================================\n",
       "\n",
       "Notes:\n",
       "[1] Standard Errors assume that the covariance matrix of the errors is correctly specified.\n",
       "[2] The smallest eigenvalue is 1.04e-27. This might indicate that there are\n",
       "strong multicollinearity problems or that the design matrix is singular.\n",
       "\"\"\""
      ]
     },
     "execution_count": 20,
     "metadata": {},
     "output_type": "execute_result"
    }
   ],
   "source": [
    "model.summary()"
   ]
  },
  {
   "cell_type": "code",
   "execution_count": 21,
   "metadata": {},
   "outputs": [],
   "source": [
    "def plot(y_pred, y_true, savename, color):\n",
    "    fig, ax = plt.subplots(figsize=(6, 5)) \n",
    "    sns.scatterplot(y=y_true, x=y_pred, color=color, s=5)\n",
    "    xx = np.linspace(min(y_pred), max(y_pred), num=50)\n",
    "    plt.plot(xx, xx, color='k', linewidth=2)\n",
    "    plt.title('Prediction on ' + savename + ' Dataset')\n",
    "    plt.xlabel('Predicted Price')\n",
    "    plt.ylabel('True Price')\n",
    "    plt.tight_layout()\n",
    "    #ax.xaxis.set_major_formatter(ticker.EngFormatter())\n",
    "    #ax.yaxis.set_major_formatter(ticker.EngFormatter())\n",
    "    plt.grid(True)\n",
    "    plt.show()\n",
    "    fig.savefig('Plots/'+savename+'.png', dpi=300)"
   ]
  },
  {
   "cell_type": "code",
   "execution_count": 22,
   "metadata": {},
   "outputs": [],
   "source": [
    "try:\n",
    "    test_pred = model.predict(sm.add_constant(X_test))\n",
    "except:\n",
    "    test_pred = model.predict(sm.add_constant(X_test, has_constant='add'))\n",
    "\n",
    "try:\n",
    "    train_pred = model.predict(sm.add_constant(X_train))\n",
    "except:\n",
    "    train_pred = model.predict(sm.add_constant(X_train, has_constant='add'))"
   ]
  },
  {
   "cell_type": "code",
   "execution_count": 23,
   "metadata": {},
   "outputs": [],
   "source": [
    "def rescale_label(label):\n",
    "    Y = np.array([label])  # make 2D-Array\n",
    "    return list(scalery.inverse_transform(Y)[0])"
   ]
  },
  {
   "cell_type": "markdown",
   "metadata": {},
   "source": [
    "### Performance on unseen Test Dataset"
   ]
  },
  {
   "cell_type": "code",
   "execution_count": 24,
   "metadata": {},
   "outputs": [
    {
     "data": {
      "text/plain": [
       "0.05714175257346673"
      ]
     },
     "execution_count": 24,
     "metadata": {},
     "output_type": "execute_result"
    }
   ],
   "source": [
    "sm.tools.eval_measures.meanabs(y_test, test_pred)"
   ]
  },
  {
   "cell_type": "code",
   "execution_count": 25,
   "metadata": {},
   "outputs": [
    {
     "data": {
      "text/plain": [
       "8265.554509751963"
      ]
     },
     "execution_count": 25,
     "metadata": {},
     "output_type": "execute_result"
    }
   ],
   "source": [
    "sm.tools.eval_measures.meanabs(rescale_label(y_test), rescale_label(test_pred))"
   ]
  },
  {
   "cell_type": "code",
   "execution_count": 26,
   "metadata": {},
   "outputs": [
    {
     "data": {
      "image/png": "[encoded data removed]",
      "text/plain": [
       "<Figure size 432x360 with 1 Axes>"
      ]
     },
     "metadata": {
      "needs_background": "light"
     },
     "output_type": "display_data"
    }
   ],
   "source": [
    "plot(rescale_label(test_pred), rescale_label(y_test), 'Test', 'g')"
   ]
  },
  {
   "cell_type": "code",
   "execution_count": 27,
   "metadata": {},
   "outputs": [],
   "source": [
    "#plot(test_pred[0], y_test[0], 'Test')"
   ]
  },
  {
   "cell_type": "code",
   "execution_count": 28,
   "metadata": {},
   "outputs": [],
   "source": [
    "# ROBUST 0.16 8643\n",
    "# STANDARD 0.23  8478\n",
    "# MINMAX 0.05  8426"
   ]
  },
  {
   "cell_type": "markdown",
   "metadata": {},
   "source": [
    "### Performance on seen Training Dataset"
   ]
  },
  {
   "cell_type": "code",
   "execution_count": 29,
   "metadata": {},
   "outputs": [
    {
     "data": {
      "text/plain": [
       "8370.356736854608"
      ]
     },
     "execution_count": 29,
     "metadata": {},
     "output_type": "execute_result"
    }
   ],
   "source": [
    "sm.tools.eval_measures.meanabs(rescale_label(y_train), rescale_label(train_pred))"
   ]
  },
  {
   "cell_type": "code",
   "execution_count": 30,
   "metadata": {},
   "outputs": [
    {
     "data": {
      "image/png": "[encoded data removed]",
      "text/plain": [
       "<Figure size 432x360 with 1 Axes>"
      ]
     },
     "metadata": {
      "needs_background": "light"
     },
     "output_type": "display_data"
    }
   ],
   "source": [
    "plot(rescale_label(train_pred), rescale_label(y_train), 'Train', 'b')"
   ]
  },
  {
   "cell_type": "markdown",
   "metadata": {},
   "source": [
    "### Problem of negative Prices\n",
    "\n",
    "- modelling log-price; this is a common strategy with price-like variables in economics\n",
    "- using generalized linear models (GLMs). A gamma-model with a log-link would be quite similar to modelling log-price, but the model would be for the expected price rather than expected log-price. This may have some advantages. If you need the relationship with the predictors to be linear in actual price, this can be done (identity link), but a log link for this sort of data would be more common."
   ]
  },
  {
   "cell_type": "code",
   "execution_count": null,
   "metadata": {},
   "outputs": [],
   "source": []
  },
  {
   "cell_type": "code",
   "execution_count": null,
   "metadata": {},
   "outputs": [],
   "source": []
  }
 ],
 "metadata": {
  "kernelspec": {
   "display_name": "Python 3",
   "language": "python",
   "name": "python3"
  },
  "language_info": {
   "codemirror_mode": {
    "name": "ipython",
    "version": 3
   },
   "file_extension": ".py",
   "mimetype": "text/x-python",
   "name": "python",
   "nbconvert_exporter": "python",
   "pygments_lexer": "ipython3",
   "version": "3.7.9"
  }
 },
 "nbformat": 4,
 "nbformat_minor": 4
}
