{
 "cells": [
  {
   "cell_type": "markdown",
   "metadata": {},
   "source": [
    "# Model Building"
   ]
  },
  {
   "cell_type": "code",
   "execution_count": 1,
   "metadata": {},
   "outputs": [],
   "source": [
    "import numpy as np\n",
    "import pandas as pd\n",
    "import statsmodels.api as sm\n",
    "from sklearn.preprocessing import StandardScaler, MinMaxScaler, RobustScaler\n",
    "from sklearn.model_selection import train_test_split\n",
    "import matplotlib.pyplot as plt\n",
    "import seaborn as sns"
   ]
  },
  {
   "cell_type": "code",
   "execution_count": 2,
   "metadata": {},
   "outputs": [],
   "source": [
    "data = pd.read_csv('data_cleaned.csv')"
   ]
  },
  {
   "cell_type": "code",
   "execution_count": 3,
   "metadata": {},
   "outputs": [
    {
     "name": "stdout",
     "output_type": "stream",
     "text": [
      "<class 'pandas.core.frame.DataFrame'>\n",
      "RangeIndex: 11974 entries, 0 to 11973\n",
      "Data columns (total 33 columns):\n",
      " #   Column          Non-Null Count  Dtype  \n",
      "---  ------          --------------  -----  \n",
      " 0   Unnamed: 0      11974 non-null  int64  \n",
      " 1   carname         11974 non-null  object \n",
      " 2   price           11974 non-null  float64\n",
      " 3   milage          11974 non-null  float64\n",
      " 4   hubraum         11974 non-null  float64\n",
      " 5   transmission    11974 non-null  object \n",
      " 6   num_seats       11974 non-null  object \n",
      " 7   num_doors       11974 non-null  object \n",
      " 8   emission_class  11974 non-null  object \n",
      " 9   car_type        11974 non-null  object \n",
      " 10  num_owners      11974 non-null  object \n",
      " 11  age             11974 non-null  float64\n",
      " 12  power_ps        11974 non-null  float64\n",
      " 13  power_kw        11974 non-null  float64\n",
      " 14  Schaden         11974 non-null  object \n",
      " 15  Model           11974 non-null  object \n",
      " 16  amg             11974 non-null  int64  \n",
      " 17  mc_laren        11974 non-null  int64  \n",
      " 18  blk_series      11974 non-null  int64  \n",
      " 19  blue_eff        11974 non-null  int64  \n",
      " 20  g_pow           11974 non-null  int64  \n",
      " 21  brabus          11974 non-null  int64  \n",
      " 22  avantgarde      11974 non-null  int64  \n",
      " 23  elegance        11974 non-null  int64  \n",
      " 24  tag_63          11974 non-null  int64  \n",
      " 25  tag_65          11974 non-null  int64  \n",
      " 26  tag_55          11974 non-null  int64  \n",
      " 27  tüv             11974 non-null  int64  \n",
      " 28  E10             11974 non-null  int64  \n",
      " 29  biodiesel       11974 non-null  int64  \n",
      " 30  pflanzenöl      11974 non-null  int64  \n",
      " 31  electric        11974 non-null  int64  \n",
      " 32  fueltype        11974 non-null  object \n",
      "dtypes: float64(6), int64(17), object(10)\n",
      "memory usage: 3.0+ MB\n"
     ]
    }
   ],
   "source": [
    "data.info()"
   ]
  },
  {
   "cell_type": "code",
   "execution_count": 4,
   "metadata": {},
   "outputs": [
    {
     "data": {
      "text/plain": [
       "Index(['Unnamed: 0', 'carname', 'price', 'milage', 'hubraum', 'transmission',\n",
       "       'num_seats', 'num_doors', 'emission_class', 'car_type', 'num_owners',\n",
       "       'age', 'power_ps', 'power_kw', 'Schaden', 'Model', 'amg', 'mc_laren',\n",
       "       'blk_series', 'blue_eff', 'g_pow', 'brabus', 'avantgarde', 'elegance',\n",
       "       'tag_63', 'tag_65', 'tag_55', 'tüv', 'E10', 'biodiesel', 'pflanzenöl',\n",
       "       'electric', 'fueltype'],\n",
       "      dtype='object')"
      ]
     },
     "execution_count": 4,
     "metadata": {},
     "output_type": "execute_result"
    }
   ],
   "source": [
    "data.columns"
   ]
  },
  {
   "cell_type": "code",
   "execution_count": 5,
   "metadata": {},
   "outputs": [],
   "source": [
    "data_dummies = data.drop(['carname', 'Unnamed: 0', 'power_kw'], axis=1)"
   ]
  },
  {
   "cell_type": "code",
   "execution_count": 6,
   "metadata": {},
   "outputs": [
    {
     "name": "stdout",
     "output_type": "stream",
     "text": [
      "<class 'pandas.core.frame.DataFrame'>\n",
      "RangeIndex: 11974 entries, 0 to 11973\n",
      "Data columns (total 30 columns):\n",
      " #   Column          Non-Null Count  Dtype  \n",
      "---  ------          --------------  -----  \n",
      " 0   price           11974 non-null  float64\n",
      " 1   milage          11974 non-null  float64\n",
      " 2   hubraum         11974 non-null  float64\n",
      " 3   transmission    11974 non-null  object \n",
      " 4   num_seats       11974 non-null  object \n",
      " 5   num_doors       11974 non-null  object \n",
      " 6   emission_class  11974 non-null  object \n",
      " 7   car_type        11974 non-null  object \n",
      " 8   num_owners      11974 non-null  object \n",
      " 9   age             11974 non-null  float64\n",
      " 10  power_ps        11974 non-null  float64\n",
      " 11  Schaden         11974 non-null  object \n",
      " 12  Model           11974 non-null  object \n",
      " 13  amg             11974 non-null  int64  \n",
      " 14  mc_laren        11974 non-null  int64  \n",
      " 15  blk_series      11974 non-null  int64  \n",
      " 16  blue_eff        11974 non-null  int64  \n",
      " 17  g_pow           11974 non-null  int64  \n",
      " 18  brabus          11974 non-null  int64  \n",
      " 19  avantgarde      11974 non-null  int64  \n",
      " 20  elegance        11974 non-null  int64  \n",
      " 21  tag_63          11974 non-null  int64  \n",
      " 22  tag_65          11974 non-null  int64  \n",
      " 23  tag_55          11974 non-null  int64  \n",
      " 24  tüv             11974 non-null  int64  \n",
      " 25  E10             11974 non-null  int64  \n",
      " 26  biodiesel       11974 non-null  int64  \n",
      " 27  pflanzenöl      11974 non-null  int64  \n",
      " 28  electric        11974 non-null  int64  \n",
      " 29  fueltype        11974 non-null  object \n",
      "dtypes: float64(5), int64(16), object(9)\n",
      "memory usage: 2.7+ MB\n"
     ]
    }
   ],
   "source": [
    "data_dummies.info()"
   ]
  },
  {
   "cell_type": "code",
   "execution_count": 7,
   "metadata": {},
   "outputs": [],
   "source": [
    "data_dummies = pd.get_dummies(data_dummies, dtype=float)"
   ]
  },
  {
   "cell_type": "code",
   "execution_count": 8,
   "metadata": {},
   "outputs": [
    {
     "name": "stdout",
     "output_type": "stream",
     "text": [
      "<class 'pandas.core.frame.DataFrame'>\n",
      "RangeIndex: 11974 entries, 0 to 11973\n",
      "Columns: 108 entries, price to fueltype_na\n",
      "dtypes: float64(92), int64(16)\n",
      "memory usage: 9.9 MB\n"
     ]
    }
   ],
   "source": [
    "data_dummies.info()"
   ]
  },
  {
   "cell_type": "code",
   "execution_count": 9,
   "metadata": {},
   "outputs": [],
   "source": [
    "data_dummies = data_dummies.astype(float)"
   ]
  },
  {
   "cell_type": "code",
   "execution_count": 10,
   "metadata": {},
   "outputs": [
    {
     "name": "stdout",
     "output_type": "stream",
     "text": [
      "<class 'pandas.core.frame.DataFrame'>\n",
      "RangeIndex: 11974 entries, 0 to 11973\n",
      "Columns: 108 entries, price to fueltype_na\n",
      "dtypes: float64(108)\n",
      "memory usage: 9.9 MB\n"
     ]
    }
   ],
   "source": [
    "data_dummies.info()"
   ]
  },
  {
   "cell_type": "markdown",
   "metadata": {},
   "source": [
    "### Split Training & Test Data"
   ]
  },
  {
   "cell_type": "code",
   "execution_count": 11,
   "metadata": {},
   "outputs": [],
   "source": [
    "data_train, data_test = train_test_split(data_dummies, test_size = 0.15, shuffle=True)"
   ]
  },
  {
   "cell_type": "markdown",
   "metadata": {},
   "source": [
    "### Make Features and label data"
   ]
  },
  {
   "cell_type": "code",
   "execution_count": 12,
   "metadata": {},
   "outputs": [],
   "source": [
    "y_train = data_train[[\"price\"]]  #Labels\n",
    "X_train = data_train.drop(\"price\", axis=1)  #Features\n",
    "\n",
    "y_test = data_test[[\"price\"]]  #Labels\n",
    "X_test = data_test.drop(\"price\", axis=1)  #Features"
   ]
  },
  {
   "cell_type": "markdown",
   "metadata": {},
   "source": [
    "### Scale features and labels"
   ]
  },
  {
   "cell_type": "code",
   "execution_count": 13,
   "metadata": {},
   "outputs": [],
   "source": [
    "method = 'MinMax'\n",
    "\n",
    "if method == 'Standard':\n",
    "    scalerx = StandardScaler().fit(X_train)\n",
    "    scalery = StandardScaler().fit(y_train)\n",
    "    \n",
    "elif method == 'MinMax':\n",
    "    scalerx = MinMaxScaler().fit(X_train)\n",
    "    scalery = MinMaxScaler().fit(y_train)\n",
    "    \n",
    "elif method == 'Robust':\n",
    "    scalerx = RobustScaler().fit(X_train)\n",
    "    scalery = RobustScaler().fit(y_train)"
   ]
  },
  {
   "cell_type": "code",
   "execution_count": 14,
   "metadata": {},
   "outputs": [],
   "source": [
    "X_train = pd.DataFrame(scalerx.transform(X_train), columns=X_train.columns)\n",
    "y_train = pd.DataFrame(scalery.transform(y_train), columns=y_train.columns)\n",
    "y_train = y_train.T.squeeze()\n",
    "\n",
    "X_test = pd.DataFrame(scalerx.transform(X_test), columns=X_test.columns)\n",
    "y_test = pd.DataFrame(scalery.transform(y_test), columns=y_test.columns)\n",
    "y_test = y_test.T.squeeze()"
   ]
  },
  {
   "cell_type": "markdown",
   "metadata": {},
   "source": [
    "### Automating Feature Selection and Regression Model Building"
   ]
  },
  {
   "cell_type": "code",
   "execution_count": 15,
   "metadata": {},
   "outputs": [
    {
     "name": "stdout",
     "output_type": "stream",
     "text": [
      "Dropping features with p-value P(t) > 0.05: \n",
      "\n",
      "1. Dropped emission_class_Euro6d-TEMP with p-value 0.9371316709023529\n",
      "2. Dropped fueltype_Autogas with p-value 0.8247938845814802\n",
      "3. Dropped num_seats_19 with p-value 0.7446117625201361\n",
      "4. Dropped num_owners_5 with p-value 0.7234621394408189\n",
      "5. Dropped num_owners_2 with p-value 0.9614198140107718\n",
      "6. Dropped num_seats_15 with p-value 0.5428728910241332\n",
      "7. Dropped car_type_kombi with p-value 0.8200188139616278\n",
      "8. Dropped num_seats_2 with p-value 0.7359128174242708\n",
      "9. Dropped car_type_suv with p-value 0.6004234333888894\n",
      "10. Dropped g_pow with p-value 0.6002102368234448\n",
      "11. Dropped fueltype_na with p-value 0.49070231514005935\n",
      "12. Dropped fueltype_Erdgas with p-value 0.4971501357268385\n",
      "13. Dropped mc_laren with p-value 0.7494767837897318\n",
      "14. Dropped fueltype_Diesel with p-value 0.48237838211913053\n",
      "15. Dropped num_owners_0 with p-value 0.44280559792182195\n",
      "16. Dropped num_owners_3 with p-value 0.4290670915454484\n",
      "17. Dropped num_owners_6 with p-value 0.4113484350276141\n",
      "18. Dropped pflanzenöl with p-value 0.34936140392425385\n",
      "19. Dropped Model_GL with p-value 0.3286571017408161\n",
      "20. Dropped Model_V-Klasse with p-value 0.874442362036053\n",
      "21. Dropped Model_OTHER with p-value 0.49762851193422286\n",
      "22. Dropped num_owners_9 with p-value 0.32230008592367676\n",
      "23. Dropped biodiesel with p-value 0.3164920002914821\n",
      "24. Dropped brabus with p-value 0.29667576096627035\n",
      "25. Dropped emission_class_Euro3 with p-value 0.29069476124538773\n",
      "26. Dropped emission_class_Euro6c with p-value 0.20962488342035973\n",
      "27. Dropped car_type_limousine with p-value 0.20076585020751647\n",
      "28. Dropped transmission_-1 with p-value 0.18325482081064223\n",
      "29. Dropped transmission_Halbautomatik with p-value 0.4430853511987377\n",
      "30. Dropped transmission_Automatik with p-value 0.19809442574445082\n",
      "31. Dropped fueltype_Hybrid with p-value 0.13320306338226995\n",
      "32. Dropped num_owners_4 with p-value 0.05785932255153612\n",
      "33. Dropped fueltype_Andere with p-value 0.34367407179954557\n",
      "34. Dropped emission_class_Euro2 with p-value 0.061617526462602115\n",
      "\n",
      "\n",
      "Selected features: \n",
      "\n",
      " ['milage', 'hubraum', 'age', 'power_ps', 'amg', 'blk_series', 'blue_eff', 'avantgarde', 'elegance', 'tag_63', 'tag_65', 'tag_55', 'tüv', 'E10', 'electric', 'transmission_Schaltgetriebe', 'num_seats_17', 'num_seats_20', 'num_seats_21', 'num_seats_3', 'num_seats_4', 'num_seats_5', 'num_seats_6', 'num_seats_7', 'num_seats_8', 'num_seats_9', 'num_seats_na', 'num_doors_2/3', 'num_doors_4/5', 'num_doors_6/7', 'num_doors_na', 'emission_class_Euro1', 'emission_class_Euro4', 'emission_class_Euro5', 'emission_class_Euro6', 'emission_class_Euro6d', 'emission_class_na', 'car_type_andere', 'car_type_cabrio', 'car_type_kleinwagen', 'car_type_sport', 'car_type_van', 'num_owners_1', 'num_owners_na', 'Schaden_na', 'Schaden_repaired', 'Schaden_without', 'Model_A-Klasse', 'Model_B-Klasse', 'Model_C-Klasse', 'Model_CL', 'Model_CLA', 'Model_CLC', 'Model_CLK', 'Model_E-Klasse', 'Model_G-Klasse', 'Model_GLA', 'Model_GLB', 'Model_GLC', 'Model_GLE', 'Model_GLK', 'Model_GLS', 'Model_GT', 'Model_M-Klasse', 'Model_MarcoPolo', 'Model_R-Klasse', 'Model_S-Klasse', 'Model_SL', 'Model_Sprinter', 'Model_Vaneo', 'Model_Vito', 'fueltype_Benzin', 'fueltype_Elektro']\n"
     ]
    }
   ],
   "source": [
    "print('Dropping features with p-value P(t) > 0.05: \\n')\n",
    "cols = list(X_train.columns)\n",
    "pmax = 1\n",
    "i = 1\n",
    "while (len(cols) > 0):\n",
    "    p = []\n",
    "    X_1 = X_train\n",
    "    X_1 = sm.add_constant(X_1)\n",
    "    model = sm.OLS(y_train, X_1).fit()\n",
    "    p = pd.Series(model.pvalues.values[1:], index = cols)\n",
    "    pmax = max(p)\n",
    "    feature_with_p_max = p.idxmax()\n",
    "    if pmax > 0.05:\n",
    "        cols.remove(feature_with_p_max)\n",
    "        X_train = X_train.drop(feature_with_p_max, axis=1)\n",
    "        X_test = X_test.drop(feature_with_p_max, axis=1)\n",
    "        print(str(i) + '. Dropped', feature_with_p_max, 'with p-value', pmax)\n",
    "        i += 1\n",
    "    else:\n",
    "        break\n",
    "selected_features = cols\n",
    "print('\\n\\nSelected features: \\n\\n', selected_features)"
   ]
  },
  {
   "cell_type": "code",
   "execution_count": 16,
   "metadata": {},
   "outputs": [
    {
     "data": {
      "text/plain": [
       "(10177, 73)"
      ]
     },
     "execution_count": 16,
     "metadata": {},
     "output_type": "execute_result"
    }
   ],
   "source": [
    "X_train.shape"
   ]
  },
  {
   "cell_type": "code",
   "execution_count": 17,
   "metadata": {},
   "outputs": [
    {
     "data": {
      "text/plain": [
       "pandas.core.frame.DataFrame"
      ]
     },
     "execution_count": 17,
     "metadata": {},
     "output_type": "execute_result"
    }
   ],
   "source": [
    "type(X_train)"
   ]
  },
  {
   "cell_type": "code",
   "execution_count": 18,
   "metadata": {},
   "outputs": [
    {
     "data": {
      "text/plain": [
       "(1797, 73)"
      ]
     },
     "execution_count": 18,
     "metadata": {},
     "output_type": "execute_result"
    }
   ],
   "source": [
    "X_test.shape"
   ]
  },
  {
   "cell_type": "code",
   "execution_count": 19,
   "metadata": {},
   "outputs": [
    {
     "data": {
      "text/plain": [
       "pandas.core.frame.DataFrame"
      ]
     },
     "execution_count": 19,
     "metadata": {},
     "output_type": "execute_result"
    }
   ],
   "source": [
    "type(X_test)"
   ]
  },
  {
   "cell_type": "code",
   "execution_count": 20,
   "metadata": {},
   "outputs": [
    {
     "data": {
      "text/html": [
       "<table class=\"simpletable\">\n",
       "<caption>OLS Regression Results</caption>\n",
       "<tr>\n",
       "  <th>Dep. Variable:</th>          <td>price</td>      <th>  R-squared:         </th>  <td>   0.873</td> \n",
       "</tr>\n",
       "<tr>\n",
       "  <th>Model:</th>                   <td>OLS</td>       <th>  Adj. R-squared:    </th>  <td>   0.873</td> \n",
       "</tr>\n",
       "<tr>\n",
       "  <th>Method:</th>             <td>Least Squares</td>  <th>  F-statistic:       </th>  <td>   982.3</td> \n",
       "</tr>\n",
       "<tr>\n",
       "  <th>Date:</th>             <td>Sun, 10 Jan 2021</td> <th>  Prob (F-statistic):</th>   <td>  0.00</td>  \n",
       "</tr>\n",
       "<tr>\n",
       "  <th>Time:</th>                 <td>19:31:34</td>     <th>  Log-Likelihood:    </th>  <td>  10738.</td> \n",
       "</tr>\n",
       "<tr>\n",
       "  <th>No. Observations:</th>      <td> 10177</td>      <th>  AIC:               </th> <td>-2.133e+04</td>\n",
       "</tr>\n",
       "<tr>\n",
       "  <th>Df Residuals:</th>          <td> 10105</td>      <th>  BIC:               </th> <td>-2.081e+04</td>\n",
       "</tr>\n",
       "<tr>\n",
       "  <th>Df Model:</th>              <td>    71</td>      <th>                     </th>      <td> </td>    \n",
       "</tr>\n",
       "<tr>\n",
       "  <th>Covariance Type:</th>      <td>nonrobust</td>    <th>                     </th>      <td> </td>    \n",
       "</tr>\n",
       "</table>\n",
       "<table class=\"simpletable\">\n",
       "<tr>\n",
       "               <td></td>                  <th>coef</th>     <th>std err</th>      <th>t</th>      <th>P>|t|</th>  <th>[0.025</th>    <th>0.975]</th>  \n",
       "</tr>\n",
       "<tr>\n",
       "  <th>const</th>                       <td>    0.1664</td> <td>    0.010</td> <td>   16.126</td> <td> 0.000</td> <td>    0.146</td> <td>    0.187</td>\n",
       "</tr>\n",
       "<tr>\n",
       "  <th>milage</th>                      <td>   -0.3513</td> <td>    0.013</td> <td>  -26.930</td> <td> 0.000</td> <td>   -0.377</td> <td>   -0.326</td>\n",
       "</tr>\n",
       "<tr>\n",
       "  <th>hubraum</th>                     <td>   -0.1356</td> <td>    0.015</td> <td>   -8.782</td> <td> 0.000</td> <td>   -0.166</td> <td>   -0.105</td>\n",
       "</tr>\n",
       "<tr>\n",
       "  <th>age</th>                         <td>   -0.2268</td> <td>    0.010</td> <td>  -22.675</td> <td> 0.000</td> <td>   -0.246</td> <td>   -0.207</td>\n",
       "</tr>\n",
       "<tr>\n",
       "  <th>power_ps</th>                    <td>    0.7262</td> <td>    0.015</td> <td>   46.975</td> <td> 0.000</td> <td>    0.696</td> <td>    0.756</td>\n",
       "</tr>\n",
       "<tr>\n",
       "  <th>amg</th>                         <td>    0.0165</td> <td>    0.002</td> <td>    6.617</td> <td> 0.000</td> <td>    0.012</td> <td>    0.021</td>\n",
       "</tr>\n",
       "<tr>\n",
       "  <th>blk_series</th>                  <td>    0.1628</td> <td>    0.038</td> <td>    4.246</td> <td> 0.000</td> <td>    0.088</td> <td>    0.238</td>\n",
       "</tr>\n",
       "<tr>\n",
       "  <th>blue_eff</th>                    <td>   -0.0178</td> <td>    0.004</td> <td>   -4.454</td> <td> 0.000</td> <td>   -0.026</td> <td>   -0.010</td>\n",
       "</tr>\n",
       "<tr>\n",
       "  <th>avantgarde</th>                  <td>   -0.0064</td> <td>    0.003</td> <td>   -2.009</td> <td> 0.045</td> <td>   -0.013</td> <td>   -0.000</td>\n",
       "</tr>\n",
       "<tr>\n",
       "  <th>elegance</th>                    <td>    0.0163</td> <td>    0.007</td> <td>    2.348</td> <td> 0.019</td> <td>    0.003</td> <td>    0.030</td>\n",
       "</tr>\n",
       "<tr>\n",
       "  <th>tag_63</th>                      <td>   -0.0151</td> <td>    0.005</td> <td>   -3.187</td> <td> 0.001</td> <td>   -0.024</td> <td>   -0.006</td>\n",
       "</tr>\n",
       "<tr>\n",
       "  <th>tag_65</th>                      <td>    0.0547</td> <td>    0.015</td> <td>    3.637</td> <td> 0.000</td> <td>    0.025</td> <td>    0.084</td>\n",
       "</tr>\n",
       "<tr>\n",
       "  <th>tag_55</th>                      <td>   -0.0756</td> <td>    0.018</td> <td>   -4.216</td> <td> 0.000</td> <td>   -0.111</td> <td>   -0.040</td>\n",
       "</tr>\n",
       "<tr>\n",
       "  <th>tüv</th>                         <td>    0.0165</td> <td>    0.005</td> <td>    3.277</td> <td> 0.001</td> <td>    0.007</td> <td>    0.026</td>\n",
       "</tr>\n",
       "<tr>\n",
       "  <th>E10</th>                         <td>   -0.0155</td> <td>    0.003</td> <td>   -4.451</td> <td> 0.000</td> <td>   -0.022</td> <td>   -0.009</td>\n",
       "</tr>\n",
       "<tr>\n",
       "  <th>electric</th>                    <td>    0.0626</td> <td>    0.004</td> <td>   14.511</td> <td> 0.000</td> <td>    0.054</td> <td>    0.071</td>\n",
       "</tr>\n",
       "<tr>\n",
       "  <th>transmission_Schaltgetriebe</th> <td>    0.0179</td> <td>    0.003</td> <td>    6.342</td> <td> 0.000</td> <td>    0.012</td> <td>    0.023</td>\n",
       "</tr>\n",
       "<tr>\n",
       "  <th>num_seats_17</th>                <td>    0.2203</td> <td>    0.085</td> <td>    2.588</td> <td> 0.010</td> <td>    0.053</td> <td>    0.387</td>\n",
       "</tr>\n",
       "<tr>\n",
       "  <th>num_seats_20</th>                <td>    0.2193</td> <td>    0.085</td> <td>    2.578</td> <td> 0.010</td> <td>    0.053</td> <td>    0.386</td>\n",
       "</tr>\n",
       "<tr>\n",
       "  <th>num_seats_21</th>                <td>   -0.1211</td> <td>    0.061</td> <td>   -1.999</td> <td> 0.046</td> <td>   -0.240</td> <td>   -0.002</td>\n",
       "</tr>\n",
       "<tr>\n",
       "  <th>num_seats_3</th>                 <td>   -0.1085</td> <td>    0.011</td> <td>   -9.606</td> <td> 0.000</td> <td>   -0.131</td> <td>   -0.086</td>\n",
       "</tr>\n",
       "<tr>\n",
       "  <th>num_seats_4</th>                 <td>   -0.0692</td> <td>    0.007</td> <td>  -10.462</td> <td> 0.000</td> <td>   -0.082</td> <td>   -0.056</td>\n",
       "</tr>\n",
       "<tr>\n",
       "  <th>num_seats_5</th>                 <td>   -0.0862</td> <td>    0.007</td> <td>  -11.509</td> <td> 0.000</td> <td>   -0.101</td> <td>   -0.072</td>\n",
       "</tr>\n",
       "<tr>\n",
       "  <th>num_seats_6</th>                 <td>   -0.0481</td> <td>    0.010</td> <td>   -4.774</td> <td> 0.000</td> <td>   -0.068</td> <td>   -0.028</td>\n",
       "</tr>\n",
       "<tr>\n",
       "  <th>num_seats_7</th>                 <td>   -0.0441</td> <td>    0.009</td> <td>   -4.809</td> <td> 0.000</td> <td>   -0.062</td> <td>   -0.026</td>\n",
       "</tr>\n",
       "<tr>\n",
       "  <th>num_seats_8</th>                 <td>   -0.0599</td> <td>    0.011</td> <td>   -5.577</td> <td> 0.000</td> <td>   -0.081</td> <td>   -0.039</td>\n",
       "</tr>\n",
       "<tr>\n",
       "  <th>num_seats_9</th>                 <td>   -0.0430</td> <td>    0.014</td> <td>   -3.059</td> <td> 0.002</td> <td>   -0.070</td> <td>   -0.015</td>\n",
       "</tr>\n",
       "<tr>\n",
       "  <th>num_seats_na</th>                <td>   -0.0294</td> <td>    0.008</td> <td>   -3.500</td> <td> 0.000</td> <td>   -0.046</td> <td>   -0.013</td>\n",
       "</tr>\n",
       "<tr>\n",
       "  <th>num_doors_2/3</th>               <td>    0.0453</td> <td>    0.011</td> <td>    4.020</td> <td> 0.000</td> <td>    0.023</td> <td>    0.067</td>\n",
       "</tr>\n",
       "<tr>\n",
       "  <th>num_doors_4/5</th>               <td>    0.0580</td> <td>    0.011</td> <td>    5.430</td> <td> 0.000</td> <td>    0.037</td> <td>    0.079</td>\n",
       "</tr>\n",
       "<tr>\n",
       "  <th>num_doors_6/7</th>               <td>    0.1144</td> <td>    0.039</td> <td>    2.940</td> <td> 0.003</td> <td>    0.038</td> <td>    0.191</td>\n",
       "</tr>\n",
       "<tr>\n",
       "  <th>num_doors_na</th>                <td>   -0.0512</td> <td>    0.012</td> <td>   -4.390</td> <td> 0.000</td> <td>   -0.074</td> <td>   -0.028</td>\n",
       "</tr>\n",
       "<tr>\n",
       "  <th>emission_class_Euro1</th>        <td>    0.1567</td> <td>    0.033</td> <td>    4.806</td> <td> 0.000</td> <td>    0.093</td> <td>    0.221</td>\n",
       "</tr>\n",
       "<tr>\n",
       "  <th>emission_class_Euro4</th>        <td>   -0.0417</td> <td>    0.005</td> <td>   -8.920</td> <td> 0.000</td> <td>   -0.051</td> <td>   -0.033</td>\n",
       "</tr>\n",
       "<tr>\n",
       "  <th>emission_class_Euro5</th>        <td>   -0.0586</td> <td>    0.004</td> <td>  -13.872</td> <td> 0.000</td> <td>   -0.067</td> <td>   -0.050</td>\n",
       "</tr>\n",
       "<tr>\n",
       "  <th>emission_class_Euro6</th>        <td>   -0.0378</td> <td>    0.003</td> <td>  -14.708</td> <td> 0.000</td> <td>   -0.043</td> <td>   -0.033</td>\n",
       "</tr>\n",
       "<tr>\n",
       "  <th>emission_class_Euro6d</th>       <td>    0.0282</td> <td>    0.004</td> <td>    6.386</td> <td> 0.000</td> <td>    0.020</td> <td>    0.037</td>\n",
       "</tr>\n",
       "<tr>\n",
       "  <th>emission_class_na</th>           <td>    0.0239</td> <td>    0.004</td> <td>    6.339</td> <td> 0.000</td> <td>    0.017</td> <td>    0.031</td>\n",
       "</tr>\n",
       "<tr>\n",
       "  <th>car_type_andere</th>             <td>    0.0243</td> <td>    0.005</td> <td>    4.687</td> <td> 0.000</td> <td>    0.014</td> <td>    0.034</td>\n",
       "</tr>\n",
       "<tr>\n",
       "  <th>car_type_cabrio</th>             <td>    0.0802</td> <td>    0.007</td> <td>   12.151</td> <td> 0.000</td> <td>    0.067</td> <td>    0.093</td>\n",
       "</tr>\n",
       "<tr>\n",
       "  <th>car_type_kleinwagen</th>         <td>    0.0282</td> <td>    0.007</td> <td>    4.324</td> <td> 0.000</td> <td>    0.015</td> <td>    0.041</td>\n",
       "</tr>\n",
       "<tr>\n",
       "  <th>car_type_sport</th>              <td>    0.0259</td> <td>    0.003</td> <td>    7.608</td> <td> 0.000</td> <td>    0.019</td> <td>    0.033</td>\n",
       "</tr>\n",
       "<tr>\n",
       "  <th>car_type_van</th>                <td>    0.0198</td> <td>    0.004</td> <td>    4.503</td> <td> 0.000</td> <td>    0.011</td> <td>    0.028</td>\n",
       "</tr>\n",
       "<tr>\n",
       "  <th>num_owners_1</th>                <td>    0.0254</td> <td>    0.003</td> <td>    9.164</td> <td> 0.000</td> <td>    0.020</td> <td>    0.031</td>\n",
       "</tr>\n",
       "<tr>\n",
       "  <th>num_owners_na</th>               <td>    0.0158</td> <td>    0.003</td> <td>    4.783</td> <td> 0.000</td> <td>    0.009</td> <td>    0.022</td>\n",
       "</tr>\n",
       "<tr>\n",
       "  <th>Schaden_na</th>                  <td>    0.0488</td> <td>    0.005</td> <td>   10.590</td> <td> 0.000</td> <td>    0.040</td> <td>    0.058</td>\n",
       "</tr>\n",
       "<tr>\n",
       "  <th>Schaden_repaired</th>            <td>    0.0461</td> <td>    0.008</td> <td>    5.447</td> <td> 0.000</td> <td>    0.030</td> <td>    0.063</td>\n",
       "</tr>\n",
       "<tr>\n",
       "  <th>Schaden_without</th>             <td>    0.0715</td> <td>    0.005</td> <td>   15.845</td> <td> 0.000</td> <td>    0.063</td> <td>    0.080</td>\n",
       "</tr>\n",
       "<tr>\n",
       "  <th>Model_A-Klasse</th>              <td>   -0.0570</td> <td>    0.005</td> <td>  -10.442</td> <td> 0.000</td> <td>   -0.068</td> <td>   -0.046</td>\n",
       "</tr>\n",
       "<tr>\n",
       "  <th>Model_B-Klasse</th>              <td>   -0.0743</td> <td>    0.006</td> <td>  -12.887</td> <td> 0.000</td> <td>   -0.086</td> <td>   -0.063</td>\n",
       "</tr>\n",
       "<tr>\n",
       "  <th>Model_C-Klasse</th>              <td>   -0.0479</td> <td>    0.004</td> <td>  -10.733</td> <td> 0.000</td> <td>   -0.057</td> <td>   -0.039</td>\n",
       "</tr>\n",
       "<tr>\n",
       "  <th>Model_CL</th>                    <td>   -0.0355</td> <td>    0.006</td> <td>   -5.593</td> <td> 0.000</td> <td>   -0.048</td> <td>   -0.023</td>\n",
       "</tr>\n",
       "<tr>\n",
       "  <th>Model_CLA</th>                   <td>   -0.0769</td> <td>    0.007</td> <td>  -10.608</td> <td> 0.000</td> <td>   -0.091</td> <td>   -0.063</td>\n",
       "</tr>\n",
       "<tr>\n",
       "  <th>Model_CLC</th>                   <td>   -0.0866</td> <td>    0.021</td> <td>   -4.101</td> <td> 0.000</td> <td>   -0.128</td> <td>   -0.045</td>\n",
       "</tr>\n",
       "<tr>\n",
       "  <th>Model_CLK</th>                   <td>   -0.0428</td> <td>    0.010</td> <td>   -4.301</td> <td> 0.000</td> <td>   -0.062</td> <td>   -0.023</td>\n",
       "</tr>\n",
       "<tr>\n",
       "  <th>Model_E-Klasse</th>              <td>   -0.0385</td> <td>    0.004</td> <td>   -8.713</td> <td> 0.000</td> <td>   -0.047</td> <td>   -0.030</td>\n",
       "</tr>\n",
       "<tr>\n",
       "  <th>Model_G-Klasse</th>              <td>    0.2704</td> <td>    0.007</td> <td>   39.425</td> <td> 0.000</td> <td>    0.257</td> <td>    0.284</td>\n",
       "</tr>\n",
       "<tr>\n",
       "  <th>Model_GLA</th>                   <td>   -0.0752</td> <td>    0.008</td> <td>   -9.442</td> <td> 0.000</td> <td>   -0.091</td> <td>   -0.060</td>\n",
       "</tr>\n",
       "<tr>\n",
       "  <th>Model_GLB</th>                   <td>   -0.0325</td> <td>    0.013</td> <td>   -2.504</td> <td> 0.012</td> <td>   -0.058</td> <td>   -0.007</td>\n",
       "</tr>\n",
       "<tr>\n",
       "  <th>Model_GLC</th>                   <td>   -0.0293</td> <td>    0.006</td> <td>   -5.168</td> <td> 0.000</td> <td>   -0.040</td> <td>   -0.018</td>\n",
       "</tr>\n",
       "<tr>\n",
       "  <th>Model_GLE</th>                   <td>    0.0873</td> <td>    0.005</td> <td>   16.576</td> <td> 0.000</td> <td>    0.077</td> <td>    0.098</td>\n",
       "</tr>\n",
       "<tr>\n",
       "  <th>Model_GLK</th>                   <td>   -0.0481</td> <td>    0.011</td> <td>   -4.443</td> <td> 0.000</td> <td>   -0.069</td> <td>   -0.027</td>\n",
       "</tr>\n",
       "<tr>\n",
       "  <th>Model_GLS</th>                   <td>    0.1220</td> <td>    0.010</td> <td>   12.167</td> <td> 0.000</td> <td>    0.102</td> <td>    0.142</td>\n",
       "</tr>\n",
       "<tr>\n",
       "  <th>Model_GT</th>                    <td>    0.1397</td> <td>    0.009</td> <td>   14.806</td> <td> 0.000</td> <td>    0.121</td> <td>    0.158</td>\n",
       "</tr>\n",
       "<tr>\n",
       "  <th>Model_M-Klasse</th>              <td>   -0.0418</td> <td>    0.007</td> <td>   -5.594</td> <td> 0.000</td> <td>   -0.056</td> <td>   -0.027</td>\n",
       "</tr>\n",
       "<tr>\n",
       "  <th>Model_MarcoPolo</th>             <td>    0.0877</td> <td>    0.014</td> <td>    6.107</td> <td> 0.000</td> <td>    0.060</td> <td>    0.116</td>\n",
       "</tr>\n",
       "<tr>\n",
       "  <th>Model_R-Klasse</th>              <td>    0.0409</td> <td>    0.013</td> <td>    3.135</td> <td> 0.002</td> <td>    0.015</td> <td>    0.066</td>\n",
       "</tr>\n",
       "<tr>\n",
       "  <th>Model_S-Klasse</th>              <td>    0.0962</td> <td>    0.005</td> <td>   18.580</td> <td> 0.000</td> <td>    0.086</td> <td>    0.106</td>\n",
       "</tr>\n",
       "<tr>\n",
       "  <th>Model_SL</th>                    <td>   -0.0943</td> <td>    0.010</td> <td>   -9.337</td> <td> 0.000</td> <td>   -0.114</td> <td>   -0.074</td>\n",
       "</tr>\n",
       "<tr>\n",
       "  <th>Model_Sprinter</th>              <td>   -0.0450</td> <td>    0.008</td> <td>   -5.940</td> <td> 0.000</td> <td>   -0.060</td> <td>   -0.030</td>\n",
       "</tr>\n",
       "<tr>\n",
       "  <th>Model_Vaneo</th>                 <td>   -0.1220</td> <td>    0.010</td> <td>  -11.759</td> <td> 0.000</td> <td>   -0.142</td> <td>   -0.102</td>\n",
       "</tr>\n",
       "<tr>\n",
       "  <th>Model_Vito</th>                  <td>   -0.0777</td> <td>    0.007</td> <td>  -11.250</td> <td> 0.000</td> <td>   -0.091</td> <td>   -0.064</td>\n",
       "</tr>\n",
       "<tr>\n",
       "  <th>fueltype_Benzin</th>             <td>   -0.0292</td> <td>    0.002</td> <td>  -11.755</td> <td> 0.000</td> <td>   -0.034</td> <td>   -0.024</td>\n",
       "</tr>\n",
       "<tr>\n",
       "  <th>fueltype_Elektro</th>            <td>    0.0433</td> <td>    0.011</td> <td>    4.117</td> <td> 0.000</td> <td>    0.023</td> <td>    0.064</td>\n",
       "</tr>\n",
       "</table>\n",
       "<table class=\"simpletable\">\n",
       "<tr>\n",
       "  <th>Omnibus:</th>       <td>3782.131</td> <th>  Durbin-Watson:     </th> <td>   1.948</td> \n",
       "</tr>\n",
       "<tr>\n",
       "  <th>Prob(Omnibus):</th>  <td> 0.000</td>  <th>  Jarque-Bera (JB):  </th> <td>34834.327</td>\n",
       "</tr>\n",
       "<tr>\n",
       "  <th>Skew:</th>           <td> 1.522</td>  <th>  Prob(JB):          </th> <td>    0.00</td> \n",
       "</tr>\n",
       "<tr>\n",
       "  <th>Kurtosis:</th>       <td>11.537</td>  <th>  Cond. No.          </th> <td>9.45e+15</td> \n",
       "</tr>\n",
       "</table><br/><br/>Notes:<br/>[1] Standard Errors assume that the covariance matrix of the errors is correctly specified.<br/>[2] The smallest eigenvalue is 4.39e-28. This might indicate that there are<br/>strong multicollinearity problems or that the design matrix is singular."
      ],
      "text/plain": [
       "<class 'statsmodels.iolib.summary.Summary'>\n",
       "\"\"\"\n",
       "                            OLS Regression Results                            \n",
       "==============================================================================\n",
       "Dep. Variable:                  price   R-squared:                       0.873\n",
       "Model:                            OLS   Adj. R-squared:                  0.873\n",
       "Method:                 Least Squares   F-statistic:                     982.3\n",
       "Date:                Sun, 10 Jan 2021   Prob (F-statistic):               0.00\n",
       "Time:                        19:31:34   Log-Likelihood:                 10738.\n",
       "No. Observations:               10177   AIC:                        -2.133e+04\n",
       "Df Residuals:                   10105   BIC:                        -2.081e+04\n",
       "Df Model:                          71                                         \n",
       "Covariance Type:            nonrobust                                         \n",
       "===============================================================================================\n",
       "                                  coef    std err          t      P>|t|      [0.025      0.975]\n",
       "-----------------------------------------------------------------------------------------------\n",
       "const                           0.1664      0.010     16.126      0.000       0.146       0.187\n",
       "milage                         -0.3513      0.013    -26.930      0.000      -0.377      -0.326\n",
       "hubraum                        -0.1356      0.015     -8.782      0.000      -0.166      -0.105\n",
       "age                            -0.2268      0.010    -22.675      0.000      -0.246      -0.207\n",
       "power_ps                        0.7262      0.015     46.975      0.000       0.696       0.756\n",
       "amg                             0.0165      0.002      6.617      0.000       0.012       0.021\n",
       "blk_series                      0.1628      0.038      4.246      0.000       0.088       0.238\n",
       "blue_eff                       -0.0178      0.004     -4.454      0.000      -0.026      -0.010\n",
       "avantgarde                     -0.0064      0.003     -2.009      0.045      -0.013      -0.000\n",
       "elegance                        0.0163      0.007      2.348      0.019       0.003       0.030\n",
       "tag_63                         -0.0151      0.005     -3.187      0.001      -0.024      -0.006\n",
       "tag_65                          0.0547      0.015      3.637      0.000       0.025       0.084\n",
       "tag_55                         -0.0756      0.018     -4.216      0.000      -0.111      -0.040\n",
       "tüv                             0.0165      0.005      3.277      0.001       0.007       0.026\n",
       "E10                            -0.0155      0.003     -4.451      0.000      -0.022      -0.009\n",
       "electric                        0.0626      0.004     14.511      0.000       0.054       0.071\n",
       "transmission_Schaltgetriebe     0.0179      0.003      6.342      0.000       0.012       0.023\n",
       "num_seats_17                    0.2203      0.085      2.588      0.010       0.053       0.387\n",
       "num_seats_20                    0.2193      0.085      2.578      0.010       0.053       0.386\n",
       "num_seats_21                   -0.1211      0.061     -1.999      0.046      -0.240      -0.002\n",
       "num_seats_3                    -0.1085      0.011     -9.606      0.000      -0.131      -0.086\n",
       "num_seats_4                    -0.0692      0.007    -10.462      0.000      -0.082      -0.056\n",
       "num_seats_5                    -0.0862      0.007    -11.509      0.000      -0.101      -0.072\n",
       "num_seats_6                    -0.0481      0.010     -4.774      0.000      -0.068      -0.028\n",
       "num_seats_7                    -0.0441      0.009     -4.809      0.000      -0.062      -0.026\n",
       "num_seats_8                    -0.0599      0.011     -5.577      0.000      -0.081      -0.039\n",
       "num_seats_9                    -0.0430      0.014     -3.059      0.002      -0.070      -0.015\n",
       "num_seats_na                   -0.0294      0.008     -3.500      0.000      -0.046      -0.013\n",
       "num_doors_2/3                   0.0453      0.011      4.020      0.000       0.023       0.067\n",
       "num_doors_4/5                   0.0580      0.011      5.430      0.000       0.037       0.079\n",
       "num_doors_6/7                   0.1144      0.039      2.940      0.003       0.038       0.191\n",
       "num_doors_na                   -0.0512      0.012     -4.390      0.000      -0.074      -0.028\n",
       "emission_class_Euro1            0.1567      0.033      4.806      0.000       0.093       0.221\n",
       "emission_class_Euro4           -0.0417      0.005     -8.920      0.000      -0.051      -0.033\n",
       "emission_class_Euro5           -0.0586      0.004    -13.872      0.000      -0.067      -0.050\n",
       "emission_class_Euro6           -0.0378      0.003    -14.708      0.000      -0.043      -0.033\n",
       "emission_class_Euro6d           0.0282      0.004      6.386      0.000       0.020       0.037\n",
       "emission_class_na               0.0239      0.004      6.339      0.000       0.017       0.031\n",
       "car_type_andere                 0.0243      0.005      4.687      0.000       0.014       0.034\n",
       "car_type_cabrio                 0.0802      0.007     12.151      0.000       0.067       0.093\n",
       "car_type_kleinwagen             0.0282      0.007      4.324      0.000       0.015       0.041\n",
       "car_type_sport                  0.0259      0.003      7.608      0.000       0.019       0.033\n",
       "car_type_van                    0.0198      0.004      4.503      0.000       0.011       0.028\n",
       "num_owners_1                    0.0254      0.003      9.164      0.000       0.020       0.031\n",
       "num_owners_na                   0.0158      0.003      4.783      0.000       0.009       0.022\n",
       "Schaden_na                      0.0488      0.005     10.590      0.000       0.040       0.058\n",
       "Schaden_repaired                0.0461      0.008      5.447      0.000       0.030       0.063\n",
       "Schaden_without                 0.0715      0.005     15.845      0.000       0.063       0.080\n",
       "Model_A-Klasse                 -0.0570      0.005    -10.442      0.000      -0.068      -0.046\n",
       "Model_B-Klasse                 -0.0743      0.006    -12.887      0.000      -0.086      -0.063\n",
       "Model_C-Klasse                 -0.0479      0.004    -10.733      0.000      -0.057      -0.039\n",
       "Model_CL                       -0.0355      0.006     -5.593      0.000      -0.048      -0.023\n",
       "Model_CLA                      -0.0769      0.007    -10.608      0.000      -0.091      -0.063\n",
       "Model_CLC                      -0.0866      0.021     -4.101      0.000      -0.128      -0.045\n",
       "Model_CLK                      -0.0428      0.010     -4.301      0.000      -0.062      -0.023\n",
       "Model_E-Klasse                 -0.0385      0.004     -8.713      0.000      -0.047      -0.030\n",
       "Model_G-Klasse                  0.2704      0.007     39.425      0.000       0.257       0.284\n",
       "Model_GLA                      -0.0752      0.008     -9.442      0.000      -0.091      -0.060\n",
       "Model_GLB                      -0.0325      0.013     -2.504      0.012      -0.058      -0.007\n",
       "Model_GLC                      -0.0293      0.006     -5.168      0.000      -0.040      -0.018\n",
       "Model_GLE                       0.0873      0.005     16.576      0.000       0.077       0.098\n",
       "Model_GLK                      -0.0481      0.011     -4.443      0.000      -0.069      -0.027\n",
       "Model_GLS                       0.1220      0.010     12.167      0.000       0.102       0.142\n",
       "Model_GT                        0.1397      0.009     14.806      0.000       0.121       0.158\n",
       "Model_M-Klasse                 -0.0418      0.007     -5.594      0.000      -0.056      -0.027\n",
       "Model_MarcoPolo                 0.0877      0.014      6.107      0.000       0.060       0.116\n",
       "Model_R-Klasse                  0.0409      0.013      3.135      0.002       0.015       0.066\n",
       "Model_S-Klasse                  0.0962      0.005     18.580      0.000       0.086       0.106\n",
       "Model_SL                       -0.0943      0.010     -9.337      0.000      -0.114      -0.074\n",
       "Model_Sprinter                 -0.0450      0.008     -5.940      0.000      -0.060      -0.030\n",
       "Model_Vaneo                    -0.1220      0.010    -11.759      0.000      -0.142      -0.102\n",
       "Model_Vito                     -0.0777      0.007    -11.250      0.000      -0.091      -0.064\n",
       "fueltype_Benzin                -0.0292      0.002    -11.755      0.000      -0.034      -0.024\n",
       "fueltype_Elektro                0.0433      0.011      4.117      0.000       0.023       0.064\n",
       "==============================================================================\n",
       "Omnibus:                     3782.131   Durbin-Watson:                   1.948\n",
       "Prob(Omnibus):                  0.000   Jarque-Bera (JB):            34834.327\n",
       "Skew:                           1.522   Prob(JB):                         0.00\n",
       "Kurtosis:                      11.537   Cond. No.                     9.45e+15\n",
       "==============================================================================\n",
       "\n",
       "Notes:\n",
       "[1] Standard Errors assume that the covariance matrix of the errors is correctly specified.\n",
       "[2] The smallest eigenvalue is 4.39e-28. This might indicate that there are\n",
       "strong multicollinearity problems or that the design matrix is singular.\n",
       "\"\"\""
      ]
     },
     "execution_count": 20,
     "metadata": {},
     "output_type": "execute_result"
    }
   ],
   "source": [
    "model.summary()"
   ]
  },
  {
   "cell_type": "code",
   "execution_count": 21,
   "metadata": {},
   "outputs": [],
   "source": [
    "def plot(y_pred, y_true, savename):\n",
    "    fig, ax = plt.subplots(figsize=(6, 5)) \n",
    "    sns.scatterplot(y=y_true, x=y_pred, s=5)\n",
    "    xx = np.linspace(min(y_pred), max(y_pred), num=50)\n",
    "    plt.plot(xx, xx, color='g', linewidth=2)\n",
    "    plt.title('Prediction on ' + savename + ' Dataset')\n",
    "    plt.xlabel('Predicted Price')\n",
    "    plt.ylabel('True Price')\n",
    "    plt.tight_layout()\n",
    "    #ax.xaxis.set_major_formatter(ticker.EngFormatter())\n",
    "    #ax.yaxis.set_major_formatter(ticker.EngFormatter())\n",
    "    plt.grid(True)\n",
    "    plt.show()\n",
    "    fig.savefig('Plots/'+savename+'.png', dpi=300)"
   ]
  },
  {
   "cell_type": "code",
   "execution_count": 22,
   "metadata": {},
   "outputs": [],
   "source": [
    "try:\n",
    "    test_pred = model.predict(sm.add_constant(X_test))\n",
    "except:\n",
    "    test_pred = model.predict(sm.add_constant(X_test, has_constant='add'))\n",
    "\n",
    "try:\n",
    "    train_pred = model.predict(sm.add_constant(X_train))\n",
    "except:\n",
    "    train_pred = model.predict(sm.add_constant(X_train, has_constant='add'))"
   ]
  },
  {
   "cell_type": "code",
   "execution_count": 23,
   "metadata": {},
   "outputs": [],
   "source": [
    "def rescale_label(label):\n",
    "    Y = np.array([label])  # make 2D-Array\n",
    "    return list(scalery.inverse_transform(Y)[0])"
   ]
  },
  {
   "cell_type": "markdown",
   "metadata": {},
   "source": [
    "### Performance on unseen Test Dataset"
   ]
  },
  {
   "cell_type": "code",
   "execution_count": 24,
   "metadata": {},
   "outputs": [
    {
     "data": {
      "text/plain": [
       "0.05868648565860896"
      ]
     },
     "execution_count": 24,
     "metadata": {},
     "output_type": "execute_result"
    }
   ],
   "source": [
    "sm.tools.eval_measures.meanabs(y_test, test_pred)"
   ]
  },
  {
   "cell_type": "code",
   "execution_count": 25,
   "metadata": {},
   "outputs": [
    {
     "data": {
      "text/plain": [
       "8489.000150517786"
      ]
     },
     "execution_count": 25,
     "metadata": {},
     "output_type": "execute_result"
    }
   ],
   "source": [
    "sm.tools.eval_measures.meanabs(rescale_label(y_test), rescale_label(test_pred))"
   ]
  },
  {
   "cell_type": "code",
   "execution_count": 26,
   "metadata": {},
   "outputs": [
    {
     "data": {
      "image/png": "[encoded data removed]",
      "text/plain": [
       "<Figure size 432x360 with 1 Axes>"
      ]
     },
     "metadata": {
      "needs_background": "light"
     },
     "output_type": "display_data"
    }
   ],
   "source": [
    "plot(rescale_label(test_pred), rescale_label(y_test), 'Test')"
   ]
  },
  {
   "cell_type": "code",
   "execution_count": 27,
   "metadata": {},
   "outputs": [],
   "source": [
    "#plot(test_pred[0], y_test[0], 'Test')"
   ]
  },
  {
   "cell_type": "code",
   "execution_count": 28,
   "metadata": {},
   "outputs": [],
   "source": [
    "# ROBUST 0.16 8643\n",
    "# STANDARD 0.23  8478\n",
    "# MINMAX 0.05  8426"
   ]
  },
  {
   "cell_type": "markdown",
   "metadata": {},
   "source": [
    "### Performance on seen Training Dataset"
   ]
  },
  {
   "cell_type": "code",
   "execution_count": 29,
   "metadata": {},
   "outputs": [
    {
     "data": {
      "text/plain": [
       "8361.77672826653"
      ]
     },
     "execution_count": 29,
     "metadata": {},
     "output_type": "execute_result"
    }
   ],
   "source": [
    "sm.tools.eval_measures.meanabs(rescale_label(y_train), rescale_label(train_pred))"
   ]
  },
  {
   "cell_type": "code",
   "execution_count": 30,
   "metadata": {},
   "outputs": [
    {
     "data": {
      "image/png": "[encoded data removed]",
      "text/plain": [
       "<Figure size 432x360 with 1 Axes>"
      ]
     },
     "metadata": {
      "needs_background": "light"
     },
     "output_type": "display_data"
    }
   ],
   "source": [
    "plot(rescale_label(train_pred), rescale_label(y_train), 'Train')"
   ]
  },
  {
   "cell_type": "markdown",
   "metadata": {},
   "source": [
    "### Problem of negative Prices\n",
    "\n",
    "- modelling log-price; this is a common strategy with price-like variables in economics\n",
    "- using generalized linear models (GLMs). A gamma-model with a log-link would be quite similar to modelling log-price, but the model would be for the expected price rather than expected log-price. This may have some advantages. If you need the relationship with the predictors to be linear in actual price, this can be done (identity link), but a log link for this sort of data would be more common."
   ]
  },
  {
   "cell_type": "code",
   "execution_count": null,
   "metadata": {},
   "outputs": [],
   "source": []
  },
  {
   "cell_type": "code",
   "execution_count": null,
   "metadata": {},
   "outputs": [],
   "source": []
  }
 ],
 "metadata": {
  "kernelspec": {
   "display_name": "Python 3",
   "language": "python",
   "name": "python3"
  },
  "language_info": {
   "codemirror_mode": {
    "name": "ipython",
    "version": 3
   },
   "file_extension": ".py",
   "mimetype": "text/x-python",
   "name": "python",
   "nbconvert_exporter": "python",
   "pygments_lexer": "ipython3",
   "version": "3.7.9"
  }
 },
 "nbformat": 4,
 "nbformat_minor": 4
}
