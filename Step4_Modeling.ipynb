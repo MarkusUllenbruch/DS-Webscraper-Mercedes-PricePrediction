{
 "cells": [
  {
   "cell_type": "markdown",
   "metadata": {},
   "source": [
    "# Model Building"
   ]
  },
  {
   "cell_type": "code",
   "execution_count": 1,
   "metadata": {},
   "outputs": [],
   "source": [
    "import numpy as np\n",
    "import pandas as pd\n",
    "import statsmodels.api as sm\n",
    "from sklearn.preprocessing import StandardScaler, MinMaxScaler, RobustScaler\n",
    "from sklearn.model_selection import train_test_split\n",
    "import matplotlib.pyplot as plt\n",
    "import seaborn as sns"
   ]
  },
  {
   "cell_type": "code",
   "execution_count": 2,
   "metadata": {},
   "outputs": [],
   "source": [
    "data = pd.read_csv('data_cleaned.csv')"
   ]
  },
  {
   "cell_type": "code",
   "execution_count": 3,
   "metadata": {},
   "outputs": [
    {
     "name": "stdout",
     "output_type": "stream",
     "text": [
      "<class 'pandas.core.frame.DataFrame'>\n",
      "RangeIndex: 11974 entries, 0 to 11973\n",
      "Data columns (total 33 columns):\n",
      " #   Column          Non-Null Count  Dtype  \n",
      "---  ------          --------------  -----  \n",
      " 0   Unnamed: 0      11974 non-null  int64  \n",
      " 1   carname         11974 non-null  object \n",
      " 2   price           11974 non-null  float64\n",
      " 3   milage          11974 non-null  float64\n",
      " 4   hubraum         11974 non-null  float64\n",
      " 5   transmission    11974 non-null  object \n",
      " 6   num_seats       11974 non-null  object \n",
      " 7   num_doors       11974 non-null  object \n",
      " 8   emission_class  11974 non-null  object \n",
      " 9   car_type        11974 non-null  object \n",
      " 10  num_owners      11974 non-null  object \n",
      " 11  age             11974 non-null  float64\n",
      " 12  power_ps        11974 non-null  float64\n",
      " 13  power_kw        11974 non-null  float64\n",
      " 14  Schaden         11974 non-null  object \n",
      " 15  Model           11974 non-null  object \n",
      " 16  amg             11974 non-null  int64  \n",
      " 17  mc_laren        11974 non-null  int64  \n",
      " 18  blk_series      11974 non-null  int64  \n",
      " 19  blue_eff        11974 non-null  int64  \n",
      " 20  g_pow           11974 non-null  int64  \n",
      " 21  brabus          11974 non-null  int64  \n",
      " 22  avantgarde      11974 non-null  int64  \n",
      " 23  elegance        11974 non-null  int64  \n",
      " 24  tag_63          11974 non-null  int64  \n",
      " 25  tag_65          11974 non-null  int64  \n",
      " 26  tag_55          11974 non-null  int64  \n",
      " 27  tüv             11974 non-null  int64  \n",
      " 28  E10             11974 non-null  int64  \n",
      " 29  biodiesel       11974 non-null  int64  \n",
      " 30  pflanzenöl      11974 non-null  int64  \n",
      " 31  electric        11974 non-null  int64  \n",
      " 32  fueltype        11974 non-null  object \n",
      "dtypes: float64(6), int64(17), object(10)\n",
      "memory usage: 3.0+ MB\n"
     ]
    }
   ],
   "source": [
    "data.info()"
   ]
  },
  {
   "cell_type": "code",
   "execution_count": 4,
   "metadata": {},
   "outputs": [
    {
     "data": {
      "text/plain": [
       "Index(['Unnamed: 0', 'carname', 'price', 'milage', 'hubraum', 'transmission',\n",
       "       'num_seats', 'num_doors', 'emission_class', 'car_type', 'num_owners',\n",
       "       'age', 'power_ps', 'power_kw', 'Schaden', 'Model', 'amg', 'mc_laren',\n",
       "       'blk_series', 'blue_eff', 'g_pow', 'brabus', 'avantgarde', 'elegance',\n",
       "       'tag_63', 'tag_65', 'tag_55', 'tüv', 'E10', 'biodiesel', 'pflanzenöl',\n",
       "       'electric', 'fueltype'],\n",
       "      dtype='object')"
      ]
     },
     "execution_count": 4,
     "metadata": {},
     "output_type": "execute_result"
    }
   ],
   "source": [
    "data.columns"
   ]
  },
  {
   "cell_type": "code",
   "execution_count": 5,
   "metadata": {},
   "outputs": [],
   "source": [
    "data_dummies = data.drop(['carname', 'Unnamed: 0', 'power_kw'], axis=1)"
   ]
  },
  {
   "cell_type": "code",
   "execution_count": 6,
   "metadata": {},
   "outputs": [
    {
     "name": "stdout",
     "output_type": "stream",
     "text": [
      "<class 'pandas.core.frame.DataFrame'>\n",
      "RangeIndex: 11974 entries, 0 to 11973\n",
      "Data columns (total 30 columns):\n",
      " #   Column          Non-Null Count  Dtype  \n",
      "---  ------          --------------  -----  \n",
      " 0   price           11974 non-null  float64\n",
      " 1   milage          11974 non-null  float64\n",
      " 2   hubraum         11974 non-null  float64\n",
      " 3   transmission    11974 non-null  object \n",
      " 4   num_seats       11974 non-null  object \n",
      " 5   num_doors       11974 non-null  object \n",
      " 6   emission_class  11974 non-null  object \n",
      " 7   car_type        11974 non-null  object \n",
      " 8   num_owners      11974 non-null  object \n",
      " 9   age             11974 non-null  float64\n",
      " 10  power_ps        11974 non-null  float64\n",
      " 11  Schaden         11974 non-null  object \n",
      " 12  Model           11974 non-null  object \n",
      " 13  amg             11974 non-null  int64  \n",
      " 14  mc_laren        11974 non-null  int64  \n",
      " 15  blk_series      11974 non-null  int64  \n",
      " 16  blue_eff        11974 non-null  int64  \n",
      " 17  g_pow           11974 non-null  int64  \n",
      " 18  brabus          11974 non-null  int64  \n",
      " 19  avantgarde      11974 non-null  int64  \n",
      " 20  elegance        11974 non-null  int64  \n",
      " 21  tag_63          11974 non-null  int64  \n",
      " 22  tag_65          11974 non-null  int64  \n",
      " 23  tag_55          11974 non-null  int64  \n",
      " 24  tüv             11974 non-null  int64  \n",
      " 25  E10             11974 non-null  int64  \n",
      " 26  biodiesel       11974 non-null  int64  \n",
      " 27  pflanzenöl      11974 non-null  int64  \n",
      " 28  electric        11974 non-null  int64  \n",
      " 29  fueltype        11974 non-null  object \n",
      "dtypes: float64(5), int64(16), object(9)\n",
      "memory usage: 2.7+ MB\n"
     ]
    }
   ],
   "source": [
    "data_dummies.info()"
   ]
  },
  {
   "cell_type": "code",
   "execution_count": 7,
   "metadata": {},
   "outputs": [],
   "source": [
    "data_dummies = pd.get_dummies(data_dummies, dtype=float)"
   ]
  },
  {
   "cell_type": "code",
   "execution_count": 8,
   "metadata": {},
   "outputs": [
    {
     "name": "stdout",
     "output_type": "stream",
     "text": [
      "<class 'pandas.core.frame.DataFrame'>\n",
      "RangeIndex: 11974 entries, 0 to 11973\n",
      "Columns: 108 entries, price to fueltype_na\n",
      "dtypes: float64(92), int64(16)\n",
      "memory usage: 9.9 MB\n"
     ]
    }
   ],
   "source": [
    "data_dummies.info()"
   ]
  },
  {
   "cell_type": "code",
   "execution_count": 9,
   "metadata": {},
   "outputs": [],
   "source": [
    "data_dummies = data_dummies.astype(float)"
   ]
  },
  {
   "cell_type": "code",
   "execution_count": 10,
   "metadata": {},
   "outputs": [
    {
     "name": "stdout",
     "output_type": "stream",
     "text": [
      "<class 'pandas.core.frame.DataFrame'>\n",
      "RangeIndex: 11974 entries, 0 to 11973\n",
      "Columns: 108 entries, price to fueltype_na\n",
      "dtypes: float64(108)\n",
      "memory usage: 9.9 MB\n"
     ]
    }
   ],
   "source": [
    "data_dummies.info()"
   ]
  },
  {
   "cell_type": "markdown",
   "metadata": {},
   "source": [
    "### Split Training & Test Data"
   ]
  },
  {
   "cell_type": "code",
   "execution_count": 11,
   "metadata": {},
   "outputs": [],
   "source": [
    "data_train, data_test = train_test_split(data_dummies, test_size = 0.15, shuffle=True)"
   ]
  },
  {
   "cell_type": "markdown",
   "metadata": {},
   "source": [
    "### Make Features and label data"
   ]
  },
  {
   "cell_type": "code",
   "execution_count": 12,
   "metadata": {},
   "outputs": [],
   "source": [
    "y_train = data_train[[\"price\"]]  #Labels\n",
    "X_train = data_train.drop(\"price\", axis=1)  #Features\n",
    "\n",
    "y_test = data_test[[\"price\"]]  #Labels\n",
    "X_test = data_test.drop(\"price\", axis=1)  #Features"
   ]
  },
  {
   "cell_type": "markdown",
   "metadata": {},
   "source": [
    "### Scale features and labels"
   ]
  },
  {
   "cell_type": "code",
   "execution_count": 13,
   "metadata": {},
   "outputs": [],
   "source": [
    "method = 'MinMax'\n",
    "\n",
    "if method == 'Standard':\n",
    "    scalerx = StandardScaler().fit(X_train)\n",
    "    scalery = StandardScaler().fit(y_train)\n",
    "    \n",
    "elif method == 'MinMax':\n",
    "    scalerx = MinMaxScaler().fit(X_train)\n",
    "    scalery = MinMaxScaler().fit(y_train)\n",
    "    \n",
    "elif method == 'Robust':\n",
    "    scalerx = RobustScaler().fit(X_train)\n",
    "    scalery = RobustScaler().fit(y_train)"
   ]
  },
  {
   "cell_type": "code",
   "execution_count": 14,
   "metadata": {},
   "outputs": [],
   "source": [
    "X_train = pd.DataFrame(scalerx.transform(X_train), columns=X_train.columns)\n",
    "y_train = pd.DataFrame(scalery.transform(y_train), columns=y_train.columns)\n",
    "y_train = y_train.T.squeeze()\n",
    "\n",
    "X_test = pd.DataFrame(scalerx.transform(X_test), columns=X_test.columns)\n",
    "y_test = pd.DataFrame(scalery.transform(y_test), columns=y_test.columns)\n",
    "y_test = y_test.T.squeeze()"
   ]
  },
  {
   "cell_type": "markdown",
   "metadata": {},
   "source": [
    "### Automating Feature Selection and Regression Model Building"
   ]
  },
  {
   "cell_type": "code",
   "execution_count": 15,
   "metadata": {},
   "outputs": [
    {
     "name": "stdout",
     "output_type": "stream",
     "text": [
      "Dropping features with p-value P(t) > 0.05: \n",
      "\n",
      "1. Dropped Model_GL with p-value 0.9737953726082093\n",
      "2. Dropped fueltype_na with p-value 0.9325940230593073\n",
      "3. Dropped num_seats_19 with p-value 0.8660113025108277\n",
      "4. Dropped num_seats_2 with p-value 0.991668321856095\n",
      "5. Dropped num_owners_6 with p-value 0.870688760696502\n",
      "6. Dropped num_owners_5 with p-value 0.8069397549618673\n",
      "7. Dropped car_type_kombi with p-value 0.834499202084739\n",
      "8. Dropped fueltype_Erdgas with p-value 0.7756900323972167\n",
      "9. Dropped num_owners_4 with p-value 0.7742274757643626\n",
      "10. Dropped mc_laren with p-value 0.8113934805862831\n",
      "11. Dropped num_owners_9 with p-value 0.6910004915170107\n",
      "12. Dropped num_owners_na with p-value 0.6819597258940511\n",
      "13. Dropped num_seats_15 with p-value 0.6616613003206111\n",
      "14. Dropped emission_class_Euro6c with p-value 0.5860923280231458\n",
      "15. Dropped Model_OTHER with p-value 0.4147750445191293\n",
      "16. Dropped Model_V-Klasse with p-value 0.6393809679328042\n",
      "17. Dropped g_pow with p-value 0.9868243584897441\n",
      "18. Dropped fueltype_Hybrid with p-value 0.3851072650048155\n",
      "19. Dropped pflanzenöl with p-value 0.3518143994491395\n",
      "20. Dropped emission_class_Euro3 with p-value 0.3426365540552503\n",
      "21. Dropped emission_class_Euro6d-TEMP with p-value 0.4362710047293702\n",
      "22. Dropped biodiesel with p-value 0.3263830258475001\n",
      "23. Dropped fueltype_Diesel with p-value 0.3207142334318189\n",
      "24. Dropped fueltype_Autogas with p-value 0.37389481230877564\n",
      "25. Dropped num_owners_0 with p-value 0.22156592636078615\n",
      "26. Dropped brabus with p-value 0.20776338213948678\n",
      "27. Dropped car_type_limousine with p-value 0.17275655981666396\n",
      "28. Dropped car_type_suv with p-value 0.1680074651134934\n",
      "29. Dropped transmission_Halbautomatik with p-value 0.07708330459938356\n",
      "30. Dropped transmission_Schaltgetriebe with p-value 0.9808621687827722\n",
      "31. Dropped num_seats_21 with p-value 0.06302310171697859\n",
      "32. Dropped fueltype_Andere with p-value 0.050074290789024894\n",
      "\n",
      "\n",
      "Selected features: \n",
      "\n",
      " ['milage', 'hubraum', 'age', 'power_ps', 'amg', 'blk_series', 'blue_eff', 'avantgarde', 'elegance', 'tag_63', 'tag_65', 'tag_55', 'tüv', 'E10', 'electric', 'transmission_-1', 'transmission_Automatik', 'num_seats_17', 'num_seats_20', 'num_seats_3', 'num_seats_4', 'num_seats_5', 'num_seats_6', 'num_seats_7', 'num_seats_8', 'num_seats_9', 'num_seats_na', 'num_doors_2/3', 'num_doors_4/5', 'num_doors_6/7', 'num_doors_na', 'emission_class_Euro1', 'emission_class_Euro2', 'emission_class_Euro4', 'emission_class_Euro5', 'emission_class_Euro6', 'emission_class_Euro6d', 'emission_class_na', 'car_type_andere', 'car_type_cabrio', 'car_type_kleinwagen', 'car_type_sport', 'car_type_van', 'num_owners_1', 'num_owners_2', 'num_owners_3', 'Schaden_na', 'Schaden_repaired', 'Schaden_without', 'Model_A-Klasse', 'Model_B-Klasse', 'Model_C-Klasse', 'Model_CL', 'Model_CLA', 'Model_CLC', 'Model_CLK', 'Model_E-Klasse', 'Model_G-Klasse', 'Model_GLA', 'Model_GLB', 'Model_GLC', 'Model_GLE', 'Model_GLK', 'Model_GLS', 'Model_GT', 'Model_M-Klasse', 'Model_MarcoPolo', 'Model_R-Klasse', 'Model_S-Klasse', 'Model_SL', 'Model_Sprinter', 'Model_Vaneo', 'Model_Vito', 'fueltype_Benzin', 'fueltype_Elektro']\n"
     ]
    }
   ],
   "source": [
    "print('Dropping features with p-value P(t) > 0.05: \\n')\n",
    "cols = list(X_train.columns)\n",
    "pmax = 1\n",
    "i = 1\n",
    "while (len(cols) > 0):\n",
    "    p = []\n",
    "    X_1 = X_train\n",
    "    X_1 = sm.add_constant(X_1)\n",
    "    model = sm.OLS(y_train, X_1).fit()\n",
    "    p = pd.Series(model.pvalues.values[1:], index = cols)\n",
    "    pmax = max(p)\n",
    "    feature_with_p_max = p.idxmax()\n",
    "    if pmax > 0.05:\n",
    "        cols.remove(feature_with_p_max)\n",
    "        X_train = X_train.drop(feature_with_p_max, axis=1)\n",
    "        X_test = X_test.drop(feature_with_p_max, axis=1)\n",
    "        print(str(i) + '. Dropped', feature_with_p_max, 'with p-value', pmax)\n",
    "        i += 1\n",
    "    else:\n",
    "        break\n",
    "selected_features = cols\n",
    "print('\\n\\nSelected features: \\n\\n', selected_features)"
   ]
  },
  {
   "cell_type": "code",
   "execution_count": 16,
   "metadata": {},
   "outputs": [
    {
     "data": {
      "text/plain": [
       "(10177, 75)"
      ]
     },
     "execution_count": 16,
     "metadata": {},
     "output_type": "execute_result"
    }
   ],
   "source": [
    "X_train.shape"
   ]
  },
  {
   "cell_type": "code",
   "execution_count": 17,
   "metadata": {},
   "outputs": [
    {
     "data": {
      "text/plain": [
       "pandas.core.frame.DataFrame"
      ]
     },
     "execution_count": 17,
     "metadata": {},
     "output_type": "execute_result"
    }
   ],
   "source": [
    "type(X_train)"
   ]
  },
  {
   "cell_type": "code",
   "execution_count": 18,
   "metadata": {},
   "outputs": [
    {
     "data": {
      "text/plain": [
       "(1797, 75)"
      ]
     },
     "execution_count": 18,
     "metadata": {},
     "output_type": "execute_result"
    }
   ],
   "source": [
    "X_test.shape"
   ]
  },
  {
   "cell_type": "code",
   "execution_count": 19,
   "metadata": {},
   "outputs": [
    {
     "data": {
      "text/plain": [
       "pandas.core.frame.DataFrame"
      ]
     },
     "execution_count": 19,
     "metadata": {},
     "output_type": "execute_result"
    }
   ],
   "source": [
    "type(X_test)"
   ]
  },
  {
   "cell_type": "code",
   "execution_count": 20,
   "metadata": {},
   "outputs": [
    {
     "data": {
      "text/html": [
       "<table class=\"simpletable\">\n",
       "<caption>OLS Regression Results</caption>\n",
       "<tr>\n",
       "  <th>Dep. Variable:</th>          <td>price</td>      <th>  R-squared:         </th>  <td>   0.873</td> \n",
       "</tr>\n",
       "<tr>\n",
       "  <th>Model:</th>                   <td>OLS</td>       <th>  Adj. R-squared:    </th>  <td>   0.872</td> \n",
       "</tr>\n",
       "<tr>\n",
       "  <th>Method:</th>             <td>Least Squares</td>  <th>  F-statistic:       </th>  <td>   952.8</td> \n",
       "</tr>\n",
       "<tr>\n",
       "  <th>Date:</th>             <td>Sun, 10 Jan 2021</td> <th>  Prob (F-statistic):</th>   <td>  0.00</td>  \n",
       "</tr>\n",
       "<tr>\n",
       "  <th>Time:</th>                 <td>20:39:28</td>     <th>  Log-Likelihood:    </th>  <td>  10742.</td> \n",
       "</tr>\n",
       "<tr>\n",
       "  <th>No. Observations:</th>      <td> 10177</td>      <th>  AIC:               </th> <td>-2.134e+04</td>\n",
       "</tr>\n",
       "<tr>\n",
       "  <th>Df Residuals:</th>          <td> 10103</td>      <th>  BIC:               </th> <td>-2.080e+04</td>\n",
       "</tr>\n",
       "<tr>\n",
       "  <th>Df Model:</th>              <td>    73</td>      <th>                     </th>      <td> </td>    \n",
       "</tr>\n",
       "<tr>\n",
       "  <th>Covariance Type:</th>      <td>nonrobust</td>    <th>                     </th>      <td> </td>    \n",
       "</tr>\n",
       "</table>\n",
       "<table class=\"simpletable\">\n",
       "<tr>\n",
       "             <td></td>               <th>coef</th>     <th>std err</th>      <th>t</th>      <th>P>|t|</th>  <th>[0.025</th>    <th>0.975]</th>  \n",
       "</tr>\n",
       "<tr>\n",
       "  <th>const</th>                  <td>    0.1811</td> <td>    0.010</td> <td>   18.837</td> <td> 0.000</td> <td>    0.162</td> <td>    0.200</td>\n",
       "</tr>\n",
       "<tr>\n",
       "  <th>milage</th>                 <td>   -0.3518</td> <td>    0.013</td> <td>  -26.916</td> <td> 0.000</td> <td>   -0.377</td> <td>   -0.326</td>\n",
       "</tr>\n",
       "<tr>\n",
       "  <th>hubraum</th>                <td>   -0.1159</td> <td>    0.014</td> <td>   -8.503</td> <td> 0.000</td> <td>   -0.143</td> <td>   -0.089</td>\n",
       "</tr>\n",
       "<tr>\n",
       "  <th>age</th>                    <td>   -0.2243</td> <td>    0.010</td> <td>  -22.070</td> <td> 0.000</td> <td>   -0.244</td> <td>   -0.204</td>\n",
       "</tr>\n",
       "<tr>\n",
       "  <th>power_ps</th>               <td>    0.7362</td> <td>    0.015</td> <td>   47.500</td> <td> 0.000</td> <td>    0.706</td> <td>    0.767</td>\n",
       "</tr>\n",
       "<tr>\n",
       "  <th>amg</th>                    <td>    0.0172</td> <td>    0.002</td> <td>    6.898</td> <td> 0.000</td> <td>    0.012</td> <td>    0.022</td>\n",
       "</tr>\n",
       "<tr>\n",
       "  <th>blk_series</th>             <td>    0.2008</td> <td>    0.038</td> <td>    5.238</td> <td> 0.000</td> <td>    0.126</td> <td>    0.276</td>\n",
       "</tr>\n",
       "<tr>\n",
       "  <th>blue_eff</th>               <td>   -0.0164</td> <td>    0.004</td> <td>   -4.139</td> <td> 0.000</td> <td>   -0.024</td> <td>   -0.009</td>\n",
       "</tr>\n",
       "<tr>\n",
       "  <th>avantgarde</th>             <td>   -0.0062</td> <td>    0.003</td> <td>   -1.964</td> <td> 0.050</td> <td>   -0.012</td> <td>-1.35e-05</td>\n",
       "</tr>\n",
       "<tr>\n",
       "  <th>elegance</th>               <td>    0.0156</td> <td>    0.007</td> <td>    2.222</td> <td> 0.026</td> <td>    0.002</td> <td>    0.029</td>\n",
       "</tr>\n",
       "<tr>\n",
       "  <th>tag_63</th>                 <td>   -0.0216</td> <td>    0.005</td> <td>   -4.564</td> <td> 0.000</td> <td>   -0.031</td> <td>   -0.012</td>\n",
       "</tr>\n",
       "<tr>\n",
       "  <th>tag_65</th>                 <td>    0.0483</td> <td>    0.014</td> <td>    3.341</td> <td> 0.001</td> <td>    0.020</td> <td>    0.077</td>\n",
       "</tr>\n",
       "<tr>\n",
       "  <th>tag_55</th>                 <td>   -0.0973</td> <td>    0.019</td> <td>   -5.062</td> <td> 0.000</td> <td>   -0.135</td> <td>   -0.060</td>\n",
       "</tr>\n",
       "<tr>\n",
       "  <th>tüv</th>                    <td>    0.0162</td> <td>    0.005</td> <td>    3.214</td> <td> 0.001</td> <td>    0.006</td> <td>    0.026</td>\n",
       "</tr>\n",
       "<tr>\n",
       "  <th>E10</th>                    <td>   -0.0131</td> <td>    0.003</td> <td>   -3.753</td> <td> 0.000</td> <td>   -0.020</td> <td>   -0.006</td>\n",
       "</tr>\n",
       "<tr>\n",
       "  <th>electric</th>               <td>    0.0654</td> <td>    0.004</td> <td>   15.101</td> <td> 0.000</td> <td>    0.057</td> <td>    0.074</td>\n",
       "</tr>\n",
       "<tr>\n",
       "  <th>transmission_-1</th>        <td>   -0.0288</td> <td>    0.011</td> <td>   -2.632</td> <td> 0.009</td> <td>   -0.050</td> <td>   -0.007</td>\n",
       "</tr>\n",
       "<tr>\n",
       "  <th>transmission_Automatik</th> <td>   -0.0173</td> <td>    0.003</td> <td>   -6.073</td> <td> 0.000</td> <td>   -0.023</td> <td>   -0.012</td>\n",
       "</tr>\n",
       "<tr>\n",
       "  <th>num_seats_17</th>           <td>    0.2297</td> <td>    0.085</td> <td>    2.701</td> <td> 0.007</td> <td>    0.063</td> <td>    0.396</td>\n",
       "</tr>\n",
       "<tr>\n",
       "  <th>num_seats_20</th>           <td>    0.2230</td> <td>    0.085</td> <td>    2.623</td> <td> 0.009</td> <td>    0.056</td> <td>    0.390</td>\n",
       "</tr>\n",
       "<tr>\n",
       "  <th>num_seats_3</th>            <td>   -0.0930</td> <td>    0.011</td> <td>   -8.412</td> <td> 0.000</td> <td>   -0.115</td> <td>   -0.071</td>\n",
       "</tr>\n",
       "<tr>\n",
       "  <th>num_seats_4</th>            <td>   -0.0634</td> <td>    0.006</td> <td>   -9.802</td> <td> 0.000</td> <td>   -0.076</td> <td>   -0.051</td>\n",
       "</tr>\n",
       "<tr>\n",
       "  <th>num_seats_5</th>            <td>   -0.0766</td> <td>    0.007</td> <td>  -10.529</td> <td> 0.000</td> <td>   -0.091</td> <td>   -0.062</td>\n",
       "</tr>\n",
       "<tr>\n",
       "  <th>num_seats_6</th>            <td>   -0.0366</td> <td>    0.010</td> <td>   -3.732</td> <td> 0.000</td> <td>   -0.056</td> <td>   -0.017</td>\n",
       "</tr>\n",
       "<tr>\n",
       "  <th>num_seats_7</th>            <td>   -0.0336</td> <td>    0.009</td> <td>   -3.750</td> <td> 0.000</td> <td>   -0.051</td> <td>   -0.016</td>\n",
       "</tr>\n",
       "<tr>\n",
       "  <th>num_seats_8</th>            <td>   -0.0598</td> <td>    0.011</td> <td>   -5.620</td> <td> 0.000</td> <td>   -0.081</td> <td>   -0.039</td>\n",
       "</tr>\n",
       "<tr>\n",
       "  <th>num_seats_9</th>            <td>   -0.0507</td> <td>    0.014</td> <td>   -3.704</td> <td> 0.000</td> <td>   -0.078</td> <td>   -0.024</td>\n",
       "</tr>\n",
       "<tr>\n",
       "  <th>num_seats_na</th>           <td>   -0.0186</td> <td>    0.008</td> <td>   -2.266</td> <td> 0.023</td> <td>   -0.035</td> <td>   -0.003</td>\n",
       "</tr>\n",
       "<tr>\n",
       "  <th>num_doors_2/3</th>          <td>    0.0538</td> <td>    0.010</td> <td>    5.340</td> <td> 0.000</td> <td>    0.034</td> <td>    0.073</td>\n",
       "</tr>\n",
       "<tr>\n",
       "  <th>num_doors_4/5</th>          <td>    0.0601</td> <td>    0.009</td> <td>    6.401</td> <td> 0.000</td> <td>    0.042</td> <td>    0.078</td>\n",
       "</tr>\n",
       "<tr>\n",
       "  <th>num_doors_6/7</th>          <td>    0.1183</td> <td>    0.034</td> <td>    3.493</td> <td> 0.000</td> <td>    0.052</td> <td>    0.185</td>\n",
       "</tr>\n",
       "<tr>\n",
       "  <th>num_doors_na</th>           <td>   -0.0510</td> <td>    0.010</td> <td>   -4.881</td> <td> 0.000</td> <td>   -0.072</td> <td>   -0.031</td>\n",
       "</tr>\n",
       "<tr>\n",
       "  <th>emission_class_Euro1</th>   <td>    0.1457</td> <td>    0.029</td> <td>    5.067</td> <td> 0.000</td> <td>    0.089</td> <td>    0.202</td>\n",
       "</tr>\n",
       "<tr>\n",
       "  <th>emission_class_Euro2</th>   <td>    0.0399</td> <td>    0.018</td> <td>    2.164</td> <td> 0.031</td> <td>    0.004</td> <td>    0.076</td>\n",
       "</tr>\n",
       "<tr>\n",
       "  <th>emission_class_Euro4</th>   <td>   -0.0410</td> <td>    0.005</td> <td>   -8.637</td> <td> 0.000</td> <td>   -0.050</td> <td>   -0.032</td>\n",
       "</tr>\n",
       "<tr>\n",
       "  <th>emission_class_Euro5</th>   <td>   -0.0556</td> <td>    0.004</td> <td>  -13.109</td> <td> 0.000</td> <td>   -0.064</td> <td>   -0.047</td>\n",
       "</tr>\n",
       "<tr>\n",
       "  <th>emission_class_Euro6</th>   <td>   -0.0360</td> <td>    0.003</td> <td>  -13.944</td> <td> 0.000</td> <td>   -0.041</td> <td>   -0.031</td>\n",
       "</tr>\n",
       "<tr>\n",
       "  <th>emission_class_Euro6d</th>  <td>    0.0315</td> <td>    0.004</td> <td>    7.102</td> <td> 0.000</td> <td>    0.023</td> <td>    0.040</td>\n",
       "</tr>\n",
       "<tr>\n",
       "  <th>emission_class_na</th>      <td>    0.0248</td> <td>    0.004</td> <td>    6.493</td> <td> 0.000</td> <td>    0.017</td> <td>    0.032</td>\n",
       "</tr>\n",
       "<tr>\n",
       "  <th>car_type_andere</th>        <td>    0.0266</td> <td>    0.005</td> <td>    5.023</td> <td> 0.000</td> <td>    0.016</td> <td>    0.037</td>\n",
       "</tr>\n",
       "<tr>\n",
       "  <th>car_type_cabrio</th>        <td>    0.0794</td> <td>    0.007</td> <td>   12.210</td> <td> 0.000</td> <td>    0.067</td> <td>    0.092</td>\n",
       "</tr>\n",
       "<tr>\n",
       "  <th>car_type_kleinwagen</th>    <td>    0.0300</td> <td>    0.007</td> <td>    4.539</td> <td> 0.000</td> <td>    0.017</td> <td>    0.043</td>\n",
       "</tr>\n",
       "<tr>\n",
       "  <th>car_type_sport</th>         <td>    0.0260</td> <td>    0.003</td> <td>    7.594</td> <td> 0.000</td> <td>    0.019</td> <td>    0.033</td>\n",
       "</tr>\n",
       "<tr>\n",
       "  <th>car_type_van</th>           <td>    0.0225</td> <td>    0.004</td> <td>    5.126</td> <td> 0.000</td> <td>    0.014</td> <td>    0.031</td>\n",
       "</tr>\n",
       "<tr>\n",
       "  <th>num_owners_1</th>           <td>    0.0074</td> <td>    0.003</td> <td>    2.325</td> <td> 0.020</td> <td>    0.001</td> <td>    0.014</td>\n",
       "</tr>\n",
       "<tr>\n",
       "  <th>num_owners_2</th>           <td>   -0.0185</td> <td>    0.003</td> <td>   -5.551</td> <td> 0.000</td> <td>   -0.025</td> <td>   -0.012</td>\n",
       "</tr>\n",
       "<tr>\n",
       "  <th>num_owners_3</th>           <td>   -0.0221</td> <td>    0.006</td> <td>   -3.779</td> <td> 0.000</td> <td>   -0.033</td> <td>   -0.011</td>\n",
       "</tr>\n",
       "<tr>\n",
       "  <th>Schaden_na</th>             <td>    0.0527</td> <td>    0.004</td> <td>   12.145</td> <td> 0.000</td> <td>    0.044</td> <td>    0.061</td>\n",
       "</tr>\n",
       "<tr>\n",
       "  <th>Schaden_repaired</th>       <td>    0.0532</td> <td>    0.008</td> <td>    6.449</td> <td> 0.000</td> <td>    0.037</td> <td>    0.069</td>\n",
       "</tr>\n",
       "<tr>\n",
       "  <th>Schaden_without</th>        <td>    0.0752</td> <td>    0.004</td> <td>   17.541</td> <td> 0.000</td> <td>    0.067</td> <td>    0.084</td>\n",
       "</tr>\n",
       "<tr>\n",
       "  <th>Model_A-Klasse</th>         <td>   -0.0580</td> <td>    0.005</td> <td>  -10.569</td> <td> 0.000</td> <td>   -0.069</td> <td>   -0.047</td>\n",
       "</tr>\n",
       "<tr>\n",
       "  <th>Model_B-Klasse</th>         <td>   -0.0733</td> <td>    0.006</td> <td>  -12.654</td> <td> 0.000</td> <td>   -0.085</td> <td>   -0.062</td>\n",
       "</tr>\n",
       "<tr>\n",
       "  <th>Model_C-Klasse</th>         <td>   -0.0488</td> <td>    0.004</td> <td>  -10.838</td> <td> 0.000</td> <td>   -0.058</td> <td>   -0.040</td>\n",
       "</tr>\n",
       "<tr>\n",
       "  <th>Model_CL</th>               <td>   -0.0407</td> <td>    0.006</td> <td>   -6.412</td> <td> 0.000</td> <td>   -0.053</td> <td>   -0.028</td>\n",
       "</tr>\n",
       "<tr>\n",
       "  <th>Model_CLA</th>              <td>   -0.0765</td> <td>    0.007</td> <td>  -10.322</td> <td> 0.000</td> <td>   -0.091</td> <td>   -0.062</td>\n",
       "</tr>\n",
       "<tr>\n",
       "  <th>Model_CLC</th>              <td>   -0.0938</td> <td>    0.022</td> <td>   -4.322</td> <td> 0.000</td> <td>   -0.136</td> <td>   -0.051</td>\n",
       "</tr>\n",
       "<tr>\n",
       "  <th>Model_CLK</th>              <td>   -0.0505</td> <td>    0.010</td> <td>   -5.103</td> <td> 0.000</td> <td>   -0.070</td> <td>   -0.031</td>\n",
       "</tr>\n",
       "<tr>\n",
       "  <th>Model_E-Klasse</th>         <td>   -0.0401</td> <td>    0.004</td> <td>   -8.978</td> <td> 0.000</td> <td>   -0.049</td> <td>   -0.031</td>\n",
       "</tr>\n",
       "<tr>\n",
       "  <th>Model_G-Klasse</th>         <td>    0.2709</td> <td>    0.007</td> <td>   39.679</td> <td> 0.000</td> <td>    0.258</td> <td>    0.284</td>\n",
       "</tr>\n",
       "<tr>\n",
       "  <th>Model_GLA</th>              <td>   -0.0774</td> <td>    0.008</td> <td>   -9.686</td> <td> 0.000</td> <td>   -0.093</td> <td>   -0.062</td>\n",
       "</tr>\n",
       "<tr>\n",
       "  <th>Model_GLB</th>              <td>   -0.0319</td> <td>    0.013</td> <td>   -2.455</td> <td> 0.014</td> <td>   -0.057</td> <td>   -0.006</td>\n",
       "</tr>\n",
       "<tr>\n",
       "  <th>Model_GLC</th>              <td>   -0.0326</td> <td>    0.006</td> <td>   -5.726</td> <td> 0.000</td> <td>   -0.044</td> <td>   -0.021</td>\n",
       "</tr>\n",
       "<tr>\n",
       "  <th>Model_GLE</th>              <td>    0.0846</td> <td>    0.005</td> <td>   15.828</td> <td> 0.000</td> <td>    0.074</td> <td>    0.095</td>\n",
       "</tr>\n",
       "<tr>\n",
       "  <th>Model_GLK</th>              <td>   -0.0487</td> <td>    0.011</td> <td>   -4.431</td> <td> 0.000</td> <td>   -0.070</td> <td>   -0.027</td>\n",
       "</tr>\n",
       "<tr>\n",
       "  <th>Model_GLS</th>              <td>    0.1074</td> <td>    0.010</td> <td>   10.537</td> <td> 0.000</td> <td>    0.087</td> <td>    0.127</td>\n",
       "</tr>\n",
       "<tr>\n",
       "  <th>Model_GT</th>               <td>    0.1410</td> <td>    0.009</td> <td>   15.061</td> <td> 0.000</td> <td>    0.123</td> <td>    0.159</td>\n",
       "</tr>\n",
       "<tr>\n",
       "  <th>Model_M-Klasse</th>         <td>   -0.0445</td> <td>    0.008</td> <td>   -5.748</td> <td> 0.000</td> <td>   -0.060</td> <td>   -0.029</td>\n",
       "</tr>\n",
       "<tr>\n",
       "  <th>Model_MarcoPolo</th>        <td>    0.0883</td> <td>    0.014</td> <td>    6.209</td> <td> 0.000</td> <td>    0.060</td> <td>    0.116</td>\n",
       "</tr>\n",
       "<tr>\n",
       "  <th>Model_R-Klasse</th>         <td>    0.0527</td> <td>    0.013</td> <td>    4.165</td> <td> 0.000</td> <td>    0.028</td> <td>    0.077</td>\n",
       "</tr>\n",
       "<tr>\n",
       "  <th>Model_S-Klasse</th>         <td>    0.0910</td> <td>    0.005</td> <td>   17.502</td> <td> 0.000</td> <td>    0.081</td> <td>    0.101</td>\n",
       "</tr>\n",
       "<tr>\n",
       "  <th>Model_SL</th>               <td>   -0.0814</td> <td>    0.010</td> <td>   -8.103</td> <td> 0.000</td> <td>   -0.101</td> <td>   -0.062</td>\n",
       "</tr>\n",
       "<tr>\n",
       "  <th>Model_Sprinter</th>         <td>   -0.0477</td> <td>    0.007</td> <td>   -6.387</td> <td> 0.000</td> <td>   -0.062</td> <td>   -0.033</td>\n",
       "</tr>\n",
       "<tr>\n",
       "  <th>Model_Vaneo</th>            <td>   -0.1220</td> <td>    0.010</td> <td>  -11.917</td> <td> 0.000</td> <td>   -0.142</td> <td>   -0.102</td>\n",
       "</tr>\n",
       "<tr>\n",
       "  <th>Model_Vito</th>             <td>   -0.0751</td> <td>    0.007</td> <td>  -10.771</td> <td> 0.000</td> <td>   -0.089</td> <td>   -0.061</td>\n",
       "</tr>\n",
       "<tr>\n",
       "  <th>fueltype_Benzin</th>        <td>   -0.0291</td> <td>    0.002</td> <td>  -11.721</td> <td> 0.000</td> <td>   -0.034</td> <td>   -0.024</td>\n",
       "</tr>\n",
       "<tr>\n",
       "  <th>fueltype_Elektro</th>       <td>    0.0367</td> <td>    0.011</td> <td>    3.444</td> <td> 0.001</td> <td>    0.016</td> <td>    0.058</td>\n",
       "</tr>\n",
       "</table>\n",
       "<table class=\"simpletable\">\n",
       "<tr>\n",
       "  <th>Omnibus:</th>       <td>3807.122</td> <th>  Durbin-Watson:     </th> <td>   2.009</td> \n",
       "</tr>\n",
       "<tr>\n",
       "  <th>Prob(Omnibus):</th>  <td> 0.000</td>  <th>  Jarque-Bera (JB):  </th> <td>36242.876</td>\n",
       "</tr>\n",
       "<tr>\n",
       "  <th>Skew:</th>           <td> 1.524</td>  <th>  Prob(JB):          </th> <td>    0.00</td> \n",
       "</tr>\n",
       "<tr>\n",
       "  <th>Kurtosis:</th>       <td>11.728</td>  <th>  Cond. No.          </th> <td>9.46e+15</td> \n",
       "</tr>\n",
       "</table><br/><br/>Notes:<br/>[1] Standard Errors assume that the covariance matrix of the errors is correctly specified.<br/>[2] The smallest eigenvalue is 5.13e-28. This might indicate that there are<br/>strong multicollinearity problems or that the design matrix is singular."
      ],
      "text/plain": [
       "<class 'statsmodels.iolib.summary.Summary'>\n",
       "\"\"\"\n",
       "                            OLS Regression Results                            \n",
       "==============================================================================\n",
       "Dep. Variable:                  price   R-squared:                       0.873\n",
       "Model:                            OLS   Adj. R-squared:                  0.872\n",
       "Method:                 Least Squares   F-statistic:                     952.8\n",
       "Date:                Sun, 10 Jan 2021   Prob (F-statistic):               0.00\n",
       "Time:                        20:39:28   Log-Likelihood:                 10742.\n",
       "No. Observations:               10177   AIC:                        -2.134e+04\n",
       "Df Residuals:                   10103   BIC:                        -2.080e+04\n",
       "Df Model:                          73                                         \n",
       "Covariance Type:            nonrobust                                         \n",
       "==========================================================================================\n",
       "                             coef    std err          t      P>|t|      [0.025      0.975]\n",
       "------------------------------------------------------------------------------------------\n",
       "const                      0.1811      0.010     18.837      0.000       0.162       0.200\n",
       "milage                    -0.3518      0.013    -26.916      0.000      -0.377      -0.326\n",
       "hubraum                   -0.1159      0.014     -8.503      0.000      -0.143      -0.089\n",
       "age                       -0.2243      0.010    -22.070      0.000      -0.244      -0.204\n",
       "power_ps                   0.7362      0.015     47.500      0.000       0.706       0.767\n",
       "amg                        0.0172      0.002      6.898      0.000       0.012       0.022\n",
       "blk_series                 0.2008      0.038      5.238      0.000       0.126       0.276\n",
       "blue_eff                  -0.0164      0.004     -4.139      0.000      -0.024      -0.009\n",
       "avantgarde                -0.0062      0.003     -1.964      0.050      -0.012   -1.35e-05\n",
       "elegance                   0.0156      0.007      2.222      0.026       0.002       0.029\n",
       "tag_63                    -0.0216      0.005     -4.564      0.000      -0.031      -0.012\n",
       "tag_65                     0.0483      0.014      3.341      0.001       0.020       0.077\n",
       "tag_55                    -0.0973      0.019     -5.062      0.000      -0.135      -0.060\n",
       "tüv                        0.0162      0.005      3.214      0.001       0.006       0.026\n",
       "E10                       -0.0131      0.003     -3.753      0.000      -0.020      -0.006\n",
       "electric                   0.0654      0.004     15.101      0.000       0.057       0.074\n",
       "transmission_-1           -0.0288      0.011     -2.632      0.009      -0.050      -0.007\n",
       "transmission_Automatik    -0.0173      0.003     -6.073      0.000      -0.023      -0.012\n",
       "num_seats_17               0.2297      0.085      2.701      0.007       0.063       0.396\n",
       "num_seats_20               0.2230      0.085      2.623      0.009       0.056       0.390\n",
       "num_seats_3               -0.0930      0.011     -8.412      0.000      -0.115      -0.071\n",
       "num_seats_4               -0.0634      0.006     -9.802      0.000      -0.076      -0.051\n",
       "num_seats_5               -0.0766      0.007    -10.529      0.000      -0.091      -0.062\n",
       "num_seats_6               -0.0366      0.010     -3.732      0.000      -0.056      -0.017\n",
       "num_seats_7               -0.0336      0.009     -3.750      0.000      -0.051      -0.016\n",
       "num_seats_8               -0.0598      0.011     -5.620      0.000      -0.081      -0.039\n",
       "num_seats_9               -0.0507      0.014     -3.704      0.000      -0.078      -0.024\n",
       "num_seats_na              -0.0186      0.008     -2.266      0.023      -0.035      -0.003\n",
       "num_doors_2/3              0.0538      0.010      5.340      0.000       0.034       0.073\n",
       "num_doors_4/5              0.0601      0.009      6.401      0.000       0.042       0.078\n",
       "num_doors_6/7              0.1183      0.034      3.493      0.000       0.052       0.185\n",
       "num_doors_na              -0.0510      0.010     -4.881      0.000      -0.072      -0.031\n",
       "emission_class_Euro1       0.1457      0.029      5.067      0.000       0.089       0.202\n",
       "emission_class_Euro2       0.0399      0.018      2.164      0.031       0.004       0.076\n",
       "emission_class_Euro4      -0.0410      0.005     -8.637      0.000      -0.050      -0.032\n",
       "emission_class_Euro5      -0.0556      0.004    -13.109      0.000      -0.064      -0.047\n",
       "emission_class_Euro6      -0.0360      0.003    -13.944      0.000      -0.041      -0.031\n",
       "emission_class_Euro6d      0.0315      0.004      7.102      0.000       0.023       0.040\n",
       "emission_class_na          0.0248      0.004      6.493      0.000       0.017       0.032\n",
       "car_type_andere            0.0266      0.005      5.023      0.000       0.016       0.037\n",
       "car_type_cabrio            0.0794      0.007     12.210      0.000       0.067       0.092\n",
       "car_type_kleinwagen        0.0300      0.007      4.539      0.000       0.017       0.043\n",
       "car_type_sport             0.0260      0.003      7.594      0.000       0.019       0.033\n",
       "car_type_van               0.0225      0.004      5.126      0.000       0.014       0.031\n",
       "num_owners_1               0.0074      0.003      2.325      0.020       0.001       0.014\n",
       "num_owners_2              -0.0185      0.003     -5.551      0.000      -0.025      -0.012\n",
       "num_owners_3              -0.0221      0.006     -3.779      0.000      -0.033      -0.011\n",
       "Schaden_na                 0.0527      0.004     12.145      0.000       0.044       0.061\n",
       "Schaden_repaired           0.0532      0.008      6.449      0.000       0.037       0.069\n",
       "Schaden_without            0.0752      0.004     17.541      0.000       0.067       0.084\n",
       "Model_A-Klasse            -0.0580      0.005    -10.569      0.000      -0.069      -0.047\n",
       "Model_B-Klasse            -0.0733      0.006    -12.654      0.000      -0.085      -0.062\n",
       "Model_C-Klasse            -0.0488      0.004    -10.838      0.000      -0.058      -0.040\n",
       "Model_CL                  -0.0407      0.006     -6.412      0.000      -0.053      -0.028\n",
       "Model_CLA                 -0.0765      0.007    -10.322      0.000      -0.091      -0.062\n",
       "Model_CLC                 -0.0938      0.022     -4.322      0.000      -0.136      -0.051\n",
       "Model_CLK                 -0.0505      0.010     -5.103      0.000      -0.070      -0.031\n",
       "Model_E-Klasse            -0.0401      0.004     -8.978      0.000      -0.049      -0.031\n",
       "Model_G-Klasse             0.2709      0.007     39.679      0.000       0.258       0.284\n",
       "Model_GLA                 -0.0774      0.008     -9.686      0.000      -0.093      -0.062\n",
       "Model_GLB                 -0.0319      0.013     -2.455      0.014      -0.057      -0.006\n",
       "Model_GLC                 -0.0326      0.006     -5.726      0.000      -0.044      -0.021\n",
       "Model_GLE                  0.0846      0.005     15.828      0.000       0.074       0.095\n",
       "Model_GLK                 -0.0487      0.011     -4.431      0.000      -0.070      -0.027\n",
       "Model_GLS                  0.1074      0.010     10.537      0.000       0.087       0.127\n",
       "Model_GT                   0.1410      0.009     15.061      0.000       0.123       0.159\n",
       "Model_M-Klasse            -0.0445      0.008     -5.748      0.000      -0.060      -0.029\n",
       "Model_MarcoPolo            0.0883      0.014      6.209      0.000       0.060       0.116\n",
       "Model_R-Klasse             0.0527      0.013      4.165      0.000       0.028       0.077\n",
       "Model_S-Klasse             0.0910      0.005     17.502      0.000       0.081       0.101\n",
       "Model_SL                  -0.0814      0.010     -8.103      0.000      -0.101      -0.062\n",
       "Model_Sprinter            -0.0477      0.007     -6.387      0.000      -0.062      -0.033\n",
       "Model_Vaneo               -0.1220      0.010    -11.917      0.000      -0.142      -0.102\n",
       "Model_Vito                -0.0751      0.007    -10.771      0.000      -0.089      -0.061\n",
       "fueltype_Benzin           -0.0291      0.002    -11.721      0.000      -0.034      -0.024\n",
       "fueltype_Elektro           0.0367      0.011      3.444      0.001       0.016       0.058\n",
       "==============================================================================\n",
       "Omnibus:                     3807.122   Durbin-Watson:                   2.009\n",
       "Prob(Omnibus):                  0.000   Jarque-Bera (JB):            36242.876\n",
       "Skew:                           1.524   Prob(JB):                         0.00\n",
       "Kurtosis:                      11.728   Cond. No.                     9.46e+15\n",
       "==============================================================================\n",
       "\n",
       "Notes:\n",
       "[1] Standard Errors assume that the covariance matrix of the errors is correctly specified.\n",
       "[2] The smallest eigenvalue is 5.13e-28. This might indicate that there are\n",
       "strong multicollinearity problems or that the design matrix is singular.\n",
       "\"\"\""
      ]
     },
     "execution_count": 20,
     "metadata": {},
     "output_type": "execute_result"
    }
   ],
   "source": [
    "model.summary()"
   ]
  },
  {
   "cell_type": "code",
   "execution_count": 21,
   "metadata": {},
   "outputs": [],
   "source": [
    "def plot(y_pred, y_true, savename, color):\n",
    "    fig, ax = plt.subplots(figsize=(6, 5)) \n",
    "    sns.scatterplot(y=y_true, x=y_pred, color=color, s=5)\n",
    "    xx = np.linspace(min(y_pred), max(y_pred), num=50)\n",
    "    plt.plot(xx, xx, color='k', linewidth=2)\n",
    "    plt.title('Prediction on ' + savename + ' Dataset')\n",
    "    plt.xlabel('Predicted Price')\n",
    "    plt.ylabel('True Price')\n",
    "    plt.tight_layout()\n",
    "    #ax.xaxis.set_major_formatter(ticker.EngFormatter())\n",
    "    #ax.yaxis.set_major_formatter(ticker.EngFormatter())\n",
    "    plt.grid(True)\n",
    "    plt.show()\n",
    "    fig.savefig('Plots/'+savename+'.png', dpi=300)"
   ]
  },
  {
   "cell_type": "code",
   "execution_count": 22,
   "metadata": {},
   "outputs": [],
   "source": [
    "try:\n",
    "    test_pred = model.predict(sm.add_constant(X_test))\n",
    "except:\n",
    "    test_pred = model.predict(sm.add_constant(X_test, has_constant='add'))\n",
    "\n",
    "try:\n",
    "    train_pred = model.predict(sm.add_constant(X_train))\n",
    "except:\n",
    "    train_pred = model.predict(sm.add_constant(X_train, has_constant='add'))"
   ]
  },
  {
   "cell_type": "code",
   "execution_count": 23,
   "metadata": {},
   "outputs": [],
   "source": [
    "def rescale_label(label):\n",
    "    Y = np.array([label])  # make 2D-Array\n",
    "    return list(scalery.inverse_transform(Y)[0])"
   ]
  },
  {
   "cell_type": "markdown",
   "metadata": {},
   "source": [
    "### Performance on unseen Test Dataset"
   ]
  },
  {
   "cell_type": "code",
   "execution_count": 24,
   "metadata": {},
   "outputs": [
    {
     "data": {
      "text/plain": [
       "0.059070825354467345"
      ]
     },
     "execution_count": 24,
     "metadata": {},
     "output_type": "execute_result"
    }
   ],
   "source": [
    "sm.tools.eval_measures.meanabs(y_test, test_pred)"
   ]
  },
  {
   "cell_type": "code",
   "execution_count": 25,
   "metadata": {},
   "outputs": [
    {
     "data": {
      "text/plain": [
       "8544.5948875237"
      ]
     },
     "execution_count": 25,
     "metadata": {},
     "output_type": "execute_result"
    }
   ],
   "source": [
    "sm.tools.eval_measures.meanabs(rescale_label(y_test), rescale_label(test_pred))"
   ]
  },
  {
   "cell_type": "code",
   "execution_count": 26,
   "metadata": {},
   "outputs": [
    {
     "data": {
      "image/png": "[encoded data removed]",
      "text/plain": [
       "<Figure size 432x360 with 1 Axes>"
      ]
     },
     "metadata": {
      "needs_background": "light"
     },
     "output_type": "display_data"
    }
   ],
   "source": [
    "plot(rescale_label(test_pred), rescale_label(y_test), 'Test', 'g')"
   ]
  },
  {
   "cell_type": "code",
   "execution_count": 27,
   "metadata": {},
   "outputs": [],
   "source": [
    "#plot(test_pred[0], y_test[0], 'Test')"
   ]
  },
  {
   "cell_type": "code",
   "execution_count": 28,
   "metadata": {},
   "outputs": [],
   "source": [
    "# ROBUST 0.16 8643\n",
    "# STANDARD 0.23  8478\n",
    "# MINMAX 0.05  8426"
   ]
  },
  {
   "cell_type": "markdown",
   "metadata": {},
   "source": [
    "### Performance on seen Training Dataset"
   ]
  },
  {
   "cell_type": "code",
   "execution_count": 29,
   "metadata": {},
   "outputs": [
    {
     "data": {
      "text/plain": [
       "8344.674168560521"
      ]
     },
     "execution_count": 29,
     "metadata": {},
     "output_type": "execute_result"
    }
   ],
   "source": [
    "sm.tools.eval_measures.meanabs(rescale_label(y_train), rescale_label(train_pred))"
   ]
  },
  {
   "cell_type": "code",
   "execution_count": 30,
   "metadata": {},
   "outputs": [
    {
     "data": {
      "image/png": "[encoded data removed]",
      "text/plain": [
       "<Figure size 432x360 with 1 Axes>"
      ]
     },
     "metadata": {
      "needs_background": "light"
     },
     "output_type": "display_data"
    }
   ],
   "source": [
    "plot(rescale_label(train_pred), rescale_label(y_train), 'Train', 'b')"
   ]
  },
  {
   "cell_type": "markdown",
   "metadata": {},
   "source": [
    "### Problem of negative Prices\n",
    "\n",
    "- modelling log-price; this is a common strategy with price-like variables in economics\n",
    "- using generalized linear models (GLMs). A gamma-model with a log-link would be quite similar to modelling log-price, but the model would be for the expected price rather than expected log-price. This may have some advantages. If you need the relationship with the predictors to be linear in actual price, this can be done (identity link), but a log link for this sort of data would be more common."
   ]
  },
  {
   "cell_type": "code",
   "execution_count": null,
   "metadata": {},
   "outputs": [],
   "source": []
  },
  {
   "cell_type": "code",
   "execution_count": null,
   "metadata": {},
   "outputs": [],
   "source": []
  }
 ],
 "metadata": {
  "kernelspec": {
   "display_name": "Python 3",
   "language": "python",
   "name": "python3"
  },
  "language_info": {
   "codemirror_mode": {
    "name": "ipython",
    "version": 3
   },
   "file_extension": ".py",
   "mimetype": "text/x-python",
   "name": "python",
   "nbconvert_exporter": "python",
   "pygments_lexer": "ipython3",
   "version": "3.7.9"
  }
 },
 "nbformat": 4,
 "nbformat_minor": 4
}
