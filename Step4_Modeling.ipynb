{
 "cells": [
  {
   "cell_type": "markdown",
   "metadata": {},
   "source": [
    "# Model Building"
   ]
  },
  {
   "cell_type": "code",
   "execution_count": 1,
   "metadata": {},
   "outputs": [],
   "source": [
    "import numpy as np\n",
    "import pandas as pd\n",
    "import statsmodels.api as sm\n",
    "from sklearn.preprocessing import StandardScaler, MinMaxScaler, RobustScaler\n",
    "from sklearn.model_selection import train_test_split\n",
    "import matplotlib.pyplot as plt\n",
    "import seaborn as sns"
   ]
  },
  {
   "cell_type": "code",
   "execution_count": 2,
   "metadata": {},
   "outputs": [],
   "source": [
    "data = pd.read_csv('data_cleaned.csv')"
   ]
  },
  {
   "cell_type": "code",
   "execution_count": 3,
   "metadata": {},
   "outputs": [],
   "source": [
    "data = data[data.price < 60000]\n",
    "#data = data[data.age < 15]"
   ]
  },
  {
   "cell_type": "code",
   "execution_count": 4,
   "metadata": {},
   "outputs": [
    {
     "name": "stdout",
     "output_type": "stream",
     "text": [
      "<class 'pandas.core.frame.DataFrame'>\n",
      "Int64Index: 8809 entries, 0 to 10954\n",
      "Data columns (total 33 columns):\n",
      " #   Column          Non-Null Count  Dtype  \n",
      "---  ------          --------------  -----  \n",
      " 0   Unnamed: 0      8809 non-null   int64  \n",
      " 1   carname         8809 non-null   object \n",
      " 2   price           8809 non-null   float64\n",
      " 3   milage          8809 non-null   float64\n",
      " 4   hubraum         8809 non-null   float64\n",
      " 5   transmission    8809 non-null   object \n",
      " 6   num_seats       8809 non-null   object \n",
      " 7   num_doors       8809 non-null   object \n",
      " 8   emission_class  8809 non-null   object \n",
      " 9   car_type        8809 non-null   object \n",
      " 10  num_owners      8809 non-null   object \n",
      " 11  age             8809 non-null   float64\n",
      " 12  power_ps        8809 non-null   float64\n",
      " 13  power_kw        8809 non-null   float64\n",
      " 14  Schaden         8809 non-null   object \n",
      " 15  Model           8809 non-null   object \n",
      " 16  amg             8809 non-null   int64  \n",
      " 17  mc_laren        8809 non-null   int64  \n",
      " 18  blk_series      8809 non-null   int64  \n",
      " 19  blue_eff        8809 non-null   int64  \n",
      " 20  g_pow           8809 non-null   int64  \n",
      " 21  brabus          8809 non-null   int64  \n",
      " 22  avantgarde      8809 non-null   int64  \n",
      " 23  elegance        8809 non-null   int64  \n",
      " 24  tag_63          8809 non-null   int64  \n",
      " 25  tag_65          8809 non-null   int64  \n",
      " 26  tag_55          8809 non-null   int64  \n",
      " 27  tüv             8809 non-null   int64  \n",
      " 28  E10             8809 non-null   int64  \n",
      " 29  biodiesel       8809 non-null   int64  \n",
      " 30  pflanzenöl      8809 non-null   int64  \n",
      " 31  electric        8809 non-null   int64  \n",
      " 32  fueltype        8809 non-null   object \n",
      "dtypes: float64(6), int64(17), object(10)\n",
      "memory usage: 2.3+ MB\n"
     ]
    }
   ],
   "source": [
    "data.info()"
   ]
  },
  {
   "cell_type": "code",
   "execution_count": 5,
   "metadata": {},
   "outputs": [
    {
     "data": {
      "text/plain": [
       "Index(['Unnamed: 0', 'carname', 'price', 'milage', 'hubraum', 'transmission',\n",
       "       'num_seats', 'num_doors', 'emission_class', 'car_type', 'num_owners',\n",
       "       'age', 'power_ps', 'power_kw', 'Schaden', 'Model', 'amg', 'mc_laren',\n",
       "       'blk_series', 'blue_eff', 'g_pow', 'brabus', 'avantgarde', 'elegance',\n",
       "       'tag_63', 'tag_65', 'tag_55', 'tüv', 'E10', 'biodiesel', 'pflanzenöl',\n",
       "       'electric', 'fueltype'],\n",
       "      dtype='object')"
      ]
     },
     "execution_count": 5,
     "metadata": {},
     "output_type": "execute_result"
    }
   ],
   "source": [
    "data.columns"
   ]
  },
  {
   "cell_type": "code",
   "execution_count": 6,
   "metadata": {},
   "outputs": [],
   "source": [
    "data_dummies = data.drop(['carname', 'Unnamed: 0', 'power_kw'], axis=1)"
   ]
  },
  {
   "cell_type": "code",
   "execution_count": 7,
   "metadata": {},
   "outputs": [
    {
     "name": "stdout",
     "output_type": "stream",
     "text": [
      "<class 'pandas.core.frame.DataFrame'>\n",
      "Int64Index: 8809 entries, 0 to 10954\n",
      "Data columns (total 30 columns):\n",
      " #   Column          Non-Null Count  Dtype  \n",
      "---  ------          --------------  -----  \n",
      " 0   price           8809 non-null   float64\n",
      " 1   milage          8809 non-null   float64\n",
      " 2   hubraum         8809 non-null   float64\n",
      " 3   transmission    8809 non-null   object \n",
      " 4   num_seats       8809 non-null   object \n",
      " 5   num_doors       8809 non-null   object \n",
      " 6   emission_class  8809 non-null   object \n",
      " 7   car_type        8809 non-null   object \n",
      " 8   num_owners      8809 non-null   object \n",
      " 9   age             8809 non-null   float64\n",
      " 10  power_ps        8809 non-null   float64\n",
      " 11  Schaden         8809 non-null   object \n",
      " 12  Model           8809 non-null   object \n",
      " 13  amg             8809 non-null   int64  \n",
      " 14  mc_laren        8809 non-null   int64  \n",
      " 15  blk_series      8809 non-null   int64  \n",
      " 16  blue_eff        8809 non-null   int64  \n",
      " 17  g_pow           8809 non-null   int64  \n",
      " 18  brabus          8809 non-null   int64  \n",
      " 19  avantgarde      8809 non-null   int64  \n",
      " 20  elegance        8809 non-null   int64  \n",
      " 21  tag_63          8809 non-null   int64  \n",
      " 22  tag_65          8809 non-null   int64  \n",
      " 23  tag_55          8809 non-null   int64  \n",
      " 24  tüv             8809 non-null   int64  \n",
      " 25  E10             8809 non-null   int64  \n",
      " 26  biodiesel       8809 non-null   int64  \n",
      " 27  pflanzenöl      8809 non-null   int64  \n",
      " 28  electric        8809 non-null   int64  \n",
      " 29  fueltype        8809 non-null   object \n",
      "dtypes: float64(5), int64(16), object(9)\n",
      "memory usage: 2.1+ MB\n"
     ]
    }
   ],
   "source": [
    "data_dummies.info()"
   ]
  },
  {
   "cell_type": "code",
   "execution_count": 8,
   "metadata": {},
   "outputs": [],
   "source": [
    "data_dummies = pd.get_dummies(data_dummies, dtype=float)"
   ]
  },
  {
   "cell_type": "code",
   "execution_count": 9,
   "metadata": {},
   "outputs": [
    {
     "name": "stdout",
     "output_type": "stream",
     "text": [
      "<class 'pandas.core.frame.DataFrame'>\n",
      "Int64Index: 8809 entries, 0 to 10954\n",
      "Columns: 104 entries, price to fueltype_na\n",
      "dtypes: float64(88), int64(16)\n",
      "memory usage: 7.1 MB\n"
     ]
    }
   ],
   "source": [
    "data_dummies.info()"
   ]
  },
  {
   "cell_type": "code",
   "execution_count": 10,
   "metadata": {},
   "outputs": [],
   "source": [
    "data_dummies = data_dummies.astype(float)"
   ]
  },
  {
   "cell_type": "code",
   "execution_count": 11,
   "metadata": {},
   "outputs": [
    {
     "name": "stdout",
     "output_type": "stream",
     "text": [
      "<class 'pandas.core.frame.DataFrame'>\n",
      "Int64Index: 8809 entries, 0 to 10954\n",
      "Columns: 104 entries, price to fueltype_na\n",
      "dtypes: float64(104)\n",
      "memory usage: 7.1 MB\n"
     ]
    }
   ],
   "source": [
    "data_dummies.info()"
   ]
  },
  {
   "cell_type": "markdown",
   "metadata": {},
   "source": [
    "### Split Training & Test Data"
   ]
  },
  {
   "cell_type": "code",
   "execution_count": 12,
   "metadata": {},
   "outputs": [],
   "source": [
    "data_train, data_test = train_test_split(data_dummies, test_size = 0.25, shuffle=True)"
   ]
  },
  {
   "cell_type": "code",
   "execution_count": 13,
   "metadata": {},
   "outputs": [
    {
     "name": "stdout",
     "output_type": "stream",
     "text": [
      "0.005833430557175953\n"
     ]
    }
   ],
   "source": [
    "price_max = data_train.price.max()\n",
    "price_min = data_train.price.min()\n",
    "print(price_min/price_max)"
   ]
  },
  {
   "cell_type": "markdown",
   "metadata": {},
   "source": [
    "### Make Features and label data"
   ]
  },
  {
   "cell_type": "code",
   "execution_count": 14,
   "metadata": {},
   "outputs": [],
   "source": [
    "y_train = data_train[[\"price\"]]  #Labels\n",
    "X_train = data_train.drop(\"price\", axis=1)  #Features\n",
    "\n",
    "y_test = data_test[[\"price\"]]  #Labels\n",
    "X_test = data_test.drop(\"price\", axis=1)  #Features"
   ]
  },
  {
   "cell_type": "markdown",
   "metadata": {},
   "source": [
    "### Scale features and labels"
   ]
  },
  {
   "cell_type": "code",
   "execution_count": 15,
   "metadata": {},
   "outputs": [],
   "source": [
    "method = 'MinMax'\n",
    "\n",
    "if method == 'Standard':\n",
    "    scalerx = StandardScaler().fit(X_train)\n",
    "    scalery = StandardScaler().fit(y_train)\n",
    "    \n",
    "elif method == 'MinMax':\n",
    "    scalerx = MinMaxScaler().fit(X_train)\n",
    "    scalery = MinMaxScaler().fit(y_train)\n",
    "    \n",
    "elif method == 'Robust':\n",
    "    scalerx = RobustScaler().fit(X_train)\n",
    "    scalery = RobustScaler().fit(y_train)"
   ]
  },
  {
   "cell_type": "code",
   "execution_count": 16,
   "metadata": {},
   "outputs": [],
   "source": [
    "X_train = pd.DataFrame(scalerx.transform(X_train), columns=X_train.columns)\n",
    "y_train = pd.DataFrame(scalery.transform(y_train), columns=y_train.columns)\n",
    "y_train = y_train.T.squeeze()\n",
    "\n",
    "X_test = pd.DataFrame(scalerx.transform(X_test), columns=X_test.columns)\n",
    "y_test = pd.DataFrame(scalery.transform(y_test), columns=y_test.columns)\n",
    "y_test = y_test.T.squeeze()"
   ]
  },
  {
   "cell_type": "code",
   "execution_count": 17,
   "metadata": {},
   "outputs": [
    {
     "data": {
      "text/plain": [
       "0.9999999999999999"
      ]
     },
     "execution_count": 17,
     "metadata": {},
     "output_type": "execute_result"
    }
   ],
   "source": [
    "y_train.max()"
   ]
  },
  {
   "cell_type": "code",
   "execution_count": 18,
   "metadata": {},
   "outputs": [
    {
     "data": {
      "text/plain": [
       "0.0"
      ]
     },
     "execution_count": 18,
     "metadata": {},
     "output_type": "execute_result"
    }
   ],
   "source": [
    "y_train.min()"
   ]
  },
  {
   "cell_type": "markdown",
   "metadata": {},
   "source": [
    "### Automating Feature Selection and Regression Model Building"
   ]
  },
  {
   "cell_type": "code",
   "execution_count": 19,
   "metadata": {},
   "outputs": [
    {
     "name": "stdout",
     "output_type": "stream",
     "text": [
      "Dropping features with p-value P(t) > 0.05: \n",
      "\n",
      "1. Dropped num_owners_2 with p-value 0.952815189822287\n",
      "2. Dropped tag_55 with p-value 0.9361401270415466\n",
      "3. Dropped biodiesel with p-value 0.8167436754929669\n",
      "4. Dropped emission_class_Euro6c with p-value 0.79102696537542\n",
      "5. Dropped emission_class_Euro6d-TEMP with p-value 0.8941852018968756\n",
      "6. Dropped num_owners_6 with p-value 0.787237076164825\n",
      "7. Dropped mc_laren with p-value 0.7180592990006144\n",
      "8. Dropped Model_OTHER with p-value 0.699948535247009\n",
      "9. Dropped Model_SL with p-value 0.6021672630091774\n",
      "10. Dropped avantgarde with p-value 0.6065280667142122\n",
      "11. Dropped Model_GL with p-value 0.600417801294411\n",
      "12. Dropped g_pow with p-value 0.9040981750760909\n",
      "13. Dropped Model_GT with p-value 0.5961703614874165\n",
      "14. Dropped Model_Sprinter with p-value 0.6238314462128529\n",
      "15. Dropped num_owners_4 with p-value 0.5936151139638532\n",
      "16. Dropped num_doors_na with p-value 0.5817466115527734\n",
      "17. Dropped elegance with p-value 0.574027034831117\n",
      "18. Dropped fueltype_Elektro with p-value 0.5607768165991865\n",
      "19. Dropped num_seats_9 with p-value 0.5416039931305667\n",
      "20. Dropped num_seats_5 with p-value 0.8577586464797639\n",
      "21. Dropped blk_series with p-value 0.525622444733397\n",
      "22. Dropped num_seats_21 with p-value 0.6862785204266562\n",
      "23. Dropped num_doors_6/7 with p-value 0.4648135088449872\n",
      "24. Dropped emission_class_Euro3 with p-value 0.46838355410104604\n",
      "25. Dropped E10 with p-value 0.36394964978742506\n",
      "26. Dropped num_owners_na with p-value 0.35948869818524676\n",
      "27. Dropped transmission_Halbautomatik with p-value 0.2587963020371266\n",
      "28. Dropped transmission_-1 with p-value 0.5761147038925374\n",
      "29. Dropped transmission_Schaltgetriebe with p-value 0.9218383478823676\n",
      "30. Dropped num_seats_4 with p-value 0.1887307408272231\n",
      "31. Dropped num_seats_15 with p-value 0.15124382795721733\n",
      "32. Dropped brabus with p-value 0.1347278689168735\n",
      "33. Dropped num_owners_3 with p-value 0.1190156193926581\n",
      "34. Dropped electric with p-value 0.08499013789004771\n",
      "35. Dropped fueltype_Erdgas with p-value 0.967921053376247\n",
      "36. Dropped fueltype_na with p-value 0.7682095261559625\n",
      "37. Dropped fueltype_Diesel with p-value 0.5127389472416062\n",
      "38. Dropped fueltype_Autogas with p-value 0.3674012949119472\n",
      "39. Dropped num_seats_19 with p-value 0.07893292771431798\n",
      "40. Dropped pflanzenöl with p-value 0.07632893624004768\n",
      "41. Dropped emission_class_Euro6d with p-value 0.11028391594181346\n",
      "\n",
      "\n",
      "Selected features: \n",
      "\n",
      " ['milage', 'hubraum', 'age', 'power_ps', 'amg', 'blue_eff', 'tag_63', 'tag_65', 'tüv', 'transmission_Automatik', 'num_seats_2', 'num_seats_3', 'num_seats_6', 'num_seats_7', 'num_seats_8', 'num_seats_na', 'num_doors_2/3', 'num_doors_4/5', 'emission_class_Euro1', 'emission_class_Euro2', 'emission_class_Euro4', 'emission_class_Euro5', 'emission_class_Euro6', 'emission_class_na', 'car_type_andere', 'car_type_cabrio', 'car_type_kleinwagen', 'car_type_kombi', 'car_type_limousine', 'car_type_sport', 'car_type_suv', 'car_type_van', 'num_owners_1', 'num_owners_5', 'num_owners_9', 'Schaden_na', 'Schaden_repaired', 'Schaden_without', 'Model_A-Klasse', 'Model_B-Klasse', 'Model_C-Klasse', 'Model_CL', 'Model_CLA', 'Model_CLC', 'Model_CLK', 'Model_E-Klasse', 'Model_G-Klasse', 'Model_GLA', 'Model_GLB', 'Model_GLC', 'Model_GLE', 'Model_GLK', 'Model_GLS', 'Model_M-Klasse', 'Model_MarcoPolo', 'Model_R-Klasse', 'Model_S-Klasse', 'Model_V-Klasse', 'Model_Vaneo', 'Model_Vito', 'fueltype_Benzin', 'fueltype_Hybrid']\n"
     ]
    }
   ],
   "source": [
    "print('Dropping features with p-value P(t) > 0.05: \\n')\n",
    "cols = list(X_train.columns)\n",
    "pmax = 1\n",
    "i = 1\n",
    "while (len(cols) > 0):\n",
    "    p = []\n",
    "    X_1 = X_train\n",
    "    X_1 = sm.add_constant(X_1)\n",
    "    model = sm.OLS(y_train, X_1).fit()\n",
    "    p = pd.Series(model.pvalues.values[1:], index = cols)\n",
    "    pmax = max(p)\n",
    "    feature_with_p_max = p.idxmax()\n",
    "    if pmax > 0.05:\n",
    "        cols.remove(feature_with_p_max)\n",
    "        X_train = X_train.drop(feature_with_p_max, axis=1)\n",
    "        X_test = X_test.drop(feature_with_p_max, axis=1)\n",
    "        print(str(i) + '. Dropped', feature_with_p_max, 'with p-value', pmax)\n",
    "        i += 1\n",
    "    else:\n",
    "        break\n",
    "selected_features = cols\n",
    "print('\\n\\nSelected features: \\n\\n', selected_features)"
   ]
  },
  {
   "cell_type": "code",
   "execution_count": 20,
   "metadata": {},
   "outputs": [
    {
     "data": {
      "text/plain": [
       "(6606, 62)"
      ]
     },
     "execution_count": 20,
     "metadata": {},
     "output_type": "execute_result"
    }
   ],
   "source": [
    "X_train.shape"
   ]
  },
  {
   "cell_type": "code",
   "execution_count": 21,
   "metadata": {},
   "outputs": [
    {
     "data": {
      "text/plain": [
       "pandas.core.frame.DataFrame"
      ]
     },
     "execution_count": 21,
     "metadata": {},
     "output_type": "execute_result"
    }
   ],
   "source": [
    "type(X_train)"
   ]
  },
  {
   "cell_type": "code",
   "execution_count": 22,
   "metadata": {},
   "outputs": [
    {
     "data": {
      "text/plain": [
       "(2203, 62)"
      ]
     },
     "execution_count": 22,
     "metadata": {},
     "output_type": "execute_result"
    }
   ],
   "source": [
    "X_test.shape"
   ]
  },
  {
   "cell_type": "code",
   "execution_count": 23,
   "metadata": {},
   "outputs": [
    {
     "data": {
      "text/plain": [
       "pandas.core.frame.DataFrame"
      ]
     },
     "execution_count": 23,
     "metadata": {},
     "output_type": "execute_result"
    }
   ],
   "source": [
    "type(X_test)"
   ]
  },
  {
   "cell_type": "code",
   "execution_count": 24,
   "metadata": {},
   "outputs": [
    {
     "data": {
      "text/html": [
       "<table class=\"simpletable\">\n",
       "<caption>OLS Regression Results</caption>\n",
       "<tr>\n",
       "  <th>Dep. Variable:</th>          <td>price</td>      <th>  R-squared:         </th>  <td>   0.914</td> \n",
       "</tr>\n",
       "<tr>\n",
       "  <th>Model:</th>                   <td>OLS</td>       <th>  Adj. R-squared:    </th>  <td>   0.913</td> \n",
       "</tr>\n",
       "<tr>\n",
       "  <th>Method:</th>             <td>Least Squares</td>  <th>  F-statistic:       </th>  <td>   1154.</td> \n",
       "</tr>\n",
       "<tr>\n",
       "  <th>Date:</th>             <td>Fri, 15 Jan 2021</td> <th>  Prob (F-statistic):</th>   <td>  0.00</td>  \n",
       "</tr>\n",
       "<tr>\n",
       "  <th>Time:</th>                 <td>23:57:20</td>     <th>  Log-Likelihood:    </th>  <td>  6618.4</td> \n",
       "</tr>\n",
       "<tr>\n",
       "  <th>No. Observations:</th>      <td>  6606</td>      <th>  AIC:               </th> <td>-1.311e+04</td>\n",
       "</tr>\n",
       "<tr>\n",
       "  <th>Df Residuals:</th>          <td>  6545</td>      <th>  BIC:               </th> <td>-1.270e+04</td>\n",
       "</tr>\n",
       "<tr>\n",
       "  <th>Df Model:</th>              <td>    60</td>      <th>                     </th>      <td> </td>    \n",
       "</tr>\n",
       "<tr>\n",
       "  <th>Covariance Type:</th>      <td>nonrobust</td>    <th>                     </th>      <td> </td>    \n",
       "</tr>\n",
       "</table>\n",
       "<table class=\"simpletable\">\n",
       "<tr>\n",
       "             <td></td>               <th>coef</th>     <th>std err</th>      <th>t</th>      <th>P>|t|</th>  <th>[0.025</th>    <th>0.975]</th>  \n",
       "</tr>\n",
       "<tr>\n",
       "  <th>const</th>                  <td>    0.3306</td> <td>    0.009</td> <td>   36.388</td> <td> 0.000</td> <td>    0.313</td> <td>    0.348</td>\n",
       "</tr>\n",
       "<tr>\n",
       "  <th>milage</th>                 <td>   -0.5831</td> <td>    0.016</td> <td>  -37.560</td> <td> 0.000</td> <td>   -0.614</td> <td>   -0.553</td>\n",
       "</tr>\n",
       "<tr>\n",
       "  <th>hubraum</th>                <td>   -0.1207</td> <td>    0.019</td> <td>   -6.237</td> <td> 0.000</td> <td>   -0.159</td> <td>   -0.083</td>\n",
       "</tr>\n",
       "<tr>\n",
       "  <th>age</th>                    <td>   -0.5155</td> <td>    0.012</td> <td>  -43.866</td> <td> 0.000</td> <td>   -0.539</td> <td>   -0.492</td>\n",
       "</tr>\n",
       "<tr>\n",
       "  <th>power_ps</th>               <td>    0.6224</td> <td>    0.017</td> <td>   35.704</td> <td> 0.000</td> <td>    0.588</td> <td>    0.657</td>\n",
       "</tr>\n",
       "<tr>\n",
       "  <th>amg</th>                    <td>    0.0561</td> <td>    0.003</td> <td>   17.420</td> <td> 0.000</td> <td>    0.050</td> <td>    0.062</td>\n",
       "</tr>\n",
       "<tr>\n",
       "  <th>blue_eff</th>               <td>   -0.0316</td> <td>    0.005</td> <td>   -6.931</td> <td> 0.000</td> <td>   -0.041</td> <td>   -0.023</td>\n",
       "</tr>\n",
       "<tr>\n",
       "  <th>tag_63</th>                 <td>    0.0437</td> <td>    0.009</td> <td>    5.128</td> <td> 0.000</td> <td>    0.027</td> <td>    0.060</td>\n",
       "</tr>\n",
       "<tr>\n",
       "  <th>tag_65</th>                 <td>    0.1085</td> <td>    0.029</td> <td>    3.777</td> <td> 0.000</td> <td>    0.052</td> <td>    0.165</td>\n",
       "</tr>\n",
       "<tr>\n",
       "  <th>tüv</th>                    <td>    0.0182</td> <td>    0.006</td> <td>    3.116</td> <td> 0.002</td> <td>    0.007</td> <td>    0.030</td>\n",
       "</tr>\n",
       "<tr>\n",
       "  <th>transmission_Automatik</th> <td>    0.0203</td> <td>    0.003</td> <td>    6.329</td> <td> 0.000</td> <td>    0.014</td> <td>    0.027</td>\n",
       "</tr>\n",
       "<tr>\n",
       "  <th>num_seats_2</th>            <td>   -0.0312</td> <td>    0.009</td> <td>   -3.332</td> <td> 0.001</td> <td>   -0.049</td> <td>   -0.013</td>\n",
       "</tr>\n",
       "<tr>\n",
       "  <th>num_seats_3</th>            <td>   -0.0408</td> <td>    0.010</td> <td>   -4.000</td> <td> 0.000</td> <td>   -0.061</td> <td>   -0.021</td>\n",
       "</tr>\n",
       "<tr>\n",
       "  <th>num_seats_6</th>            <td>    0.0324</td> <td>    0.011</td> <td>    3.024</td> <td> 0.003</td> <td>    0.011</td> <td>    0.053</td>\n",
       "</tr>\n",
       "<tr>\n",
       "  <th>num_seats_7</th>            <td>    0.0545</td> <td>    0.010</td> <td>    5.610</td> <td> 0.000</td> <td>    0.035</td> <td>    0.074</td>\n",
       "</tr>\n",
       "<tr>\n",
       "  <th>num_seats_8</th>            <td>    0.0434</td> <td>    0.010</td> <td>    4.180</td> <td> 0.000</td> <td>    0.023</td> <td>    0.064</td>\n",
       "</tr>\n",
       "<tr>\n",
       "  <th>num_seats_na</th>           <td>    0.0423</td> <td>    0.007</td> <td>    5.744</td> <td> 0.000</td> <td>    0.028</td> <td>    0.057</td>\n",
       "</tr>\n",
       "<tr>\n",
       "  <th>num_doors_2/3</th>          <td>    0.0948</td> <td>    0.011</td> <td>    8.745</td> <td> 0.000</td> <td>    0.074</td> <td>    0.116</td>\n",
       "</tr>\n",
       "<tr>\n",
       "  <th>num_doors_4/5</th>          <td>    0.0796</td> <td>    0.009</td> <td>    8.710</td> <td> 0.000</td> <td>    0.062</td> <td>    0.098</td>\n",
       "</tr>\n",
       "<tr>\n",
       "  <th>emission_class_Euro1</th>   <td>    0.4967</td> <td>    0.052</td> <td>    9.465</td> <td> 0.000</td> <td>    0.394</td> <td>    0.600</td>\n",
       "</tr>\n",
       "<tr>\n",
       "  <th>emission_class_Euro2</th>   <td>    0.0710</td> <td>    0.019</td> <td>    3.718</td> <td> 0.000</td> <td>    0.034</td> <td>    0.108</td>\n",
       "</tr>\n",
       "<tr>\n",
       "  <th>emission_class_Euro4</th>   <td>   -0.0938</td> <td>    0.006</td> <td>  -16.388</td> <td> 0.000</td> <td>   -0.105</td> <td>   -0.083</td>\n",
       "</tr>\n",
       "<tr>\n",
       "  <th>emission_class_Euro5</th>   <td>   -0.1063</td> <td>    0.005</td> <td>  -20.240</td> <td> 0.000</td> <td>   -0.117</td> <td>   -0.096</td>\n",
       "</tr>\n",
       "<tr>\n",
       "  <th>emission_class_Euro6</th>   <td>   -0.0518</td> <td>    0.004</td> <td>  -14.461</td> <td> 0.000</td> <td>   -0.059</td> <td>   -0.045</td>\n",
       "</tr>\n",
       "<tr>\n",
       "  <th>emission_class_na</th>      <td>   -0.0175</td> <td>    0.006</td> <td>   -3.081</td> <td> 0.002</td> <td>   -0.029</td> <td>   -0.006</td>\n",
       "</tr>\n",
       "<tr>\n",
       "  <th>car_type_andere</th>        <td>    0.0321</td> <td>    0.005</td> <td>    6.311</td> <td> 0.000</td> <td>    0.022</td> <td>    0.042</td>\n",
       "</tr>\n",
       "<tr>\n",
       "  <th>car_type_cabrio</th>        <td>    0.0942</td> <td>    0.008</td> <td>   12.467</td> <td> 0.000</td> <td>    0.079</td> <td>    0.109</td>\n",
       "</tr>\n",
       "<tr>\n",
       "  <th>car_type_kleinwagen</th>    <td>    0.0502</td> <td>    0.007</td> <td>    7.506</td> <td> 0.000</td> <td>    0.037</td> <td>    0.063</td>\n",
       "</tr>\n",
       "<tr>\n",
       "  <th>car_type_kombi</th>         <td>    0.0222</td> <td>    0.004</td> <td>    6.076</td> <td> 0.000</td> <td>    0.015</td> <td>    0.029</td>\n",
       "</tr>\n",
       "<tr>\n",
       "  <th>car_type_limousine</th>     <td>    0.0138</td> <td>    0.003</td> <td>    4.255</td> <td> 0.000</td> <td>    0.007</td> <td>    0.020</td>\n",
       "</tr>\n",
       "<tr>\n",
       "  <th>car_type_sport</th>         <td>    0.0528</td> <td>    0.005</td> <td>   11.459</td> <td> 0.000</td> <td>    0.044</td> <td>    0.062</td>\n",
       "</tr>\n",
       "<tr>\n",
       "  <th>car_type_suv</th>           <td>    0.0330</td> <td>    0.006</td> <td>    5.458</td> <td> 0.000</td> <td>    0.021</td> <td>    0.045</td>\n",
       "</tr>\n",
       "<tr>\n",
       "  <th>car_type_van</th>           <td>    0.0323</td> <td>    0.005</td> <td>    6.625</td> <td> 0.000</td> <td>    0.023</td> <td>    0.042</td>\n",
       "</tr>\n",
       "<tr>\n",
       "  <th>num_owners_1</th>           <td>    0.0325</td> <td>    0.003</td> <td>    9.934</td> <td> 0.000</td> <td>    0.026</td> <td>    0.039</td>\n",
       "</tr>\n",
       "<tr>\n",
       "  <th>num_owners_5</th>           <td>    0.0877</td> <td>    0.026</td> <td>    3.343</td> <td> 0.001</td> <td>    0.036</td> <td>    0.139</td>\n",
       "</tr>\n",
       "<tr>\n",
       "  <th>num_owners_9</th>           <td>    0.1540</td> <td>    0.064</td> <td>    2.420</td> <td> 0.016</td> <td>    0.029</td> <td>    0.279</td>\n",
       "</tr>\n",
       "<tr>\n",
       "  <th>Schaden_na</th>             <td>    0.0994</td> <td>    0.005</td> <td>   21.689</td> <td> 0.000</td> <td>    0.090</td> <td>    0.108</td>\n",
       "</tr>\n",
       "<tr>\n",
       "  <th>Schaden_repaired</th>       <td>    0.1068</td> <td>    0.010</td> <td>   10.797</td> <td> 0.000</td> <td>    0.087</td> <td>    0.126</td>\n",
       "</tr>\n",
       "<tr>\n",
       "  <th>Schaden_without</th>        <td>    0.1244</td> <td>    0.005</td> <td>   26.765</td> <td> 0.000</td> <td>    0.115</td> <td>    0.133</td>\n",
       "</tr>\n",
       "<tr>\n",
       "  <th>Model_A-Klasse</th>         <td>   -0.0792</td> <td>    0.007</td> <td>  -11.805</td> <td> 0.000</td> <td>   -0.092</td> <td>   -0.066</td>\n",
       "</tr>\n",
       "<tr>\n",
       "  <th>Model_B-Klasse</th>         <td>   -0.1041</td> <td>    0.007</td> <td>  -14.875</td> <td> 0.000</td> <td>   -0.118</td> <td>   -0.090</td>\n",
       "</tr>\n",
       "<tr>\n",
       "  <th>Model_C-Klasse</th>         <td>   -0.0601</td> <td>    0.006</td> <td>  -10.749</td> <td> 0.000</td> <td>   -0.071</td> <td>   -0.049</td>\n",
       "</tr>\n",
       "<tr>\n",
       "  <th>Model_CL</th>               <td>   -0.0283</td> <td>    0.008</td> <td>   -3.391</td> <td> 0.001</td> <td>   -0.045</td> <td>   -0.012</td>\n",
       "</tr>\n",
       "<tr>\n",
       "  <th>Model_CLA</th>              <td>   -0.0867</td> <td>    0.009</td> <td>   -9.960</td> <td> 0.000</td> <td>   -0.104</td> <td>   -0.070</td>\n",
       "</tr>\n",
       "<tr>\n",
       "  <th>Model_CLC</th>              <td>   -0.1101</td> <td>    0.026</td> <td>   -4.157</td> <td> 0.000</td> <td>   -0.162</td> <td>   -0.058</td>\n",
       "</tr>\n",
       "<tr>\n",
       "  <th>Model_CLK</th>              <td>   -0.0667</td> <td>    0.011</td> <td>   -6.009</td> <td> 0.000</td> <td>   -0.088</td> <td>   -0.045</td>\n",
       "</tr>\n",
       "<tr>\n",
       "  <th>Model_E-Klasse</th>         <td>   -0.0268</td> <td>    0.006</td> <td>   -4.746</td> <td> 0.000</td> <td>   -0.038</td> <td>   -0.016</td>\n",
       "</tr>\n",
       "<tr>\n",
       "  <th>Model_G-Klasse</th>         <td>    0.4907</td> <td>    0.019</td> <td>   25.435</td> <td> 0.000</td> <td>    0.453</td> <td>    0.528</td>\n",
       "</tr>\n",
       "<tr>\n",
       "  <th>Model_GLA</th>              <td>   -0.0775</td> <td>    0.011</td> <td>   -6.974</td> <td> 0.000</td> <td>   -0.099</td> <td>   -0.056</td>\n",
       "</tr>\n",
       "<tr>\n",
       "  <th>Model_GLB</th>              <td>    0.0701</td> <td>    0.016</td> <td>    4.318</td> <td> 0.000</td> <td>    0.038</td> <td>    0.102</td>\n",
       "</tr>\n",
       "<tr>\n",
       "  <th>Model_GLC</th>              <td>    0.0429</td> <td>    0.009</td> <td>    4.834</td> <td> 0.000</td> <td>    0.026</td> <td>    0.060</td>\n",
       "</tr>\n",
       "<tr>\n",
       "  <th>Model_GLE</th>              <td>    0.1297</td> <td>    0.010</td> <td>   12.708</td> <td> 0.000</td> <td>    0.110</td> <td>    0.150</td>\n",
       "</tr>\n",
       "<tr>\n",
       "  <th>Model_GLK</th>              <td>   -0.0664</td> <td>    0.014</td> <td>   -4.869</td> <td> 0.000</td> <td>   -0.093</td> <td>   -0.040</td>\n",
       "</tr>\n",
       "<tr>\n",
       "  <th>Model_GLS</th>              <td>    0.1909</td> <td>    0.023</td> <td>    8.468</td> <td> 0.000</td> <td>    0.147</td> <td>    0.235</td>\n",
       "</tr>\n",
       "<tr>\n",
       "  <th>Model_M-Klasse</th>         <td>   -0.0496</td> <td>    0.010</td> <td>   -4.724</td> <td> 0.000</td> <td>   -0.070</td> <td>   -0.029</td>\n",
       "</tr>\n",
       "<tr>\n",
       "  <th>Model_MarcoPolo</th>        <td>    0.3180</td> <td>    0.026</td> <td>   12.410</td> <td> 0.000</td> <td>    0.268</td> <td>    0.368</td>\n",
       "</tr>\n",
       "<tr>\n",
       "  <th>Model_R-Klasse</th>         <td>   -0.0905</td> <td>    0.020</td> <td>   -4.455</td> <td> 0.000</td> <td>   -0.130</td> <td>   -0.051</td>\n",
       "</tr>\n",
       "<tr>\n",
       "  <th>Model_S-Klasse</th>         <td>    0.1235</td> <td>    0.009</td> <td>   13.550</td> <td> 0.000</td> <td>    0.106</td> <td>    0.141</td>\n",
       "</tr>\n",
       "<tr>\n",
       "  <th>Model_V-Klasse</th>         <td>    0.1258</td> <td>    0.009</td> <td>   14.101</td> <td> 0.000</td> <td>    0.108</td> <td>    0.143</td>\n",
       "</tr>\n",
       "<tr>\n",
       "  <th>Model_Vaneo</th>            <td>   -0.1503</td> <td>    0.011</td> <td>  -13.111</td> <td> 0.000</td> <td>   -0.173</td> <td>   -0.128</td>\n",
       "</tr>\n",
       "<tr>\n",
       "  <th>Model_Vito</th>             <td>   -0.0459</td> <td>    0.008</td> <td>   -5.940</td> <td> 0.000</td> <td>   -0.061</td> <td>   -0.031</td>\n",
       "</tr>\n",
       "<tr>\n",
       "  <th>fueltype_Benzin</th>        <td>   -0.0225</td> <td>    0.003</td> <td>   -7.439</td> <td> 0.000</td> <td>   -0.028</td> <td>   -0.017</td>\n",
       "</tr>\n",
       "<tr>\n",
       "  <th>fueltype_Hybrid</th>        <td>    0.1260</td> <td>    0.007</td> <td>   18.128</td> <td> 0.000</td> <td>    0.112</td> <td>    0.140</td>\n",
       "</tr>\n",
       "</table>\n",
       "<table class=\"simpletable\">\n",
       "<tr>\n",
       "  <th>Omnibus:</th>       <td>1038.239</td> <th>  Durbin-Watson:     </th> <td>   2.008</td>\n",
       "</tr>\n",
       "<tr>\n",
       "  <th>Prob(Omnibus):</th>  <td> 0.000</td>  <th>  Jarque-Bera (JB):  </th> <td>4046.606</td>\n",
       "</tr>\n",
       "<tr>\n",
       "  <th>Skew:</th>           <td> 0.743</td>  <th>  Prob(JB):          </th> <td>    0.00</td>\n",
       "</tr>\n",
       "<tr>\n",
       "  <th>Kurtosis:</th>       <td> 6.534</td>  <th>  Cond. No.          </th> <td>1.18e+16</td>\n",
       "</tr>\n",
       "</table><br/><br/>Notes:<br/>[1] Standard Errors assume that the covariance matrix of the errors is correctly specified.<br/>[2] The smallest eigenvalue is 1.8e-28. This might indicate that there are<br/>strong multicollinearity problems or that the design matrix is singular."
      ],
      "text/plain": [
       "<class 'statsmodels.iolib.summary.Summary'>\n",
       "\"\"\"\n",
       "                            OLS Regression Results                            \n",
       "==============================================================================\n",
       "Dep. Variable:                  price   R-squared:                       0.914\n",
       "Model:                            OLS   Adj. R-squared:                  0.913\n",
       "Method:                 Least Squares   F-statistic:                     1154.\n",
       "Date:                Fri, 15 Jan 2021   Prob (F-statistic):               0.00\n",
       "Time:                        23:57:20   Log-Likelihood:                 6618.4\n",
       "No. Observations:                6606   AIC:                        -1.311e+04\n",
       "Df Residuals:                    6545   BIC:                        -1.270e+04\n",
       "Df Model:                          60                                         \n",
       "Covariance Type:            nonrobust                                         \n",
       "==========================================================================================\n",
       "                             coef    std err          t      P>|t|      [0.025      0.975]\n",
       "------------------------------------------------------------------------------------------\n",
       "const                      0.3306      0.009     36.388      0.000       0.313       0.348\n",
       "milage                    -0.5831      0.016    -37.560      0.000      -0.614      -0.553\n",
       "hubraum                   -0.1207      0.019     -6.237      0.000      -0.159      -0.083\n",
       "age                       -0.5155      0.012    -43.866      0.000      -0.539      -0.492\n",
       "power_ps                   0.6224      0.017     35.704      0.000       0.588       0.657\n",
       "amg                        0.0561      0.003     17.420      0.000       0.050       0.062\n",
       "blue_eff                  -0.0316      0.005     -6.931      0.000      -0.041      -0.023\n",
       "tag_63                     0.0437      0.009      5.128      0.000       0.027       0.060\n",
       "tag_65                     0.1085      0.029      3.777      0.000       0.052       0.165\n",
       "tüv                        0.0182      0.006      3.116      0.002       0.007       0.030\n",
       "transmission_Automatik     0.0203      0.003      6.329      0.000       0.014       0.027\n",
       "num_seats_2               -0.0312      0.009     -3.332      0.001      -0.049      -0.013\n",
       "num_seats_3               -0.0408      0.010     -4.000      0.000      -0.061      -0.021\n",
       "num_seats_6                0.0324      0.011      3.024      0.003       0.011       0.053\n",
       "num_seats_7                0.0545      0.010      5.610      0.000       0.035       0.074\n",
       "num_seats_8                0.0434      0.010      4.180      0.000       0.023       0.064\n",
       "num_seats_na               0.0423      0.007      5.744      0.000       0.028       0.057\n",
       "num_doors_2/3              0.0948      0.011      8.745      0.000       0.074       0.116\n",
       "num_doors_4/5              0.0796      0.009      8.710      0.000       0.062       0.098\n",
       "emission_class_Euro1       0.4967      0.052      9.465      0.000       0.394       0.600\n",
       "emission_class_Euro2       0.0710      0.019      3.718      0.000       0.034       0.108\n",
       "emission_class_Euro4      -0.0938      0.006    -16.388      0.000      -0.105      -0.083\n",
       "emission_class_Euro5      -0.1063      0.005    -20.240      0.000      -0.117      -0.096\n",
       "emission_class_Euro6      -0.0518      0.004    -14.461      0.000      -0.059      -0.045\n",
       "emission_class_na         -0.0175      0.006     -3.081      0.002      -0.029      -0.006\n",
       "car_type_andere            0.0321      0.005      6.311      0.000       0.022       0.042\n",
       "car_type_cabrio            0.0942      0.008     12.467      0.000       0.079       0.109\n",
       "car_type_kleinwagen        0.0502      0.007      7.506      0.000       0.037       0.063\n",
       "car_type_kombi             0.0222      0.004      6.076      0.000       0.015       0.029\n",
       "car_type_limousine         0.0138      0.003      4.255      0.000       0.007       0.020\n",
       "car_type_sport             0.0528      0.005     11.459      0.000       0.044       0.062\n",
       "car_type_suv               0.0330      0.006      5.458      0.000       0.021       0.045\n",
       "car_type_van               0.0323      0.005      6.625      0.000       0.023       0.042\n",
       "num_owners_1               0.0325      0.003      9.934      0.000       0.026       0.039\n",
       "num_owners_5               0.0877      0.026      3.343      0.001       0.036       0.139\n",
       "num_owners_9               0.1540      0.064      2.420      0.016       0.029       0.279\n",
       "Schaden_na                 0.0994      0.005     21.689      0.000       0.090       0.108\n",
       "Schaden_repaired           0.1068      0.010     10.797      0.000       0.087       0.126\n",
       "Schaden_without            0.1244      0.005     26.765      0.000       0.115       0.133\n",
       "Model_A-Klasse            -0.0792      0.007    -11.805      0.000      -0.092      -0.066\n",
       "Model_B-Klasse            -0.1041      0.007    -14.875      0.000      -0.118      -0.090\n",
       "Model_C-Klasse            -0.0601      0.006    -10.749      0.000      -0.071      -0.049\n",
       "Model_CL                  -0.0283      0.008     -3.391      0.001      -0.045      -0.012\n",
       "Model_CLA                 -0.0867      0.009     -9.960      0.000      -0.104      -0.070\n",
       "Model_CLC                 -0.1101      0.026     -4.157      0.000      -0.162      -0.058\n",
       "Model_CLK                 -0.0667      0.011     -6.009      0.000      -0.088      -0.045\n",
       "Model_E-Klasse            -0.0268      0.006     -4.746      0.000      -0.038      -0.016\n",
       "Model_G-Klasse             0.4907      0.019     25.435      0.000       0.453       0.528\n",
       "Model_GLA                 -0.0775      0.011     -6.974      0.000      -0.099      -0.056\n",
       "Model_GLB                  0.0701      0.016      4.318      0.000       0.038       0.102\n",
       "Model_GLC                  0.0429      0.009      4.834      0.000       0.026       0.060\n",
       "Model_GLE                  0.1297      0.010     12.708      0.000       0.110       0.150\n",
       "Model_GLK                 -0.0664      0.014     -4.869      0.000      -0.093      -0.040\n",
       "Model_GLS                  0.1909      0.023      8.468      0.000       0.147       0.235\n",
       "Model_M-Klasse            -0.0496      0.010     -4.724      0.000      -0.070      -0.029\n",
       "Model_MarcoPolo            0.3180      0.026     12.410      0.000       0.268       0.368\n",
       "Model_R-Klasse            -0.0905      0.020     -4.455      0.000      -0.130      -0.051\n",
       "Model_S-Klasse             0.1235      0.009     13.550      0.000       0.106       0.141\n",
       "Model_V-Klasse             0.1258      0.009     14.101      0.000       0.108       0.143\n",
       "Model_Vaneo               -0.1503      0.011    -13.111      0.000      -0.173      -0.128\n",
       "Model_Vito                -0.0459      0.008     -5.940      0.000      -0.061      -0.031\n",
       "fueltype_Benzin           -0.0225      0.003     -7.439      0.000      -0.028      -0.017\n",
       "fueltype_Hybrid            0.1260      0.007     18.128      0.000       0.112       0.140\n",
       "==============================================================================\n",
       "Omnibus:                     1038.239   Durbin-Watson:                   2.008\n",
       "Prob(Omnibus):                  0.000   Jarque-Bera (JB):             4046.606\n",
       "Skew:                           0.743   Prob(JB):                         0.00\n",
       "Kurtosis:                       6.534   Cond. No.                     1.18e+16\n",
       "==============================================================================\n",
       "\n",
       "Notes:\n",
       "[1] Standard Errors assume that the covariance matrix of the errors is correctly specified.\n",
       "[2] The smallest eigenvalue is 1.8e-28. This might indicate that there are\n",
       "strong multicollinearity problems or that the design matrix is singular.\n",
       "\"\"\""
      ]
     },
     "execution_count": 24,
     "metadata": {},
     "output_type": "execute_result"
    }
   ],
   "source": [
    "model.summary()"
   ]
  },
  {
   "cell_type": "code",
   "execution_count": 25,
   "metadata": {},
   "outputs": [],
   "source": [
    "def plot(y_pred, y_true, savename, color):\n",
    "    fig, ax = plt.subplots(figsize=(6, 5)) \n",
    "    sns.scatterplot(y=y_true, x=y_pred, color=color, s=5)\n",
    "    xx = np.linspace(min(y_pred), max(y_pred), num=50)\n",
    "    plt.plot(xx, xx, color='k', linewidth=2)\n",
    "    plt.title('Prediction on ' + savename + ' Dataset')\n",
    "    plt.xlabel('Predicted Price')\n",
    "    plt.ylabel('True Price')\n",
    "    plt.tight_layout()\n",
    "    #ax.xaxis.set_major_formatter(ticker.EngFormatter())\n",
    "    #ax.yaxis.set_major_formatter(ticker.EngFormatter())\n",
    "    plt.grid(True)\n",
    "    plt.show()\n",
    "    fig.savefig('Plots/'+savename+'.png', dpi=300)"
   ]
  },
  {
   "cell_type": "code",
   "execution_count": 26,
   "metadata": {},
   "outputs": [],
   "source": [
    "try:\n",
    "    test_pred = model.predict(sm.add_constant(X_test))\n",
    "except:\n",
    "    test_pred = model.predict(sm.add_constant(X_test, has_constant='add'))\n",
    "\n",
    "try:\n",
    "    train_pred = model.predict(sm.add_constant(X_train))\n",
    "except:\n",
    "    train_pred = model.predict(sm.add_constant(X_train, has_constant='add'))"
   ]
  },
  {
   "cell_type": "code",
   "execution_count": 27,
   "metadata": {},
   "outputs": [],
   "source": [
    "def rescale_label(label):\n",
    "    Y = np.array([label])  # make 2D-Array\n",
    "    return list(scalery.inverse_transform(Y)[0])"
   ]
  },
  {
   "cell_type": "markdown",
   "metadata": {},
   "source": [
    "### Performance on unseen Test Dataset"
   ]
  },
  {
   "cell_type": "code",
   "execution_count": 28,
   "metadata": {},
   "outputs": [
    {
     "data": {
      "text/plain": [
       "0.06686981149182128"
      ]
     },
     "execution_count": 28,
     "metadata": {},
     "output_type": "execute_result"
    }
   ],
   "source": [
    "sm.tools.eval_measures.meanabs(y_test, test_pred)"
   ]
  },
  {
   "cell_type": "code",
   "execution_count": 29,
   "metadata": {},
   "outputs": [
    {
     "data": {
      "text/plain": [
       "3988.717385675648"
      ]
     },
     "execution_count": 29,
     "metadata": {},
     "output_type": "execute_result"
    }
   ],
   "source": [
    "sm.tools.eval_measures.meanabs(rescale_label(y_test), rescale_label(test_pred))"
   ]
  },
  {
   "cell_type": "code",
   "execution_count": 30,
   "metadata": {},
   "outputs": [
    {
     "data": {
      "image/png": "[encoded data removed]",
      "text/plain": [
       "<Figure size 432x360 with 1 Axes>"
      ]
     },
     "metadata": {
      "needs_background": "light"
     },
     "output_type": "display_data"
    }
   ],
   "source": [
    "plot(rescale_label(test_pred), rescale_label(y_test), 'Test', 'g')"
   ]
  },
  {
   "cell_type": "code",
   "execution_count": 31,
   "metadata": {},
   "outputs": [],
   "source": [
    "#plot(test_pred[0], y_test[0], 'Test')"
   ]
  },
  {
   "cell_type": "code",
   "execution_count": 32,
   "metadata": {},
   "outputs": [],
   "source": [
    "# ROBUST 0.16 8643\n",
    "# STANDARD 0.23  8478\n",
    "# MINMAX 0.05  8426"
   ]
  },
  {
   "cell_type": "markdown",
   "metadata": {},
   "source": [
    "### Performance on seen Training Dataset"
   ]
  },
  {
   "cell_type": "code",
   "execution_count": 33,
   "metadata": {},
   "outputs": [
    {
     "data": {
      "text/plain": [
       "3958.343600314118"
      ]
     },
     "execution_count": 33,
     "metadata": {},
     "output_type": "execute_result"
    }
   ],
   "source": [
    "sm.tools.eval_measures.meanabs(rescale_label(y_train), rescale_label(train_pred))"
   ]
  },
  {
   "cell_type": "code",
   "execution_count": 34,
   "metadata": {},
   "outputs": [
    {
     "data": {
      "image/png": "[encoded data removed]",
      "text/plain": [
       "<Figure size 432x360 with 1 Axes>"
      ]
     },
     "metadata": {
      "needs_background": "light"
     },
     "output_type": "display_data"
    }
   ],
   "source": [
    "plot(rescale_label(train_pred), rescale_label(y_train), 'Train', 'b')"
   ]
  },
  {
   "cell_type": "markdown",
   "metadata": {},
   "source": [
    "### Problem of negative Prices\n",
    "\n",
    "- modelling log-price; this is a common strategy with price-like variables in economics\n",
    "- using generalized linear models (GLMs). A gamma-model with a log-link would be quite similar to modelling log-price, but the model would be for the expected price rather than expected log-price. This may have some advantages. If you need the relationship with the predictors to be linear in actual price, this can be done (identity link), but a log link for this sort of data would be more common."
   ]
  },
  {
   "cell_type": "markdown",
   "metadata": {},
   "source": [
    "## Regression with Neural Network "
   ]
  },
  {
   "cell_type": "code",
   "execution_count": 35,
   "metadata": {},
   "outputs": [],
   "source": [
    "import os\n",
    "import numpy as np\n",
    "import torch as T\n",
    "import torch.nn as nn\n",
    "import torch.nn.functional as F\n",
    "import torch.optim as optim\n",
    "from torch.distributions.normal import Normal"
   ]
  },
  {
   "cell_type": "code",
   "execution_count": 36,
   "metadata": {},
   "outputs": [],
   "source": [
    "class Network(nn.Module):\n",
    "    def __init__(self, n_input, lr):\n",
    "        super(Network, self).__init__()\n",
    "        \n",
    "        fc1 = 200\n",
    "        fc2 = 100\n",
    "\n",
    "        self.fc1 = nn.Linear(n_input, fc1)\n",
    "        self.fc2 = nn.Linear(fc1, fc2)\n",
    "        self.out = nn.Linear(fc2, 1)\n",
    "\n",
    "        self.optimizer = optim.Adam(self.parameters(), lr=lr, eps=1e-5)\n",
    "        self.device = T.device('cuda:0' if T.cuda.is_available() else 'cpu')\n",
    "        self.to(self.device)\n",
    "\n",
    "    def forward(self, inputs):\n",
    "        x = F.relu(self.fc1(inputs))\n",
    "        x = F.relu(self.fc2(x))\n",
    "        out = F.relu(self.out(x))\n",
    "        \n",
    "        return out"
   ]
  },
  {
   "cell_type": "code",
   "execution_count": 37,
   "metadata": {},
   "outputs": [
    {
     "data": {
      "text/plain": [
       "62"
      ]
     },
     "execution_count": 37,
     "metadata": {},
     "output_type": "execute_result"
    }
   ],
   "source": [
    "X_train = np.array(X_train)\n",
    "X_train = T.tensor(X_train, dtype=T.float32)\n",
    "y_train = T.tensor(y_train, dtype=T.float32)\n",
    "\n",
    "X_test = np.array(X_test)\n",
    "X_test = T.tensor(X_test, dtype=T.float32)\n",
    "y_test = T.tensor(y_test, dtype=T.float32)\n",
    "\n",
    "input_nodes = X_train.shape[1]\n",
    "input_nodes"
   ]
  },
  {
   "cell_type": "code",
   "execution_count": 38,
   "metadata": {},
   "outputs": [],
   "source": [
    "model = Network(input_nodes, 0.005)\n",
    "loss_func = nn.MSELoss()\n",
    "mae_func = nn.L1Loss()"
   ]
  },
  {
   "cell_type": "code",
   "execution_count": 39,
   "metadata": {},
   "outputs": [],
   "source": [
    "def calc_MAE(preds, true):\n",
    "    preds = np.array(preds)\n",
    "    true = np.array(true)\n",
    "    return np.abs(preds - true).sum() / preds.shape[0]"
   ]
  },
  {
   "cell_type": "code",
   "execution_count": 40,
   "metadata": {},
   "outputs": [],
   "source": [
    "loss_train = []\n",
    "loss_test = []\n",
    "mae_train = []\n",
    "mae_test = []\n",
    "\n",
    "for epochs in range(200):\n",
    "    \n",
    "    prediction = T.squeeze(model(X_train))\n",
    "    loss = loss_func(prediction, y_train)\n",
    "    mae_tr = mae_func(prediction, y_train).detach()\n",
    "    \n",
    "    prediction_test = T.squeeze(model(X_test)).detach()\n",
    "    test_loss = loss_func(prediction_test, y_test).detach()\n",
    "    mae_te = mae_func(prediction_test, y_test).detach()\n",
    "    \n",
    "    loss_train.append(loss.detach().item())\n",
    "    loss_test.append(test_loss.item())\n",
    "    mae_test.append(mae_te.item())\n",
    "    mae_train.append(mae_tr.item())\n",
    "    \n",
    "    model.optimizer.zero_grad()\n",
    "    loss.backward()\n",
    "    model.optimizer.step()\n",
    "    \n",
    "    "
   ]
  },
  {
   "cell_type": "code",
   "execution_count": 41,
   "metadata": {},
   "outputs": [
    {
     "data": {
      "image/png": "[encoded data removed]",
      "text/plain": [
       "<Figure size 432x288 with 1 Axes>"
      ]
     },
     "metadata": {
      "needs_background": "light"
     },
     "output_type": "display_data"
    }
   ],
   "source": [
    "plt.figure()\n",
    "plt.plot(loss_train, label='train_loss')\n",
    "plt.plot(loss_test, '--', label='test_loss')\n",
    "plt.legend()\n",
    "plt.show()"
   ]
  },
  {
   "cell_type": "code",
   "execution_count": 42,
   "metadata": {},
   "outputs": [
    {
     "data": {
      "image/png": "[encoded data removed]",
      "text/plain": [
       "<Figure size 432x288 with 1 Axes>"
      ]
     },
     "metadata": {
      "needs_background": "light"
     },
     "output_type": "display_data"
    }
   ],
   "source": [
    "plt.figure()\n",
    "plt.plot(mae_train, label='MAE_train')\n",
    "plt.plot(mae_test, label='MAE_test')\n",
    "plt.legend()\n",
    "plt.show()"
   ]
  },
  {
   "cell_type": "code",
   "execution_count": null,
   "metadata": {},
   "outputs": [],
   "source": []
  },
  {
   "cell_type": "code",
   "execution_count": 43,
   "metadata": {},
   "outputs": [
    {
     "data": {
      "image/png": "[encoded data removed]",
      "text/plain": [
       "<Figure size 432x360 with 1 Axes>"
      ]
     },
     "metadata": {
      "needs_background": "light"
     },
     "output_type": "display_data"
    },
    {
     "name": "stdout",
     "output_type": "stream",
     "text": [
      "2457.6109850204266\n"
     ]
    }
   ],
   "source": [
    "test_pred = T.squeeze(model(X_test).detach())\n",
    "plot(rescale_label(test_pred.numpy()), rescale_label(y_test.numpy()), 'Test', 'green')\n",
    "MAE = calc_MAE(rescale_label(test_pred.numpy()), rescale_label(y_test.numpy()))\n",
    "print(MAE)"
   ]
  },
  {
   "cell_type": "code",
   "execution_count": 44,
   "metadata": {},
   "outputs": [
    {
     "data": {
      "image/png": "[encoded data removed]",
      "text/plain": [
       "<Figure size 432x360 with 1 Axes>"
      ]
     },
     "metadata": {
      "needs_background": "light"
     },
     "output_type": "display_data"
    },
    {
     "name": "stdout",
     "output_type": "stream",
     "text": [
      "1987.3327278231911\n"
     ]
    }
   ],
   "source": [
    "train_pred = T.squeeze(model(X_train).detach())\n",
    "plot(rescale_label(train_pred.numpy()), rescale_label(y_train.numpy()), 'Training', 'blue')\n",
    "MAE = calc_MAE(rescale_label(train_pred.numpy()), rescale_label(y_train.numpy()))\n",
    "print(MAE)"
   ]
  },
  {
   "cell_type": "code",
   "execution_count": null,
   "metadata": {},
   "outputs": [],
   "source": []
  },
  {
   "cell_type": "code",
   "execution_count": null,
   "metadata": {},
   "outputs": [],
   "source": []
  }
 ],
 "metadata": {
  "kernelspec": {
   "display_name": "Python 3",
   "language": "python",
   "name": "python3"
  },
  "language_info": {
   "codemirror_mode": {
    "name": "ipython",
    "version": 3
   },
   "file_extension": ".py",
   "mimetype": "text/x-python",
   "name": "python",
   "nbconvert_exporter": "python",
   "pygments_lexer": "ipython3",
   "version": "3.7.9"
  }
 },
 "nbformat": 4,
 "nbformat_minor": 4
}
